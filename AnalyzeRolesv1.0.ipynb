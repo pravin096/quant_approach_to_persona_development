{
 "cells": [
  {
   "cell_type": "markdown",
   "metadata": {},
   "source": [
    "#### This notebook contains code to analyze data using results from clustering model. A diagrammatic representation of the model development and data analysis approach is shown below:\n",
    "\n",
    "<img alt=\"Diagrammatic representation of the analysis approach\" src=\"static/QuantAnalysisApproach.png\" title = \"Model Dev and Analysis Approach\"/>\n",
    "\n",
    "#### <br>  The <strong> <em> Develop Model </em> </strong>  part is covered in a separate notebook - <em> DevelopModel.ipynb </em>\n",
    "\n",
    "#### <br>  The <strong> <em> Analyze Results </em> </strong>  part is covered in this notebook\n",
    "\n",
    "#### <br> Packages used:\n",
    "|No.|Package Name|Version #|\n",
    "|---|------------|---------|\n",
    "|1|numpy|1.17.0|\n",
    "|2|pandas|1.1.3|\n",
    "|3| plotly|4.14.3 |\n",
    "|4| scikitlearn|0.23.2 |\n",
    "|5| scipy|1.5.2|"
   ]
  },
  {
   "cell_type": "code",
   "execution_count": 1,
   "metadata": {},
   "outputs": [],
   "source": [
    "import numpy as np\n",
    "import pandas as pd\n",
    "\n",
    "import plotly.express as px\n"
   ]
  },
  {
   "cell_type": "markdown",
   "metadata": {},
   "source": [
    "## I.\tWhat are the distinct personas of professionals surveyed by Stackoverflow, given the diversity of the roles and the corresponding goals and objectives both for the organization and the professionals?"
   ]
  },
  {
   "cell_type": "markdown",
   "metadata": {},
   "source": [
    "#### We load the cleaned dataset (which also contains the groups created using a K means clustering algorithm), aggregate and visualize data to answer the above question"
   ]
  },
  {
   "cell_type": "code",
   "execution_count": 2,
   "metadata": {},
   "outputs": [
    {
     "data": {
      "text/html": [
       "<div>\n",
       "<style scoped>\n",
       "    .dataframe tbody tr th:only-of-type {\n",
       "        vertical-align: middle;\n",
       "    }\n",
       "\n",
       "    .dataframe tbody tr th {\n",
       "        vertical-align: top;\n",
       "    }\n",
       "\n",
       "    .dataframe thead th {\n",
       "        text-align: right;\n",
       "    }\n",
       "</style>\n",
       "<table border=\"1\" class=\"dataframe\">\n",
       "  <thead>\n",
       "    <tr style=\"text-align: right;\">\n",
       "      <th></th>\n",
       "      <th>Respondent</th>\n",
       "      <th>MainBranch</th>\n",
       "      <th>Hobbyist</th>\n",
       "      <th>Age</th>\n",
       "      <th>Age1stCode</th>\n",
       "      <th>CompFreq</th>\n",
       "      <th>CompTotal</th>\n",
       "      <th>ConvertedComp</th>\n",
       "      <th>Country</th>\n",
       "      <th>CurrencyDesc</th>\n",
       "      <th>...</th>\n",
       "      <th>Ef_Num_DT_DevFrontEnd</th>\n",
       "      <th>Ef_Num_DT_DevEmbedApps</th>\n",
       "      <th>Ef_Num_DT_DevGameOrGraphics</th>\n",
       "      <th>Ef_Num_DT_Designer</th>\n",
       "      <th>Ef_Num_DT_Scientist</th>\n",
       "      <th>Ef_Num_DT_DevMob</th>\n",
       "      <th>Ef_Num_DT_DevQATest</th>\n",
       "      <th>Ef_Num_DT_DevDeskOrEntApps</th>\n",
       "      <th>Ef_Num_DT_AcadResearch</th>\n",
       "      <th>Ef_Cat_DeveloperSegment</th>\n",
       "    </tr>\n",
       "  </thead>\n",
       "  <tbody>\n",
       "    <tr>\n",
       "      <th>7</th>\n",
       "      <td>8</td>\n",
       "      <td>I am a developer by profession</td>\n",
       "      <td>Yes</td>\n",
       "      <td>36.0</td>\n",
       "      <td>12</td>\n",
       "      <td>Yearly</td>\n",
       "      <td>116000.0</td>\n",
       "      <td>116000.0</td>\n",
       "      <td>United States</td>\n",
       "      <td>United States dollar</td>\n",
       "      <td>...</td>\n",
       "      <td>205273.655261</td>\n",
       "      <td>206650.780408</td>\n",
       "      <td>235207.992063</td>\n",
       "      <td>207681.71528</td>\n",
       "      <td>208198.658609</td>\n",
       "      <td>207637.436534</td>\n",
       "      <td>210975.050212</td>\n",
       "      <td>212536.966460</td>\n",
       "      <td>210756.520125</td>\n",
       "      <td>0</td>\n",
       "    </tr>\n",
       "    <tr>\n",
       "      <th>13</th>\n",
       "      <td>14</td>\n",
       "      <td>I am a developer by profession</td>\n",
       "      <td>Yes</td>\n",
       "      <td>27.0</td>\n",
       "      <td>13</td>\n",
       "      <td>Yearly</td>\n",
       "      <td>66000.0</td>\n",
       "      <td>66000.0</td>\n",
       "      <td>United States</td>\n",
       "      <td>United States dollar</td>\n",
       "      <td>...</td>\n",
       "      <td>215996.556045</td>\n",
       "      <td>206650.780408</td>\n",
       "      <td>207930.254047</td>\n",
       "      <td>207681.71528</td>\n",
       "      <td>208198.658609</td>\n",
       "      <td>207637.436534</td>\n",
       "      <td>210975.050212</td>\n",
       "      <td>212536.966460</td>\n",
       "      <td>210756.520125</td>\n",
       "      <td>0</td>\n",
       "    </tr>\n",
       "    <tr>\n",
       "      <th>16</th>\n",
       "      <td>17</td>\n",
       "      <td>I am a developer by profession</td>\n",
       "      <td>Yes</td>\n",
       "      <td>25.0</td>\n",
       "      <td>14</td>\n",
       "      <td>Yearly</td>\n",
       "      <td>79000.0</td>\n",
       "      <td>79000.0</td>\n",
       "      <td>United States</td>\n",
       "      <td>United States dollar</td>\n",
       "      <td>...</td>\n",
       "      <td>205273.655261</td>\n",
       "      <td>206650.780408</td>\n",
       "      <td>207930.254047</td>\n",
       "      <td>207681.71528</td>\n",
       "      <td>208198.658609</td>\n",
       "      <td>207637.436534</td>\n",
       "      <td>210975.050212</td>\n",
       "      <td>208157.004262</td>\n",
       "      <td>210756.520125</td>\n",
       "      <td>0</td>\n",
       "    </tr>\n",
       "    <tr>\n",
       "      <th>17</th>\n",
       "      <td>18</td>\n",
       "      <td>I am a developer by profession</td>\n",
       "      <td>Yes</td>\n",
       "      <td>32.0</td>\n",
       "      <td>12</td>\n",
       "      <td>Monthly</td>\n",
       "      <td>105000.0</td>\n",
       "      <td>1260000.0</td>\n",
       "      <td>United States</td>\n",
       "      <td>United States dollar</td>\n",
       "      <td>...</td>\n",
       "      <td>205273.655261</td>\n",
       "      <td>206650.780408</td>\n",
       "      <td>207930.254047</td>\n",
       "      <td>207681.71528</td>\n",
       "      <td>208198.658609</td>\n",
       "      <td>207637.436534</td>\n",
       "      <td>210975.050212</td>\n",
       "      <td>208157.004262</td>\n",
       "      <td>210756.520125</td>\n",
       "      <td>0</td>\n",
       "    </tr>\n",
       "    <tr>\n",
       "      <th>18</th>\n",
       "      <td>19</td>\n",
       "      <td>I am a developer by profession</td>\n",
       "      <td>No</td>\n",
       "      <td>24.0</td>\n",
       "      <td>15</td>\n",
       "      <td>Yearly</td>\n",
       "      <td>83400.0</td>\n",
       "      <td>83400.0</td>\n",
       "      <td>United States</td>\n",
       "      <td>United States dollar</td>\n",
       "      <td>...</td>\n",
       "      <td>205273.655261</td>\n",
       "      <td>206650.780408</td>\n",
       "      <td>207930.254047</td>\n",
       "      <td>207681.71528</td>\n",
       "      <td>208198.658609</td>\n",
       "      <td>207637.436534</td>\n",
       "      <td>210975.050212</td>\n",
       "      <td>208157.004262</td>\n",
       "      <td>210756.520125</td>\n",
       "      <td>0</td>\n",
       "    </tr>\n",
       "  </tbody>\n",
       "</table>\n",
       "<p>5 rows × 108 columns</p>\n",
       "</div>"
      ],
      "text/plain": [
       "    Respondent                      MainBranch Hobbyist   Age Age1stCode  \\\n",
       "7            8  I am a developer by profession      Yes  36.0         12   \n",
       "13          14  I am a developer by profession      Yes  27.0         13   \n",
       "16          17  I am a developer by profession      Yes  25.0         14   \n",
       "17          18  I am a developer by profession      Yes  32.0         12   \n",
       "18          19  I am a developer by profession       No  24.0         15   \n",
       "\n",
       "   CompFreq  CompTotal  ConvertedComp        Country          CurrencyDesc  \\\n",
       "7    Yearly   116000.0       116000.0  United States  United States dollar   \n",
       "13   Yearly    66000.0        66000.0  United States  United States dollar   \n",
       "16   Yearly    79000.0        79000.0  United States  United States dollar   \n",
       "17  Monthly   105000.0      1260000.0  United States  United States dollar   \n",
       "18   Yearly    83400.0        83400.0  United States  United States dollar   \n",
       "\n",
       "    ... Ef_Num_DT_DevFrontEnd Ef_Num_DT_DevEmbedApps  \\\n",
       "7   ...         205273.655261          206650.780408   \n",
       "13  ...         215996.556045          206650.780408   \n",
       "16  ...         205273.655261          206650.780408   \n",
       "17  ...         205273.655261          206650.780408   \n",
       "18  ...         205273.655261          206650.780408   \n",
       "\n",
       "   Ef_Num_DT_DevGameOrGraphics Ef_Num_DT_Designer Ef_Num_DT_Scientist  \\\n",
       "7                235207.992063       207681.71528       208198.658609   \n",
       "13               207930.254047       207681.71528       208198.658609   \n",
       "16               207930.254047       207681.71528       208198.658609   \n",
       "17               207930.254047       207681.71528       208198.658609   \n",
       "18               207930.254047       207681.71528       208198.658609   \n",
       "\n",
       "   Ef_Num_DT_DevMob Ef_Num_DT_DevQATest Ef_Num_DT_DevDeskOrEntApps  \\\n",
       "7     207637.436534       210975.050212              212536.966460   \n",
       "13    207637.436534       210975.050212              212536.966460   \n",
       "16    207637.436534       210975.050212              208157.004262   \n",
       "17    207637.436534       210975.050212              208157.004262   \n",
       "18    207637.436534       210975.050212              208157.004262   \n",
       "\n",
       "   Ef_Num_DT_AcadResearch Ef_Cat_DeveloperSegment  \n",
       "7           210756.520125                       0  \n",
       "13          210756.520125                       0  \n",
       "16          210756.520125                       0  \n",
       "17          210756.520125                       0  \n",
       "18          210756.520125                       0  \n",
       "\n",
       "[5 rows x 108 columns]"
      ]
     },
     "execution_count": 2,
     "metadata": {},
     "output_type": "execute_result"
    }
   ],
   "source": [
    "#Read us community df generated from cluster analysis\n",
    "us_community_df = pd.read_csv('data/us_community_df.csv',index_col=0)\n",
    "us_community_df.head()"
   ]
  },
  {
   "cell_type": "code",
   "execution_count": 3,
   "metadata": {},
   "outputs": [],
   "source": [
    "def format_cluster_headers(mean_comp,input_df):\n",
    "    '''\n",
    "    INPUT\n",
    "        mean_comp - Mean compensation level across clusters (excluding missing values and outliers)\n",
    "        input_df  - Input dataframe containing model input and outputs i.e. predicted clusters\n",
    "    OUTPUT\n",
    "        clust_hdr_lst - list containing cluster headers indicating extent of compensation level over mean value \n",
    "    '''\n",
    "    \n",
    "    pct_above_mean_comp = input_df['mean']/mean_comp\n",
    "    pct_above_std_comp = input_df['std']/std_comp\n",
    "    \n",
    "    comp_matrix = pct_above_mean_comp.to_frame()\n",
    "    comp_matrix.columns = ['Percentage']\n",
    "    comp_matrix = comp_matrix.T\n",
    "    comp_matrix_values = comp_matrix.values\n",
    "    i=0\n",
    "    clust_hdr_lst=[]\n",
    "    for i in range(len(comp_matrix.values[0])):\n",
    "        hdr_value = '<b>Grp' + str(i) + ' - CompvsMean: ' + str(round(comp_matrix.values[0][i],2))\n",
    "        clust_hdr_lst.append(hdr_value)\n",
    "        i+=1\n",
    "    \n",
    "    return clust_hdr_lst\n",
    "\n",
    "\n",
    "def group_data_for_viz(input_df,group_colname_lst,disp_colname=''):\n",
    "    '''\n",
    "    INPUT\n",
    "        input_df           - Input dataframe containing data to be grouped\n",
    "        group_colname_list - list containing the column names on which grouping needs to be done\n",
    "        disp_colname       - display column name (in case only given column is required for \n",
    "                             visualization); default value is blank i.e. entire dataset \n",
    "                             resulting from groupby operation\n",
    "    OUTPUT\n",
    "        df_g               - Dataset resulting from groupby operation\n",
    "    '''\n",
    "    #Compute figures required to display the chart\n",
    "    df_g = input_df.groupby(group_colname_lst).size().reset_index()\n",
    "    df_g['percentage'] = input_df.groupby(group_colname_lst).size().groupby(level=0).apply(lambda x: 100 * x / float(x.sum())).values\n",
    "    df_g.percentage = df_g.percentage.round(2)\n",
    "    agg_colnames = ['Count','Percentage']\n",
    "    group_data_colname_lst = group_colname_lst + agg_colnames\n",
    "    df_g.columns = group_data_colname_lst\n",
    "    if disp_colname == '':\n",
    "        return df_g\n",
    "    else:\n",
    "        df_g = df_g[df_g[disp_colname]==1]\n",
    "        return df_g\n",
    "\n",
    "def create_matrix(row,devtype,output_df):\n",
    "    '''\n",
    "    INPUT\n",
    "        row       - Input row containing data to be aggregated\n",
    "        devtype   - Each value of the developer type categorical variable \n",
    "        output_df - Updated output_df dataframe with the data contained in the input row\n",
    "    OUTPUT\n",
    "        None\n",
    "    '''\n",
    "    #devtype=row[colname]\n",
    "    group=row['Ef_Cat_DeveloperSegment']\n",
    "    percentage=row['Percentage']\n",
    "    output_df.loc[devtype, group]= percentage\n",
    "    return \n",
    "\n",
    "def agg_data (input_df, clustwise_comp_df,catcol_prefix,output_df):\n",
    "    '''\n",
    "    INPUT \n",
    "        input_df          - Dataframe containing data to be aggregated \n",
    "        catcol_prefix     - Category column prefix to be aggegrated \n",
    "        clustwise_comp_df - Cluster/ group header list\n",
    "    OUTPUT\n",
    "        output_df     - Aggregated data by Clustered groups\n",
    "    '''\n",
    "    \n",
    "    catcol_list = [col for col in input_df.columns if catcol_prefix in col]\n",
    "    catcol_prefix_index_list = catcol_list\n",
    "    catcol_prefix_index_list = [cp.replace(catcol_prefix, '') for cp in catcol_prefix_index_list] \n",
    "\n",
    "    #groups=input_df.Ef_Cat_DeveloperSegment.unique().tolist()\n",
    "    output_df=pd.DataFrame(data=0, index=catcol_prefix_index_list, columns=input_df.Ef_Cat_DeveloperSegment.unique().tolist()).sort_index()\n",
    "\n",
    "    catcol_prefix_catcol_list = [col for col in input_df.columns if catcol_prefix in col]\n",
    "    i=0\n",
    "    for col in catcol_prefix_catcol_list:\n",
    "        groupcol_list = [col] + ['Ef_Cat_DeveloperSegment']\n",
    "        #print(\"group col\",groupcol_list)\n",
    "        #print(\"col\",col)\n",
    "        df_g = group_data_for_viz(input_df,groupcol_list,col)\n",
    "        df_g.apply(lambda row : create_matrix(row,catcol_prefix_index_list[i],output_df), axis=1)\n",
    "        i+=1\n",
    "\n",
    "    newcolname_lst=[]\n",
    "    for col in output_df.columns:\n",
    "        newcolname = clustwise_comp_df[clustwise_comp_df.index == col].Ef_Cat_DeveloperSegmentDesc.values[0]\n",
    "        newcolname_lst.append(newcolname)\n",
    "    output_df.columns=newcolname_lst #rename columns\n",
    "\n",
    "    output_df=output_df/100\n",
    "    return output_df\n",
    "\n",
    "def plot_heatmap(input_df,plot_title,plot_height,plot_width,html_filename,y=''):\n",
    "    '''\n",
    "    INPUT\n",
    "        input_df - Dataframe containing the data to be plotted\n",
    "        title    - plot title\n",
    "        plot_height   - plot height \n",
    "        plot_width    - plot width\n",
    "    \n",
    "    OUTPUT\n",
    "        None\n",
    "    '''\n",
    "\n",
    "    import plotly.express as px\n",
    "    fig = px.imshow(input_df,\n",
    "                    labels=dict(x=\"<b>DS Community Group<b>\", y=\"<b>Roles<b>\",color=\"<b>Percentage<b>\"),title=plot_title,\n",
    "                    x=input_df.columns,#['Group 0','Group 1','Group 2','Group 3'],\n",
    "                    y=input_df.index,width=plot_width, height=plot_height\n",
    "                   )\n",
    "    fig.update_xaxes(side=\"bottom\")\n",
    "    if y == 'str':\n",
    "        fig.update_yaxes(type='category')\n",
    "    \n",
    "    import plotly.io as pio\n",
    "    pio.write_html(fig, file=html_filename, auto_open=True)\n",
    "    \n",
    "    fig.show()\n",
    "    pass\n",
    "\n",
    "def create_cont_matrix(row,agg_colname,output_df,mat_type='PCT'):\n",
    "    '''\n",
    "    INPUT\n",
    "        row         - Data in each row for which contigency matrix needs to be created\n",
    "        agg_colname - Data element i.e. Column name which constitutes the row in the contingency matrix\n",
    "        output_df   - Contingency matrix dataset\n",
    "        mat_type    - Indicator variable to indicate the column used for aggregating \n",
    "                      PCT - 'Percentage', 'RPCT' - Relative Percentage, or Count \n",
    "    OUTPUT\n",
    "        None\n",
    "    '''\n",
    "    #devtype=row[colname]\n",
    "    group=row['Ef_Cat_DeveloperSegment']\n",
    "    if mat_type == 'PCT':\n",
    "        value=row['Percentage']\n",
    "    else:\n",
    "        if mat_type == 'RPCT': #relative pct\n",
    "            value=row['Relative_Pct']\n",
    "        else:\n",
    "            value=row['Count']\n",
    "    #ind = int(row[agg_colname])\n",
    "    output_df.loc[row[agg_colname], group]= value\n",
    "    pass\n",
    "\n",
    "## Functions to perform statistical tests \n",
    "def perform_chi_square_test(input_df,prob=0.95):\n",
    "    '''\n",
    "    INPUT\n",
    "        input_df   - Input dataframe containing a contingency matrix of counts of combinations of \n",
    "                     pair of categorical variables to be tested for independence\n",
    "        prob       - Probability level - default is 0.95; meaning alpha of 0.05\n",
    "    OUTPUT\n",
    "        None\n",
    "    '''\n",
    "    # chi-squared test with similar proportions\n",
    "    from scipy.stats import chi2_contingency\n",
    "    from scipy.stats import chi2\n",
    "\n",
    "    cont_matrix_values = input_df.values\n",
    "    stat, p, dof, expected = chi2_contingency(cont_matrix_values)\n",
    "    print('dof=%d' % dof)\n",
    "    print(expected)\n",
    "    # interpret test-statistic\n",
    "    prob = 0.95\n",
    "    critical = chi2.ppf(prob, dof)\n",
    "    print('probability=%.3f, critical=%.3f, stat=%.3f' % (prob, critical, stat))\n",
    "    if abs(stat) >= critical:\n",
    "        print('Result based on test statistic: Dependent (Reject null hypothesis H0)')\n",
    "    else:\n",
    "        print('Result based on test statistic: Independent (Fail to reject null hypothesis H0)')\n",
    "    # interpret p-value\n",
    "    alpha = 1.0 - prob\n",
    "    print('significance=%.3f, p=%.3f' % (alpha, p))\n",
    "    if p <= alpha:\n",
    "        print('Result based on p-value: Dependent (Reject null hypothesis H0)')\n",
    "    else:\n",
    "        print('Result based on p-value: Independent (Fail to reject null hypothesis H0)')\n",
    "    \n",
    "    pass"
   ]
  },
  {
   "cell_type": "code",
   "execution_count": 4,
   "metadata": {},
   "outputs": [
    {
     "data": {
      "text/html": [
       "<div>\n",
       "<style scoped>\n",
       "    .dataframe tbody tr th:only-of-type {\n",
       "        vertical-align: middle;\n",
       "    }\n",
       "\n",
       "    .dataframe tbody tr th {\n",
       "        vertical-align: top;\n",
       "    }\n",
       "\n",
       "    .dataframe thead th {\n",
       "        text-align: right;\n",
       "    }\n",
       "</style>\n",
       "<table border=\"1\" class=\"dataframe\">\n",
       "  <thead>\n",
       "    <tr style=\"text-align: right;\">\n",
       "      <th></th>\n",
       "      <th>mean</th>\n",
       "      <th>std</th>\n",
       "      <th>Ef_Cat_DeveloperSegmentDesc</th>\n",
       "      <th>relative_mean_multiple</th>\n",
       "      <th>relative_sd_multiple</th>\n",
       "      <th>persona</th>\n",
       "    </tr>\n",
       "    <tr>\n",
       "      <th>Ef_Cat_DeveloperSegment</th>\n",
       "      <th></th>\n",
       "      <th></th>\n",
       "      <th></th>\n",
       "      <th></th>\n",
       "      <th></th>\n",
       "      <th></th>\n",
       "    </tr>\n",
       "  </thead>\n",
       "  <tbody>\n",
       "    <tr>\n",
       "      <th>0</th>\n",
       "      <td>202379.349616</td>\n",
       "      <td>370638.739923</td>\n",
       "      <td>&lt;b&gt;Grp0: Mean x: 0.97; SD x :0.99</td>\n",
       "      <td>0.97</td>\n",
       "      <td>0.99</td>\n",
       "      <td>DigiSolDev</td>\n",
       "    </tr>\n",
       "    <tr>\n",
       "      <th>1</th>\n",
       "      <td>186367.700913</td>\n",
       "      <td>305363.827759</td>\n",
       "      <td>&lt;b&gt;Grp1: Mean x: 0.89; SD x :0.82</td>\n",
       "      <td>0.89</td>\n",
       "      <td>0.82</td>\n",
       "      <td>DataProductDeploy</td>\n",
       "    </tr>\n",
       "    <tr>\n",
       "      <th>2</th>\n",
       "      <td>247466.628906</td>\n",
       "      <td>426473.203576</td>\n",
       "      <td>&lt;b&gt;Grp2: Mean x: 1.18; SD x :1.14</td>\n",
       "      <td>1.18</td>\n",
       "      <td>1.14</td>\n",
       "      <td>MidMgmt</td>\n",
       "    </tr>\n",
       "    <tr>\n",
       "      <th>3</th>\n",
       "      <td>263221.188291</td>\n",
       "      <td>462685.640351</td>\n",
       "      <td>&lt;b&gt;Grp3: Mean x: 1.26; SD x :1.24</td>\n",
       "      <td>1.26</td>\n",
       "      <td>1.24</td>\n",
       "      <td>DataProductDev</td>\n",
       "    </tr>\n",
       "    <tr>\n",
       "      <th>4</th>\n",
       "      <td>220593.636015</td>\n",
       "      <td>387734.175737</td>\n",
       "      <td>&lt;b&gt;Grp4: Mean x: 1.05; SD x :1.04</td>\n",
       "      <td>1.05</td>\n",
       "      <td>1.04</td>\n",
       "      <td>EmbedAppDev</td>\n",
       "    </tr>\n",
       "    <tr>\n",
       "      <th>5</th>\n",
       "      <td>161594.786408</td>\n",
       "      <td>278170.223100</td>\n",
       "      <td>&lt;b&gt;Grp5: Mean x: 0.77; SD x :0.74</td>\n",
       "      <td>0.77</td>\n",
       "      <td>0.74</td>\n",
       "      <td>AcadNDSRnD</td>\n",
       "    </tr>\n",
       "    <tr>\n",
       "      <th>6</th>\n",
       "      <td>221591.712919</td>\n",
       "      <td>283339.088021</td>\n",
       "      <td>&lt;b&gt;Grp6: Mean x: 1.06; SD x :0.76</td>\n",
       "      <td>1.06</td>\n",
       "      <td>0.76</td>\n",
       "      <td>SeniorMgmt</td>\n",
       "    </tr>\n",
       "    <tr>\n",
       "      <th>7</th>\n",
       "      <td>224470.773463</td>\n",
       "      <td>351382.498172</td>\n",
       "      <td>&lt;b&gt;Grp7: Mean x: 1.07; SD x :0.94</td>\n",
       "      <td>1.07</td>\n",
       "      <td>0.94</td>\n",
       "      <td>TechOpsMgmt</td>\n",
       "    </tr>\n",
       "  </tbody>\n",
       "</table>\n",
       "</div>"
      ],
      "text/plain": [
       "                                  mean            std  \\\n",
       "Ef_Cat_DeveloperSegment                                 \n",
       "0                        202379.349616  370638.739923   \n",
       "1                        186367.700913  305363.827759   \n",
       "2                        247466.628906  426473.203576   \n",
       "3                        263221.188291  462685.640351   \n",
       "4                        220593.636015  387734.175737   \n",
       "5                        161594.786408  278170.223100   \n",
       "6                        221591.712919  283339.088021   \n",
       "7                        224470.773463  351382.498172   \n",
       "\n",
       "                               Ef_Cat_DeveloperSegmentDesc  \\\n",
       "Ef_Cat_DeveloperSegment                                      \n",
       "0                        <b>Grp0: Mean x: 0.97; SD x :0.99   \n",
       "1                        <b>Grp1: Mean x: 0.89; SD x :0.82   \n",
       "2                        <b>Grp2: Mean x: 1.18; SD x :1.14   \n",
       "3                        <b>Grp3: Mean x: 1.26; SD x :1.24   \n",
       "4                        <b>Grp4: Mean x: 1.05; SD x :1.04   \n",
       "5                        <b>Grp5: Mean x: 0.77; SD x :0.74   \n",
       "6                        <b>Grp6: Mean x: 1.06; SD x :0.76   \n",
       "7                        <b>Grp7: Mean x: 1.07; SD x :0.94   \n",
       "\n",
       "                         relative_mean_multiple  relative_sd_multiple  \\\n",
       "Ef_Cat_DeveloperSegment                                                 \n",
       "0                                          0.97                  0.99   \n",
       "1                                          0.89                  0.82   \n",
       "2                                          1.18                  1.14   \n",
       "3                                          1.26                  1.24   \n",
       "4                                          1.05                  1.04   \n",
       "5                                          0.77                  0.74   \n",
       "6                                          1.06                  0.76   \n",
       "7                                          1.07                  0.94   \n",
       "\n",
       "                                   persona  \n",
       "Ef_Cat_DeveloperSegment                     \n",
       "0                               DigiSolDev  \n",
       "1                        DataProductDeploy  \n",
       "2                                  MidMgmt  \n",
       "3                           DataProductDev  \n",
       "4                              EmbedAppDev  \n",
       "5                               AcadNDSRnD  \n",
       "6                               SeniorMgmt  \n",
       "7                              TechOpsMgmt  "
      ]
     },
     "execution_count": 4,
     "metadata": {},
     "output_type": "execute_result"
    }
   ],
   "source": [
    "# Determine the percentile rank of compensation level and create a categorical variable indicating\n",
    "# the quartile in which the compensation level for each observation falls\n",
    "us_community_df['Ef_PercentileConvComp'] = us_community_df.ConvertedComp.rank(pct = True)\n",
    "us_community_df ['Ef_Cat_ConvertedCompQuartile'] = np.where(us_community_df['Ef_PercentileConvComp']<=0.25,1,\n",
    "                                                   np.where((us_community_df['Ef_PercentileConvComp'] > 0.25) & (us_community_df['Ef_PercentileConvComp'] <= 0.5),2,\n",
    "                                                   np.where(us_community_df['Ef_PercentileConvComp'] > 0.75,4,3)))\n",
    "\n",
    "#Create a dataframe containing relative compensative levels of each group from mean and variability perspectives\n",
    "country_mean =  us_community_df.ConvertedComp.mean()\n",
    "country_std = us_community_df.ConvertedComp.std()\n",
    "clustwise_comp_df = us_community_df.groupby(['Ef_Cat_DeveloperSegment']).describe() ['ConvertedComp'].loc[:,['mean','std']]\n",
    "clustwise_comp_df ['Ef_Cat_DeveloperSegmentDesc'] = '<b>Grp' + clustwise_comp_df.index.astype(str) + ': Mean x: ' + round(clustwise_comp_df ['mean'] / country_mean,2).astype(str) + '; SD x :' + round(clustwise_comp_df ['std'] / country_std,2).astype(str)  \n",
    "clustwise_comp_df ['relative_mean_multiple'] = round(clustwise_comp_df ['mean'] / country_mean,2)\n",
    "clustwise_comp_df ['relative_sd_multiple'] = round(clustwise_comp_df ['std'] / country_std,2)\n",
    "persona = ['DigiSolDev','DataProductDeploy','MidMgmt','DataProductDev','EmbedAppDev','AcadNDSRnD',\n",
    "          'SeniorMgmt','TechOpsMgmt']\n",
    "clustwise_comp_df ['persona'] = persona\n",
    "clustwise_comp_df"
   ]
  },
  {
   "cell_type": "code",
   "execution_count": 6,
   "metadata": {},
   "outputs": [
    {
     "data": {
      "application/vnd.plotly.v1+json": {
       "config": {
        "plotlyServerURL": "https://plot.ly"
       },
       "data": [
        {
         "coloraxis": "coloraxis",
         "hovertemplate": "<b>DS Community Group<b>: %{x}<br><b>Roles<b>: %{y}<br><b>Percentage<b>: %{z}<extra></extra>",
         "name": "0",
         "type": "heatmap",
         "x": [
          "<b>Grp0: Mean x: 0.97; SD x :0.99",
          "<b>Grp2: Mean x: 1.18; SD x :1.14",
          "<b>Grp6: Mean x: 1.06; SD x :0.76",
          "<b>Grp4: Mean x: 1.05; SD x :1.04",
          "<b>Grp1: Mean x: 0.89; SD x :0.82",
          "<b>Grp7: Mean x: 1.07; SD x :0.94",
          "<b>Grp3: Mean x: 1.26; SD x :1.24",
          "<b>Grp5: Mean x: 0.77; SD x :0.74"
         ],
         "xaxis": "x",
         "y": [
          "AcadResearch",
          "DBA",
          "DSOrMLSpecialist",
          "DataEr",
          "DataOrBA",
          "Designer",
          "DevBackend",
          "DevDeskOrEntApps",
          "DevEmbedApps",
          "DevFrontEnd",
          "DevGameOrGraphics",
          "DevMob",
          "DevOpsSpecialist",
          "DevQATest",
          "DeveloperFullStack",
          "Educator",
          "EnggMgr",
          "ErSiteReliab",
          "ProductMgr",
          "SalesOrMktg",
          "Scientist",
          "SeniorExecOrVP",
          "SysAdmin"
         ],
         "yaxis": "y",
         "z": [
          [
           0,
           0.0337,
           0.0311,
           0.0026,
           0.044000000000000004,
           0.0026,
           0.35229999999999995,
           0.5337
          ],
          [
           0.47759999999999997,
           0.08839999999999999,
           0.0645,
           0.0489,
           0.1072,
           0.0593,
           0.1363,
           0.0177
          ],
          [
           0,
           0,
           0,
           0,
           0,
           0,
           1,
           0
          ],
          [
           0,
           0.0414,
           0.0373,
           0,
           0.605,
           0,
           0.30519999999999997,
           0.011000000000000001
          ],
          [
           0.39759999999999995,
           0.07980000000000001,
           0.0426,
           0.0319,
           0.10769999999999999,
           0.0106,
           0.3032,
           0.026600000000000002
          ],
          [
           0.5364,
           0.1045,
           0.0528,
           0.09269999999999999,
           0.06570000000000001,
           0.0258,
           0.0951,
           0.027000000000000003
          ],
          [
           0.6625,
           0.0334,
           0.0311,
           0.0717,
           0.0668,
           0.050199999999999995,
           0.067,
           0.0173
          ],
          [
           0.6213000000000001,
           0.0433,
           0.0361,
           0.13419999999999999,
           0.0557,
           0.0273,
           0.0588,
           0.0232
          ],
          [
           0,
           0.037000000000000005,
           0.0466,
           0.716,
           0.0617,
           0.0055000000000000005,
           0.1056,
           0.0274
          ],
          [
           0.7256999999999999,
           0.0467,
           0.0268,
           0.0691,
           0.0437,
           0.0271,
           0.042699999999999995,
           0.0183
          ],
          [
           0.5847,
           0.0397,
           0.045,
           0.1376,
           0.042300000000000004,
           0.0159,
           0.08990000000000001,
           0.045
          ],
          [
           0.6478,
           0.0548,
           0.0521,
           0.1249,
           0.0377,
           0.016200000000000003,
           0.0521,
           0.0144
          ],
          [
           0.49200000000000005,
           0.057,
           0.038599999999999995,
           0.0604,
           0.0821,
           0.15839999999999999,
           0.0897,
           0.0218
          ],
          [
           0.5816,
           0.06860000000000001,
           0.043899999999999995,
           0.08779999999999999,
           0.0754,
           0.0535,
           0.0658,
           0.0233
          ],
          [
           0.7421,
           0.0353,
           0.030299999999999997,
           0.051,
           0.0438,
           0.0315,
           0.049400000000000006,
           0.0166
          ],
          [
           0.4465,
           0.0809,
           0.0574,
           0.0574,
           0.0339,
           0.026099999999999998,
           0.2089,
           0.0888
          ],
          [
           0.45189999999999997,
           0.1266,
           0.12179999999999999,
           0.0545,
           0.0593,
           0.0689,
           0.1042,
           0.0128
          ],
          [
           0,
           0.056600000000000004,
           0.0626,
           0.0182,
           0.1354,
           0.6242,
           0.0848,
           0.0182
          ],
          [
           0,
           0.7014,
           0.1589,
           0,
           0,
           0,
           0.13970000000000002,
           0
          ],
          [
           0.37929999999999997,
           0.2069,
           0.2155,
           0.0431,
           0.0431,
           0,
           0.1121,
           0
          ],
          [
           0.17489999999999997,
           0.0262,
           0.0292,
           0.0292,
           0.035,
           0.0087,
           0.4606,
           0.23620000000000002
          ],
          [
           0,
           0,
           0.8708,
           0,
           0,
           0,
           0.1292,
           0
          ],
          [
           0.43229999999999996,
           0.0762,
           0.0751,
           0.0717,
           0.08650000000000001,
           0.1286,
           0.1024,
           0.0273
          ]
         ]
        }
       ],
       "layout": {
        "coloraxis": {
         "colorbar": {
          "title": {
           "text": "<b>Percentage<b>"
          }
         },
         "colorscale": [
          [
           0,
           "#0d0887"
          ],
          [
           0.1111111111111111,
           "#46039f"
          ],
          [
           0.2222222222222222,
           "#7201a8"
          ],
          [
           0.3333333333333333,
           "#9c179e"
          ],
          [
           0.4444444444444444,
           "#bd3786"
          ],
          [
           0.5555555555555556,
           "#d8576b"
          ],
          [
           0.6666666666666666,
           "#ed7953"
          ],
          [
           0.7777777777777778,
           "#fb9f3a"
          ],
          [
           0.8888888888888888,
           "#fdca26"
          ],
          [
           1,
           "#f0f921"
          ]
         ]
        },
        "height": 1000,
        "template": {
         "data": {
          "bar": [
           {
            "error_x": {
             "color": "#2a3f5f"
            },
            "error_y": {
             "color": "#2a3f5f"
            },
            "marker": {
             "line": {
              "color": "#E5ECF6",
              "width": 0.5
             }
            },
            "type": "bar"
           }
          ],
          "barpolar": [
           {
            "marker": {
             "line": {
              "color": "#E5ECF6",
              "width": 0.5
             }
            },
            "type": "barpolar"
           }
          ],
          "carpet": [
           {
            "aaxis": {
             "endlinecolor": "#2a3f5f",
             "gridcolor": "white",
             "linecolor": "white",
             "minorgridcolor": "white",
             "startlinecolor": "#2a3f5f"
            },
            "baxis": {
             "endlinecolor": "#2a3f5f",
             "gridcolor": "white",
             "linecolor": "white",
             "minorgridcolor": "white",
             "startlinecolor": "#2a3f5f"
            },
            "type": "carpet"
           }
          ],
          "choropleth": [
           {
            "colorbar": {
             "outlinewidth": 0,
             "ticks": ""
            },
            "type": "choropleth"
           }
          ],
          "contour": [
           {
            "colorbar": {
             "outlinewidth": 0,
             "ticks": ""
            },
            "colorscale": [
             [
              0,
              "#0d0887"
             ],
             [
              0.1111111111111111,
              "#46039f"
             ],
             [
              0.2222222222222222,
              "#7201a8"
             ],
             [
              0.3333333333333333,
              "#9c179e"
             ],
             [
              0.4444444444444444,
              "#bd3786"
             ],
             [
              0.5555555555555556,
              "#d8576b"
             ],
             [
              0.6666666666666666,
              "#ed7953"
             ],
             [
              0.7777777777777778,
              "#fb9f3a"
             ],
             [
              0.8888888888888888,
              "#fdca26"
             ],
             [
              1,
              "#f0f921"
             ]
            ],
            "type": "contour"
           }
          ],
          "contourcarpet": [
           {
            "colorbar": {
             "outlinewidth": 0,
             "ticks": ""
            },
            "type": "contourcarpet"
           }
          ],
          "heatmap": [
           {
            "colorbar": {
             "outlinewidth": 0,
             "ticks": ""
            },
            "colorscale": [
             [
              0,
              "#0d0887"
             ],
             [
              0.1111111111111111,
              "#46039f"
             ],
             [
              0.2222222222222222,
              "#7201a8"
             ],
             [
              0.3333333333333333,
              "#9c179e"
             ],
             [
              0.4444444444444444,
              "#bd3786"
             ],
             [
              0.5555555555555556,
              "#d8576b"
             ],
             [
              0.6666666666666666,
              "#ed7953"
             ],
             [
              0.7777777777777778,
              "#fb9f3a"
             ],
             [
              0.8888888888888888,
              "#fdca26"
             ],
             [
              1,
              "#f0f921"
             ]
            ],
            "type": "heatmap"
           }
          ],
          "heatmapgl": [
           {
            "colorbar": {
             "outlinewidth": 0,
             "ticks": ""
            },
            "colorscale": [
             [
              0,
              "#0d0887"
             ],
             [
              0.1111111111111111,
              "#46039f"
             ],
             [
              0.2222222222222222,
              "#7201a8"
             ],
             [
              0.3333333333333333,
              "#9c179e"
             ],
             [
              0.4444444444444444,
              "#bd3786"
             ],
             [
              0.5555555555555556,
              "#d8576b"
             ],
             [
              0.6666666666666666,
              "#ed7953"
             ],
             [
              0.7777777777777778,
              "#fb9f3a"
             ],
             [
              0.8888888888888888,
              "#fdca26"
             ],
             [
              1,
              "#f0f921"
             ]
            ],
            "type": "heatmapgl"
           }
          ],
          "histogram": [
           {
            "marker": {
             "colorbar": {
              "outlinewidth": 0,
              "ticks": ""
             }
            },
            "type": "histogram"
           }
          ],
          "histogram2d": [
           {
            "colorbar": {
             "outlinewidth": 0,
             "ticks": ""
            },
            "colorscale": [
             [
              0,
              "#0d0887"
             ],
             [
              0.1111111111111111,
              "#46039f"
             ],
             [
              0.2222222222222222,
              "#7201a8"
             ],
             [
              0.3333333333333333,
              "#9c179e"
             ],
             [
              0.4444444444444444,
              "#bd3786"
             ],
             [
              0.5555555555555556,
              "#d8576b"
             ],
             [
              0.6666666666666666,
              "#ed7953"
             ],
             [
              0.7777777777777778,
              "#fb9f3a"
             ],
             [
              0.8888888888888888,
              "#fdca26"
             ],
             [
              1,
              "#f0f921"
             ]
            ],
            "type": "histogram2d"
           }
          ],
          "histogram2dcontour": [
           {
            "colorbar": {
             "outlinewidth": 0,
             "ticks": ""
            },
            "colorscale": [
             [
              0,
              "#0d0887"
             ],
             [
              0.1111111111111111,
              "#46039f"
             ],
             [
              0.2222222222222222,
              "#7201a8"
             ],
             [
              0.3333333333333333,
              "#9c179e"
             ],
             [
              0.4444444444444444,
              "#bd3786"
             ],
             [
              0.5555555555555556,
              "#d8576b"
             ],
             [
              0.6666666666666666,
              "#ed7953"
             ],
             [
              0.7777777777777778,
              "#fb9f3a"
             ],
             [
              0.8888888888888888,
              "#fdca26"
             ],
             [
              1,
              "#f0f921"
             ]
            ],
            "type": "histogram2dcontour"
           }
          ],
          "mesh3d": [
           {
            "colorbar": {
             "outlinewidth": 0,
             "ticks": ""
            },
            "type": "mesh3d"
           }
          ],
          "parcoords": [
           {
            "line": {
             "colorbar": {
              "outlinewidth": 0,
              "ticks": ""
             }
            },
            "type": "parcoords"
           }
          ],
          "pie": [
           {
            "automargin": true,
            "type": "pie"
           }
          ],
          "scatter": [
           {
            "marker": {
             "colorbar": {
              "outlinewidth": 0,
              "ticks": ""
             }
            },
            "type": "scatter"
           }
          ],
          "scatter3d": [
           {
            "line": {
             "colorbar": {
              "outlinewidth": 0,
              "ticks": ""
             }
            },
            "marker": {
             "colorbar": {
              "outlinewidth": 0,
              "ticks": ""
             }
            },
            "type": "scatter3d"
           }
          ],
          "scattercarpet": [
           {
            "marker": {
             "colorbar": {
              "outlinewidth": 0,
              "ticks": ""
             }
            },
            "type": "scattercarpet"
           }
          ],
          "scattergeo": [
           {
            "marker": {
             "colorbar": {
              "outlinewidth": 0,
              "ticks": ""
             }
            },
            "type": "scattergeo"
           }
          ],
          "scattergl": [
           {
            "marker": {
             "colorbar": {
              "outlinewidth": 0,
              "ticks": ""
             }
            },
            "type": "scattergl"
           }
          ],
          "scattermapbox": [
           {
            "marker": {
             "colorbar": {
              "outlinewidth": 0,
              "ticks": ""
             }
            },
            "type": "scattermapbox"
           }
          ],
          "scatterpolar": [
           {
            "marker": {
             "colorbar": {
              "outlinewidth": 0,
              "ticks": ""
             }
            },
            "type": "scatterpolar"
           }
          ],
          "scatterpolargl": [
           {
            "marker": {
             "colorbar": {
              "outlinewidth": 0,
              "ticks": ""
             }
            },
            "type": "scatterpolargl"
           }
          ],
          "scatterternary": [
           {
            "marker": {
             "colorbar": {
              "outlinewidth": 0,
              "ticks": ""
             }
            },
            "type": "scatterternary"
           }
          ],
          "surface": [
           {
            "colorbar": {
             "outlinewidth": 0,
             "ticks": ""
            },
            "colorscale": [
             [
              0,
              "#0d0887"
             ],
             [
              0.1111111111111111,
              "#46039f"
             ],
             [
              0.2222222222222222,
              "#7201a8"
             ],
             [
              0.3333333333333333,
              "#9c179e"
             ],
             [
              0.4444444444444444,
              "#bd3786"
             ],
             [
              0.5555555555555556,
              "#d8576b"
             ],
             [
              0.6666666666666666,
              "#ed7953"
             ],
             [
              0.7777777777777778,
              "#fb9f3a"
             ],
             [
              0.8888888888888888,
              "#fdca26"
             ],
             [
              1,
              "#f0f921"
             ]
            ],
            "type": "surface"
           }
          ],
          "table": [
           {
            "cells": {
             "fill": {
              "color": "#EBF0F8"
             },
             "line": {
              "color": "white"
             }
            },
            "header": {
             "fill": {
              "color": "#C8D4E3"
             },
             "line": {
              "color": "white"
             }
            },
            "type": "table"
           }
          ]
         },
         "layout": {
          "annotationdefaults": {
           "arrowcolor": "#2a3f5f",
           "arrowhead": 0,
           "arrowwidth": 1
          },
          "autotypenumbers": "strict",
          "coloraxis": {
           "colorbar": {
            "outlinewidth": 0,
            "ticks": ""
           }
          },
          "colorscale": {
           "diverging": [
            [
             0,
             "#8e0152"
            ],
            [
             0.1,
             "#c51b7d"
            ],
            [
             0.2,
             "#de77ae"
            ],
            [
             0.3,
             "#f1b6da"
            ],
            [
             0.4,
             "#fde0ef"
            ],
            [
             0.5,
             "#f7f7f7"
            ],
            [
             0.6,
             "#e6f5d0"
            ],
            [
             0.7,
             "#b8e186"
            ],
            [
             0.8,
             "#7fbc41"
            ],
            [
             0.9,
             "#4d9221"
            ],
            [
             1,
             "#276419"
            ]
           ],
           "sequential": [
            [
             0,
             "#0d0887"
            ],
            [
             0.1111111111111111,
             "#46039f"
            ],
            [
             0.2222222222222222,
             "#7201a8"
            ],
            [
             0.3333333333333333,
             "#9c179e"
            ],
            [
             0.4444444444444444,
             "#bd3786"
            ],
            [
             0.5555555555555556,
             "#d8576b"
            ],
            [
             0.6666666666666666,
             "#ed7953"
            ],
            [
             0.7777777777777778,
             "#fb9f3a"
            ],
            [
             0.8888888888888888,
             "#fdca26"
            ],
            [
             1,
             "#f0f921"
            ]
           ],
           "sequentialminus": [
            [
             0,
             "#0d0887"
            ],
            [
             0.1111111111111111,
             "#46039f"
            ],
            [
             0.2222222222222222,
             "#7201a8"
            ],
            [
             0.3333333333333333,
             "#9c179e"
            ],
            [
             0.4444444444444444,
             "#bd3786"
            ],
            [
             0.5555555555555556,
             "#d8576b"
            ],
            [
             0.6666666666666666,
             "#ed7953"
            ],
            [
             0.7777777777777778,
             "#fb9f3a"
            ],
            [
             0.8888888888888888,
             "#fdca26"
            ],
            [
             1,
             "#f0f921"
            ]
           ]
          },
          "colorway": [
           "#636efa",
           "#EF553B",
           "#00cc96",
           "#ab63fa",
           "#FFA15A",
           "#19d3f3",
           "#FF6692",
           "#B6E880",
           "#FF97FF",
           "#FECB52"
          ],
          "font": {
           "color": "#2a3f5f"
          },
          "geo": {
           "bgcolor": "white",
           "lakecolor": "white",
           "landcolor": "#E5ECF6",
           "showlakes": true,
           "showland": true,
           "subunitcolor": "white"
          },
          "hoverlabel": {
           "align": "left"
          },
          "hovermode": "closest",
          "mapbox": {
           "style": "light"
          },
          "paper_bgcolor": "white",
          "plot_bgcolor": "#E5ECF6",
          "polar": {
           "angularaxis": {
            "gridcolor": "white",
            "linecolor": "white",
            "ticks": ""
           },
           "bgcolor": "#E5ECF6",
           "radialaxis": {
            "gridcolor": "white",
            "linecolor": "white",
            "ticks": ""
           }
          },
          "scene": {
           "xaxis": {
            "backgroundcolor": "#E5ECF6",
            "gridcolor": "white",
            "gridwidth": 2,
            "linecolor": "white",
            "showbackground": true,
            "ticks": "",
            "zerolinecolor": "white"
           },
           "yaxis": {
            "backgroundcolor": "#E5ECF6",
            "gridcolor": "white",
            "gridwidth": 2,
            "linecolor": "white",
            "showbackground": true,
            "ticks": "",
            "zerolinecolor": "white"
           },
           "zaxis": {
            "backgroundcolor": "#E5ECF6",
            "gridcolor": "white",
            "gridwidth": 2,
            "linecolor": "white",
            "showbackground": true,
            "ticks": "",
            "zerolinecolor": "white"
           }
          },
          "shapedefaults": {
           "line": {
            "color": "#2a3f5f"
           }
          },
          "ternary": {
           "aaxis": {
            "gridcolor": "white",
            "linecolor": "white",
            "ticks": ""
           },
           "baxis": {
            "gridcolor": "white",
            "linecolor": "white",
            "ticks": ""
           },
           "bgcolor": "#E5ECF6",
           "caxis": {
            "gridcolor": "white",
            "linecolor": "white",
            "ticks": ""
           }
          },
          "title": {
           "x": 0.05
          },
          "xaxis": {
           "automargin": true,
           "gridcolor": "white",
           "linecolor": "white",
           "ticks": "",
           "title": {
            "standoff": 15
           },
           "zerolinecolor": "white",
           "zerolinewidth": 2
          },
          "yaxis": {
           "automargin": true,
           "gridcolor": "white",
           "linecolor": "white",
           "ticks": "",
           "title": {
            "standoff": 15
           },
           "zerolinecolor": "white",
           "zerolinewidth": 2
          }
         }
        },
        "title": {
         "text": "<b> Exhibit 2 - Role Types across groups"
        },
        "width": 1000,
        "xaxis": {
         "anchor": "y",
         "constrain": "domain",
         "domain": [
          0,
          1
         ],
         "scaleanchor": "y",
         "side": "bottom",
         "title": {
          "text": "<b>DS Community Group<b>"
         }
        },
        "yaxis": {
         "anchor": "x",
         "autorange": "reversed",
         "constrain": "domain",
         "domain": [
          0,
          1
         ],
         "title": {
          "text": "<b>Roles<b>"
         }
        }
       }
      },
      "text/html": [
       "<div>                            <div id=\"5b83de69-2add-4ff3-9c37-c382110096a7\" class=\"plotly-graph-div\" style=\"height:1000px; width:1000px;\"></div>            <script type=\"text/javascript\">                require([\"plotly\"], function(Plotly) {                    window.PLOTLYENV=window.PLOTLYENV || {};                                    if (document.getElementById(\"5b83de69-2add-4ff3-9c37-c382110096a7\")) {                    Plotly.newPlot(                        \"5b83de69-2add-4ff3-9c37-c382110096a7\",                        [{\"coloraxis\": \"coloraxis\", \"hovertemplate\": \"<b>DS Community Group<b>: %{x}<br><b>Roles<b>: %{y}<br><b>Percentage<b>: %{z}<extra></extra>\", \"name\": \"0\", \"type\": \"heatmap\", \"x\": [\"<b>Grp0: Mean x: 0.97; SD x :0.99\", \"<b>Grp2: Mean x: 1.18; SD x :1.14\", \"<b>Grp6: Mean x: 1.06; SD x :0.76\", \"<b>Grp4: Mean x: 1.05; SD x :1.04\", \"<b>Grp1: Mean x: 0.89; SD x :0.82\", \"<b>Grp7: Mean x: 1.07; SD x :0.94\", \"<b>Grp3: Mean x: 1.26; SD x :1.24\", \"<b>Grp5: Mean x: 0.77; SD x :0.74\"], \"xaxis\": \"x\", \"y\": [\"AcadResearch\", \"DBA\", \"DSOrMLSpecialist\", \"DataEr\", \"DataOrBA\", \"Designer\", \"DevBackend\", \"DevDeskOrEntApps\", \"DevEmbedApps\", \"DevFrontEnd\", \"DevGameOrGraphics\", \"DevMob\", \"DevOpsSpecialist\", \"DevQATest\", \"DeveloperFullStack\", \"Educator\", \"EnggMgr\", \"ErSiteReliab\", \"ProductMgr\", \"SalesOrMktg\", \"Scientist\", \"SeniorExecOrVP\", \"SysAdmin\"], \"yaxis\": \"y\", \"z\": [[0.0, 0.0337, 0.0311, 0.0026, 0.044000000000000004, 0.0026, 0.35229999999999995, 0.5337], [0.47759999999999997, 0.08839999999999999, 0.0645, 0.0489, 0.1072, 0.0593, 0.1363, 0.0177], [0.0, 0.0, 0.0, 0.0, 0.0, 0.0, 1.0, 0.0], [0.0, 0.0414, 0.0373, 0.0, 0.605, 0.0, 0.30519999999999997, 0.011000000000000001], [0.39759999999999995, 0.07980000000000001, 0.0426, 0.0319, 0.10769999999999999, 0.0106, 0.3032, 0.026600000000000002], [0.5364, 0.1045, 0.0528, 0.09269999999999999, 0.06570000000000001, 0.0258, 0.0951, 0.027000000000000003], [0.6625, 0.0334, 0.0311, 0.0717, 0.0668, 0.050199999999999995, 0.067, 0.0173], [0.6213000000000001, 0.0433, 0.0361, 0.13419999999999999, 0.0557, 0.0273, 0.0588, 0.0232], [0.0, 0.037000000000000005, 0.0466, 0.716, 0.0617, 0.0055000000000000005, 0.1056, 0.0274], [0.7256999999999999, 0.0467, 0.0268, 0.0691, 0.0437, 0.0271, 0.042699999999999995, 0.0183], [0.5847, 0.0397, 0.045, 0.1376, 0.042300000000000004, 0.0159, 0.08990000000000001, 0.045], [0.6478, 0.0548, 0.0521, 0.1249, 0.0377, 0.016200000000000003, 0.0521, 0.0144], [0.49200000000000005, 0.057, 0.038599999999999995, 0.0604, 0.0821, 0.15839999999999999, 0.0897, 0.0218], [0.5816, 0.06860000000000001, 0.043899999999999995, 0.08779999999999999, 0.0754, 0.0535, 0.0658, 0.0233], [0.7421, 0.0353, 0.030299999999999997, 0.051, 0.0438, 0.0315, 0.049400000000000006, 0.0166], [0.4465, 0.0809, 0.0574, 0.0574, 0.0339, 0.026099999999999998, 0.2089, 0.0888], [0.45189999999999997, 0.1266, 0.12179999999999999, 0.0545, 0.0593, 0.0689, 0.1042, 0.0128], [0.0, 0.056600000000000004, 0.0626, 0.0182, 0.1354, 0.6242, 0.0848, 0.0182], [0.0, 0.7014, 0.1589, 0.0, 0.0, 0.0, 0.13970000000000002, 0.0], [0.37929999999999997, 0.2069, 0.2155, 0.0431, 0.0431, 0.0, 0.1121, 0.0], [0.17489999999999997, 0.0262, 0.0292, 0.0292, 0.035, 0.0087, 0.4606, 0.23620000000000002], [0.0, 0.0, 0.8708, 0.0, 0.0, 0.0, 0.1292, 0.0], [0.43229999999999996, 0.0762, 0.0751, 0.0717, 0.08650000000000001, 0.1286, 0.1024, 0.0273]]}],                        {\"coloraxis\": {\"colorbar\": {\"title\": {\"text\": \"<b>Percentage<b>\"}}, \"colorscale\": [[0.0, \"#0d0887\"], [0.1111111111111111, \"#46039f\"], [0.2222222222222222, \"#7201a8\"], [0.3333333333333333, \"#9c179e\"], [0.4444444444444444, \"#bd3786\"], [0.5555555555555556, \"#d8576b\"], [0.6666666666666666, \"#ed7953\"], [0.7777777777777778, \"#fb9f3a\"], [0.8888888888888888, \"#fdca26\"], [1.0, \"#f0f921\"]]}, \"height\": 1000, \"template\": {\"data\": {\"bar\": [{\"error_x\": {\"color\": \"#2a3f5f\"}, \"error_y\": {\"color\": \"#2a3f5f\"}, \"marker\": {\"line\": {\"color\": \"#E5ECF6\", \"width\": 0.5}}, \"type\": \"bar\"}], \"barpolar\": [{\"marker\": {\"line\": {\"color\": \"#E5ECF6\", \"width\": 0.5}}, \"type\": \"barpolar\"}], \"carpet\": [{\"aaxis\": {\"endlinecolor\": \"#2a3f5f\", \"gridcolor\": \"white\", \"linecolor\": \"white\", \"minorgridcolor\": \"white\", \"startlinecolor\": \"#2a3f5f\"}, \"baxis\": {\"endlinecolor\": \"#2a3f5f\", \"gridcolor\": \"white\", \"linecolor\": \"white\", \"minorgridcolor\": \"white\", \"startlinecolor\": \"#2a3f5f\"}, \"type\": \"carpet\"}], \"choropleth\": [{\"colorbar\": {\"outlinewidth\": 0, \"ticks\": \"\"}, \"type\": \"choropleth\"}], \"contour\": [{\"colorbar\": {\"outlinewidth\": 0, \"ticks\": \"\"}, \"colorscale\": [[0.0, \"#0d0887\"], [0.1111111111111111, \"#46039f\"], [0.2222222222222222, \"#7201a8\"], [0.3333333333333333, \"#9c179e\"], [0.4444444444444444, \"#bd3786\"], [0.5555555555555556, \"#d8576b\"], [0.6666666666666666, \"#ed7953\"], [0.7777777777777778, \"#fb9f3a\"], [0.8888888888888888, \"#fdca26\"], [1.0, \"#f0f921\"]], \"type\": \"contour\"}], \"contourcarpet\": [{\"colorbar\": {\"outlinewidth\": 0, \"ticks\": \"\"}, \"type\": \"contourcarpet\"}], \"heatmap\": [{\"colorbar\": {\"outlinewidth\": 0, \"ticks\": \"\"}, \"colorscale\": [[0.0, \"#0d0887\"], [0.1111111111111111, \"#46039f\"], [0.2222222222222222, \"#7201a8\"], [0.3333333333333333, \"#9c179e\"], [0.4444444444444444, \"#bd3786\"], [0.5555555555555556, \"#d8576b\"], [0.6666666666666666, \"#ed7953\"], [0.7777777777777778, \"#fb9f3a\"], [0.8888888888888888, \"#fdca26\"], [1.0, \"#f0f921\"]], \"type\": \"heatmap\"}], \"heatmapgl\": [{\"colorbar\": {\"outlinewidth\": 0, \"ticks\": \"\"}, \"colorscale\": [[0.0, \"#0d0887\"], [0.1111111111111111, \"#46039f\"], [0.2222222222222222, \"#7201a8\"], [0.3333333333333333, \"#9c179e\"], [0.4444444444444444, \"#bd3786\"], [0.5555555555555556, \"#d8576b\"], [0.6666666666666666, \"#ed7953\"], [0.7777777777777778, \"#fb9f3a\"], [0.8888888888888888, \"#fdca26\"], [1.0, \"#f0f921\"]], \"type\": \"heatmapgl\"}], \"histogram\": [{\"marker\": {\"colorbar\": {\"outlinewidth\": 0, \"ticks\": \"\"}}, \"type\": \"histogram\"}], \"histogram2d\": [{\"colorbar\": {\"outlinewidth\": 0, \"ticks\": \"\"}, \"colorscale\": [[0.0, \"#0d0887\"], [0.1111111111111111, \"#46039f\"], [0.2222222222222222, \"#7201a8\"], [0.3333333333333333, \"#9c179e\"], [0.4444444444444444, \"#bd3786\"], [0.5555555555555556, \"#d8576b\"], [0.6666666666666666, \"#ed7953\"], [0.7777777777777778, \"#fb9f3a\"], [0.8888888888888888, \"#fdca26\"], [1.0, \"#f0f921\"]], \"type\": \"histogram2d\"}], \"histogram2dcontour\": [{\"colorbar\": {\"outlinewidth\": 0, \"ticks\": \"\"}, \"colorscale\": [[0.0, \"#0d0887\"], [0.1111111111111111, \"#46039f\"], [0.2222222222222222, \"#7201a8\"], [0.3333333333333333, \"#9c179e\"], [0.4444444444444444, \"#bd3786\"], [0.5555555555555556, \"#d8576b\"], [0.6666666666666666, \"#ed7953\"], [0.7777777777777778, \"#fb9f3a\"], [0.8888888888888888, \"#fdca26\"], [1.0, \"#f0f921\"]], \"type\": \"histogram2dcontour\"}], \"mesh3d\": [{\"colorbar\": {\"outlinewidth\": 0, \"ticks\": \"\"}, \"type\": \"mesh3d\"}], \"parcoords\": [{\"line\": {\"colorbar\": {\"outlinewidth\": 0, \"ticks\": \"\"}}, \"type\": \"parcoords\"}], \"pie\": [{\"automargin\": true, \"type\": \"pie\"}], \"scatter\": [{\"marker\": {\"colorbar\": {\"outlinewidth\": 0, \"ticks\": \"\"}}, \"type\": \"scatter\"}], \"scatter3d\": [{\"line\": {\"colorbar\": {\"outlinewidth\": 0, \"ticks\": \"\"}}, \"marker\": {\"colorbar\": {\"outlinewidth\": 0, \"ticks\": \"\"}}, \"type\": \"scatter3d\"}], \"scattercarpet\": [{\"marker\": {\"colorbar\": {\"outlinewidth\": 0, \"ticks\": \"\"}}, \"type\": \"scattercarpet\"}], \"scattergeo\": [{\"marker\": {\"colorbar\": {\"outlinewidth\": 0, \"ticks\": \"\"}}, \"type\": \"scattergeo\"}], \"scattergl\": [{\"marker\": {\"colorbar\": {\"outlinewidth\": 0, \"ticks\": \"\"}}, \"type\": \"scattergl\"}], \"scattermapbox\": [{\"marker\": {\"colorbar\": {\"outlinewidth\": 0, \"ticks\": \"\"}}, \"type\": \"scattermapbox\"}], \"scatterpolar\": [{\"marker\": {\"colorbar\": {\"outlinewidth\": 0, \"ticks\": \"\"}}, \"type\": \"scatterpolar\"}], \"scatterpolargl\": [{\"marker\": {\"colorbar\": {\"outlinewidth\": 0, \"ticks\": \"\"}}, \"type\": \"scatterpolargl\"}], \"scatterternary\": [{\"marker\": {\"colorbar\": {\"outlinewidth\": 0, \"ticks\": \"\"}}, \"type\": \"scatterternary\"}], \"surface\": [{\"colorbar\": {\"outlinewidth\": 0, \"ticks\": \"\"}, \"colorscale\": [[0.0, \"#0d0887\"], [0.1111111111111111, \"#46039f\"], [0.2222222222222222, \"#7201a8\"], [0.3333333333333333, \"#9c179e\"], [0.4444444444444444, \"#bd3786\"], [0.5555555555555556, \"#d8576b\"], [0.6666666666666666, \"#ed7953\"], [0.7777777777777778, \"#fb9f3a\"], [0.8888888888888888, \"#fdca26\"], [1.0, \"#f0f921\"]], \"type\": \"surface\"}], \"table\": [{\"cells\": {\"fill\": {\"color\": \"#EBF0F8\"}, \"line\": {\"color\": \"white\"}}, \"header\": {\"fill\": {\"color\": \"#C8D4E3\"}, \"line\": {\"color\": \"white\"}}, \"type\": \"table\"}]}, \"layout\": {\"annotationdefaults\": {\"arrowcolor\": \"#2a3f5f\", \"arrowhead\": 0, \"arrowwidth\": 1}, \"autotypenumbers\": \"strict\", \"coloraxis\": {\"colorbar\": {\"outlinewidth\": 0, \"ticks\": \"\"}}, \"colorscale\": {\"diverging\": [[0, \"#8e0152\"], [0.1, \"#c51b7d\"], [0.2, \"#de77ae\"], [0.3, \"#f1b6da\"], [0.4, \"#fde0ef\"], [0.5, \"#f7f7f7\"], [0.6, \"#e6f5d0\"], [0.7, \"#b8e186\"], [0.8, \"#7fbc41\"], [0.9, \"#4d9221\"], [1, \"#276419\"]], \"sequential\": [[0.0, \"#0d0887\"], [0.1111111111111111, \"#46039f\"], [0.2222222222222222, \"#7201a8\"], [0.3333333333333333, \"#9c179e\"], [0.4444444444444444, \"#bd3786\"], [0.5555555555555556, \"#d8576b\"], [0.6666666666666666, \"#ed7953\"], [0.7777777777777778, \"#fb9f3a\"], [0.8888888888888888, \"#fdca26\"], [1.0, \"#f0f921\"]], \"sequentialminus\": [[0.0, \"#0d0887\"], [0.1111111111111111, \"#46039f\"], [0.2222222222222222, \"#7201a8\"], [0.3333333333333333, \"#9c179e\"], [0.4444444444444444, \"#bd3786\"], [0.5555555555555556, \"#d8576b\"], [0.6666666666666666, \"#ed7953\"], [0.7777777777777778, \"#fb9f3a\"], [0.8888888888888888, \"#fdca26\"], [1.0, \"#f0f921\"]]}, \"colorway\": [\"#636efa\", \"#EF553B\", \"#00cc96\", \"#ab63fa\", \"#FFA15A\", \"#19d3f3\", \"#FF6692\", \"#B6E880\", \"#FF97FF\", \"#FECB52\"], \"font\": {\"color\": \"#2a3f5f\"}, \"geo\": {\"bgcolor\": \"white\", \"lakecolor\": \"white\", \"landcolor\": \"#E5ECF6\", \"showlakes\": true, \"showland\": true, \"subunitcolor\": \"white\"}, \"hoverlabel\": {\"align\": \"left\"}, \"hovermode\": \"closest\", \"mapbox\": {\"style\": \"light\"}, \"paper_bgcolor\": \"white\", \"plot_bgcolor\": \"#E5ECF6\", \"polar\": {\"angularaxis\": {\"gridcolor\": \"white\", \"linecolor\": \"white\", \"ticks\": \"\"}, \"bgcolor\": \"#E5ECF6\", \"radialaxis\": {\"gridcolor\": \"white\", \"linecolor\": \"white\", \"ticks\": \"\"}}, \"scene\": {\"xaxis\": {\"backgroundcolor\": \"#E5ECF6\", \"gridcolor\": \"white\", \"gridwidth\": 2, \"linecolor\": \"white\", \"showbackground\": true, \"ticks\": \"\", \"zerolinecolor\": \"white\"}, \"yaxis\": {\"backgroundcolor\": \"#E5ECF6\", \"gridcolor\": \"white\", \"gridwidth\": 2, \"linecolor\": \"white\", \"showbackground\": true, \"ticks\": \"\", \"zerolinecolor\": \"white\"}, \"zaxis\": {\"backgroundcolor\": \"#E5ECF6\", \"gridcolor\": \"white\", \"gridwidth\": 2, \"linecolor\": \"white\", \"showbackground\": true, \"ticks\": \"\", \"zerolinecolor\": \"white\"}}, \"shapedefaults\": {\"line\": {\"color\": \"#2a3f5f\"}}, \"ternary\": {\"aaxis\": {\"gridcolor\": \"white\", \"linecolor\": \"white\", \"ticks\": \"\"}, \"baxis\": {\"gridcolor\": \"white\", \"linecolor\": \"white\", \"ticks\": \"\"}, \"bgcolor\": \"#E5ECF6\", \"caxis\": {\"gridcolor\": \"white\", \"linecolor\": \"white\", \"ticks\": \"\"}}, \"title\": {\"x\": 0.05}, \"xaxis\": {\"automargin\": true, \"gridcolor\": \"white\", \"linecolor\": \"white\", \"ticks\": \"\", \"title\": {\"standoff\": 15}, \"zerolinecolor\": \"white\", \"zerolinewidth\": 2}, \"yaxis\": {\"automargin\": true, \"gridcolor\": \"white\", \"linecolor\": \"white\", \"ticks\": \"\", \"title\": {\"standoff\": 15}, \"zerolinecolor\": \"white\", \"zerolinewidth\": 2}}}, \"title\": {\"text\": \"<b> Exhibit 2 - Role Types across groups\"}, \"width\": 1000, \"xaxis\": {\"anchor\": \"y\", \"constrain\": \"domain\", \"domain\": [0.0, 1.0], \"scaleanchor\": \"y\", \"side\": \"bottom\", \"title\": {\"text\": \"<b>DS Community Group<b>\"}}, \"yaxis\": {\"anchor\": \"x\", \"autorange\": \"reversed\", \"constrain\": \"domain\", \"domain\": [0.0, 1.0], \"title\": {\"text\": \"<b>Roles<b>\"}}},                        {\"responsive\": true}                    ).then(function(){\n",
       "                            \n",
       "var gd = document.getElementById('5b83de69-2add-4ff3-9c37-c382110096a7');\n",
       "var x = new MutationObserver(function (mutations, observer) {{\n",
       "        var display = window.getComputedStyle(gd).display;\n",
       "        if (!display || display === 'none') {{\n",
       "            console.log([gd, 'removed!']);\n",
       "            Plotly.purge(gd);\n",
       "            observer.disconnect();\n",
       "        }}\n",
       "}});\n",
       "\n",
       "// Listen for the removal of the full notebook cells\n",
       "var notebookContainer = gd.closest('#notebook-container');\n",
       "if (notebookContainer) {{\n",
       "    x.observe(notebookContainer, {childList: true});\n",
       "}}\n",
       "\n",
       "// Listen for the clearing of the current output cell\n",
       "var outputEl = gd.closest('.output');\n",
       "if (outputEl) {{\n",
       "    x.observe(outputEl, {childList: true});\n",
       "}}\n",
       "\n",
       "                        })                };                });            </script>        </div>"
      ]
     },
     "metadata": {},
     "output_type": "display_data"
    }
   ],
   "source": [
    "#Aggregate Devtype by cluster group for visualization in the form of a Heatmap \n",
    "devtype_matrix=pd.DataFrame(data=[],columns=[])#Create an empty dataframe\n",
    "devtype_matrix = agg_data (us_community_df, clustwise_comp_df,'Ef_Cat_DT_',devtype_matrix)\n",
    "devtype_matrix.shape\n",
    "plot_heatmap(devtype_matrix,'<b> Exhibit 2 - Role Types across groups',1000,1000,'static/Exhibit2.html')"
   ]
  },
  {
   "cell_type": "markdown",
   "metadata": {},
   "source": [
    "## II.\tHow do these personas relate to compensation levels, both, practically and/or statistically?"
   ]
  },
  {
   "cell_type": "code",
   "execution_count": 7,
   "metadata": {},
   "outputs": [
    {
     "data": {
      "application/vnd.plotly.v1+json": {
       "config": {
        "plotlyServerURL": "https://plot.ly"
       },
       "data": [
        {
         "hovertemplate": "persona=DigiSolDev<br>relative_mean_multiple=%{x}<br>relative_sd_multiple=%{y}<extra></extra>",
         "legendgroup": "DigiSolDev",
         "marker": {
          "color": "#636efa",
          "symbol": "circle"
         },
         "mode": "markers",
         "name": "DigiSolDev",
         "orientation": "v",
         "showlegend": true,
         "type": "scatter",
         "x": [
          0.97
         ],
         "xaxis": "x",
         "y": [
          0.99
         ],
         "yaxis": "y"
        },
        {
         "hovertemplate": "persona=DataProductDeploy<br>relative_mean_multiple=%{x}<br>relative_sd_multiple=%{y}<extra></extra>",
         "legendgroup": "DataProductDeploy",
         "marker": {
          "color": "#EF553B",
          "symbol": "circle"
         },
         "mode": "markers",
         "name": "DataProductDeploy",
         "orientation": "v",
         "showlegend": true,
         "type": "scatter",
         "x": [
          0.89
         ],
         "xaxis": "x",
         "y": [
          0.82
         ],
         "yaxis": "y"
        },
        {
         "hovertemplate": "persona=MidMgmt<br>relative_mean_multiple=%{x}<br>relative_sd_multiple=%{y}<extra></extra>",
         "legendgroup": "MidMgmt",
         "marker": {
          "color": "#00cc96",
          "symbol": "circle"
         },
         "mode": "markers",
         "name": "MidMgmt",
         "orientation": "v",
         "showlegend": true,
         "type": "scatter",
         "x": [
          1.18
         ],
         "xaxis": "x",
         "y": [
          1.14
         ],
         "yaxis": "y"
        },
        {
         "hovertemplate": "persona=DataProductDev<br>relative_mean_multiple=%{x}<br>relative_sd_multiple=%{y}<extra></extra>",
         "legendgroup": "DataProductDev",
         "marker": {
          "color": "#ab63fa",
          "symbol": "circle"
         },
         "mode": "markers",
         "name": "DataProductDev",
         "orientation": "v",
         "showlegend": true,
         "type": "scatter",
         "x": [
          1.26
         ],
         "xaxis": "x",
         "y": [
          1.24
         ],
         "yaxis": "y"
        },
        {
         "hovertemplate": "persona=EmbedAppDev<br>relative_mean_multiple=%{x}<br>relative_sd_multiple=%{y}<extra></extra>",
         "legendgroup": "EmbedAppDev",
         "marker": {
          "color": "#FFA15A",
          "symbol": "circle"
         },
         "mode": "markers",
         "name": "EmbedAppDev",
         "orientation": "v",
         "showlegend": true,
         "type": "scatter",
         "x": [
          1.05
         ],
         "xaxis": "x",
         "y": [
          1.04
         ],
         "yaxis": "y"
        },
        {
         "hovertemplate": "persona=AcadNDSRnD<br>relative_mean_multiple=%{x}<br>relative_sd_multiple=%{y}<extra></extra>",
         "legendgroup": "AcadNDSRnD",
         "marker": {
          "color": "#19d3f3",
          "symbol": "circle"
         },
         "mode": "markers",
         "name": "AcadNDSRnD",
         "orientation": "v",
         "showlegend": true,
         "type": "scatter",
         "x": [
          0.77
         ],
         "xaxis": "x",
         "y": [
          0.74
         ],
         "yaxis": "y"
        },
        {
         "hovertemplate": "persona=SeniorMgmt<br>relative_mean_multiple=%{x}<br>relative_sd_multiple=%{y}<extra></extra>",
         "legendgroup": "SeniorMgmt",
         "marker": {
          "color": "#FF6692",
          "symbol": "circle"
         },
         "mode": "markers",
         "name": "SeniorMgmt",
         "orientation": "v",
         "showlegend": true,
         "type": "scatter",
         "x": [
          1.06
         ],
         "xaxis": "x",
         "y": [
          0.76
         ],
         "yaxis": "y"
        },
        {
         "hovertemplate": "persona=TechOpsMgmt<br>relative_mean_multiple=%{x}<br>relative_sd_multiple=%{y}<extra></extra>",
         "legendgroup": "TechOpsMgmt",
         "marker": {
          "color": "#B6E880",
          "symbol": "circle"
         },
         "mode": "markers",
         "name": "TechOpsMgmt",
         "orientation": "v",
         "showlegend": true,
         "type": "scatter",
         "x": [
          1.07
         ],
         "xaxis": "x",
         "y": [
          0.94
         ],
         "yaxis": "y"
        },
        {
         "mode": "lines",
         "name": "Relative Mean Ratio = 1.0",
         "type": "scatter",
         "x": [
          1,
          1,
          0
         ],
         "y": [
          0,
          1.4
         ]
        },
        {
         "mode": "lines",
         "name": "Relative SD Ratio = 1.0",
         "type": "scatter",
         "x": [
          0,
          1.4
         ],
         "y": [
          1,
          1,
          0
         ]
        }
       ],
       "layout": {
        "legend": {
         "title": {
          "text": "persona"
         },
         "tracegroupgap": 0
        },
        "margin": {
         "t": 60
        },
        "template": {
         "data": {
          "bar": [
           {
            "error_x": {
             "color": "#2a3f5f"
            },
            "error_y": {
             "color": "#2a3f5f"
            },
            "marker": {
             "line": {
              "color": "#E5ECF6",
              "width": 0.5
             }
            },
            "type": "bar"
           }
          ],
          "barpolar": [
           {
            "marker": {
             "line": {
              "color": "#E5ECF6",
              "width": 0.5
             }
            },
            "type": "barpolar"
           }
          ],
          "carpet": [
           {
            "aaxis": {
             "endlinecolor": "#2a3f5f",
             "gridcolor": "white",
             "linecolor": "white",
             "minorgridcolor": "white",
             "startlinecolor": "#2a3f5f"
            },
            "baxis": {
             "endlinecolor": "#2a3f5f",
             "gridcolor": "white",
             "linecolor": "white",
             "minorgridcolor": "white",
             "startlinecolor": "#2a3f5f"
            },
            "type": "carpet"
           }
          ],
          "choropleth": [
           {
            "colorbar": {
             "outlinewidth": 0,
             "ticks": ""
            },
            "type": "choropleth"
           }
          ],
          "contour": [
           {
            "colorbar": {
             "outlinewidth": 0,
             "ticks": ""
            },
            "colorscale": [
             [
              0,
              "#0d0887"
             ],
             [
              0.1111111111111111,
              "#46039f"
             ],
             [
              0.2222222222222222,
              "#7201a8"
             ],
             [
              0.3333333333333333,
              "#9c179e"
             ],
             [
              0.4444444444444444,
              "#bd3786"
             ],
             [
              0.5555555555555556,
              "#d8576b"
             ],
             [
              0.6666666666666666,
              "#ed7953"
             ],
             [
              0.7777777777777778,
              "#fb9f3a"
             ],
             [
              0.8888888888888888,
              "#fdca26"
             ],
             [
              1,
              "#f0f921"
             ]
            ],
            "type": "contour"
           }
          ],
          "contourcarpet": [
           {
            "colorbar": {
             "outlinewidth": 0,
             "ticks": ""
            },
            "type": "contourcarpet"
           }
          ],
          "heatmap": [
           {
            "colorbar": {
             "outlinewidth": 0,
             "ticks": ""
            },
            "colorscale": [
             [
              0,
              "#0d0887"
             ],
             [
              0.1111111111111111,
              "#46039f"
             ],
             [
              0.2222222222222222,
              "#7201a8"
             ],
             [
              0.3333333333333333,
              "#9c179e"
             ],
             [
              0.4444444444444444,
              "#bd3786"
             ],
             [
              0.5555555555555556,
              "#d8576b"
             ],
             [
              0.6666666666666666,
              "#ed7953"
             ],
             [
              0.7777777777777778,
              "#fb9f3a"
             ],
             [
              0.8888888888888888,
              "#fdca26"
             ],
             [
              1,
              "#f0f921"
             ]
            ],
            "type": "heatmap"
           }
          ],
          "heatmapgl": [
           {
            "colorbar": {
             "outlinewidth": 0,
             "ticks": ""
            },
            "colorscale": [
             [
              0,
              "#0d0887"
             ],
             [
              0.1111111111111111,
              "#46039f"
             ],
             [
              0.2222222222222222,
              "#7201a8"
             ],
             [
              0.3333333333333333,
              "#9c179e"
             ],
             [
              0.4444444444444444,
              "#bd3786"
             ],
             [
              0.5555555555555556,
              "#d8576b"
             ],
             [
              0.6666666666666666,
              "#ed7953"
             ],
             [
              0.7777777777777778,
              "#fb9f3a"
             ],
             [
              0.8888888888888888,
              "#fdca26"
             ],
             [
              1,
              "#f0f921"
             ]
            ],
            "type": "heatmapgl"
           }
          ],
          "histogram": [
           {
            "marker": {
             "colorbar": {
              "outlinewidth": 0,
              "ticks": ""
             }
            },
            "type": "histogram"
           }
          ],
          "histogram2d": [
           {
            "colorbar": {
             "outlinewidth": 0,
             "ticks": ""
            },
            "colorscale": [
             [
              0,
              "#0d0887"
             ],
             [
              0.1111111111111111,
              "#46039f"
             ],
             [
              0.2222222222222222,
              "#7201a8"
             ],
             [
              0.3333333333333333,
              "#9c179e"
             ],
             [
              0.4444444444444444,
              "#bd3786"
             ],
             [
              0.5555555555555556,
              "#d8576b"
             ],
             [
              0.6666666666666666,
              "#ed7953"
             ],
             [
              0.7777777777777778,
              "#fb9f3a"
             ],
             [
              0.8888888888888888,
              "#fdca26"
             ],
             [
              1,
              "#f0f921"
             ]
            ],
            "type": "histogram2d"
           }
          ],
          "histogram2dcontour": [
           {
            "colorbar": {
             "outlinewidth": 0,
             "ticks": ""
            },
            "colorscale": [
             [
              0,
              "#0d0887"
             ],
             [
              0.1111111111111111,
              "#46039f"
             ],
             [
              0.2222222222222222,
              "#7201a8"
             ],
             [
              0.3333333333333333,
              "#9c179e"
             ],
             [
              0.4444444444444444,
              "#bd3786"
             ],
             [
              0.5555555555555556,
              "#d8576b"
             ],
             [
              0.6666666666666666,
              "#ed7953"
             ],
             [
              0.7777777777777778,
              "#fb9f3a"
             ],
             [
              0.8888888888888888,
              "#fdca26"
             ],
             [
              1,
              "#f0f921"
             ]
            ],
            "type": "histogram2dcontour"
           }
          ],
          "mesh3d": [
           {
            "colorbar": {
             "outlinewidth": 0,
             "ticks": ""
            },
            "type": "mesh3d"
           }
          ],
          "parcoords": [
           {
            "line": {
             "colorbar": {
              "outlinewidth": 0,
              "ticks": ""
             }
            },
            "type": "parcoords"
           }
          ],
          "pie": [
           {
            "automargin": true,
            "type": "pie"
           }
          ],
          "scatter": [
           {
            "marker": {
             "colorbar": {
              "outlinewidth": 0,
              "ticks": ""
             }
            },
            "type": "scatter"
           }
          ],
          "scatter3d": [
           {
            "line": {
             "colorbar": {
              "outlinewidth": 0,
              "ticks": ""
             }
            },
            "marker": {
             "colorbar": {
              "outlinewidth": 0,
              "ticks": ""
             }
            },
            "type": "scatter3d"
           }
          ],
          "scattercarpet": [
           {
            "marker": {
             "colorbar": {
              "outlinewidth": 0,
              "ticks": ""
             }
            },
            "type": "scattercarpet"
           }
          ],
          "scattergeo": [
           {
            "marker": {
             "colorbar": {
              "outlinewidth": 0,
              "ticks": ""
             }
            },
            "type": "scattergeo"
           }
          ],
          "scattergl": [
           {
            "marker": {
             "colorbar": {
              "outlinewidth": 0,
              "ticks": ""
             }
            },
            "type": "scattergl"
           }
          ],
          "scattermapbox": [
           {
            "marker": {
             "colorbar": {
              "outlinewidth": 0,
              "ticks": ""
             }
            },
            "type": "scattermapbox"
           }
          ],
          "scatterpolar": [
           {
            "marker": {
             "colorbar": {
              "outlinewidth": 0,
              "ticks": ""
             }
            },
            "type": "scatterpolar"
           }
          ],
          "scatterpolargl": [
           {
            "marker": {
             "colorbar": {
              "outlinewidth": 0,
              "ticks": ""
             }
            },
            "type": "scatterpolargl"
           }
          ],
          "scatterternary": [
           {
            "marker": {
             "colorbar": {
              "outlinewidth": 0,
              "ticks": ""
             }
            },
            "type": "scatterternary"
           }
          ],
          "surface": [
           {
            "colorbar": {
             "outlinewidth": 0,
             "ticks": ""
            },
            "colorscale": [
             [
              0,
              "#0d0887"
             ],
             [
              0.1111111111111111,
              "#46039f"
             ],
             [
              0.2222222222222222,
              "#7201a8"
             ],
             [
              0.3333333333333333,
              "#9c179e"
             ],
             [
              0.4444444444444444,
              "#bd3786"
             ],
             [
              0.5555555555555556,
              "#d8576b"
             ],
             [
              0.6666666666666666,
              "#ed7953"
             ],
             [
              0.7777777777777778,
              "#fb9f3a"
             ],
             [
              0.8888888888888888,
              "#fdca26"
             ],
             [
              1,
              "#f0f921"
             ]
            ],
            "type": "surface"
           }
          ],
          "table": [
           {
            "cells": {
             "fill": {
              "color": "#EBF0F8"
             },
             "line": {
              "color": "white"
             }
            },
            "header": {
             "fill": {
              "color": "#C8D4E3"
             },
             "line": {
              "color": "white"
             }
            },
            "type": "table"
           }
          ]
         },
         "layout": {
          "annotationdefaults": {
           "arrowcolor": "#2a3f5f",
           "arrowhead": 0,
           "arrowwidth": 1
          },
          "autotypenumbers": "strict",
          "coloraxis": {
           "colorbar": {
            "outlinewidth": 0,
            "ticks": ""
           }
          },
          "colorscale": {
           "diverging": [
            [
             0,
             "#8e0152"
            ],
            [
             0.1,
             "#c51b7d"
            ],
            [
             0.2,
             "#de77ae"
            ],
            [
             0.3,
             "#f1b6da"
            ],
            [
             0.4,
             "#fde0ef"
            ],
            [
             0.5,
             "#f7f7f7"
            ],
            [
             0.6,
             "#e6f5d0"
            ],
            [
             0.7,
             "#b8e186"
            ],
            [
             0.8,
             "#7fbc41"
            ],
            [
             0.9,
             "#4d9221"
            ],
            [
             1,
             "#276419"
            ]
           ],
           "sequential": [
            [
             0,
             "#0d0887"
            ],
            [
             0.1111111111111111,
             "#46039f"
            ],
            [
             0.2222222222222222,
             "#7201a8"
            ],
            [
             0.3333333333333333,
             "#9c179e"
            ],
            [
             0.4444444444444444,
             "#bd3786"
            ],
            [
             0.5555555555555556,
             "#d8576b"
            ],
            [
             0.6666666666666666,
             "#ed7953"
            ],
            [
             0.7777777777777778,
             "#fb9f3a"
            ],
            [
             0.8888888888888888,
             "#fdca26"
            ],
            [
             1,
             "#f0f921"
            ]
           ],
           "sequentialminus": [
            [
             0,
             "#0d0887"
            ],
            [
             0.1111111111111111,
             "#46039f"
            ],
            [
             0.2222222222222222,
             "#7201a8"
            ],
            [
             0.3333333333333333,
             "#9c179e"
            ],
            [
             0.4444444444444444,
             "#bd3786"
            ],
            [
             0.5555555555555556,
             "#d8576b"
            ],
            [
             0.6666666666666666,
             "#ed7953"
            ],
            [
             0.7777777777777778,
             "#fb9f3a"
            ],
            [
             0.8888888888888888,
             "#fdca26"
            ],
            [
             1,
             "#f0f921"
            ]
           ]
          },
          "colorway": [
           "#636efa",
           "#EF553B",
           "#00cc96",
           "#ab63fa",
           "#FFA15A",
           "#19d3f3",
           "#FF6692",
           "#B6E880",
           "#FF97FF",
           "#FECB52"
          ],
          "font": {
           "color": "#2a3f5f"
          },
          "geo": {
           "bgcolor": "white",
           "lakecolor": "white",
           "landcolor": "#E5ECF6",
           "showlakes": true,
           "showland": true,
           "subunitcolor": "white"
          },
          "hoverlabel": {
           "align": "left"
          },
          "hovermode": "closest",
          "mapbox": {
           "style": "light"
          },
          "paper_bgcolor": "white",
          "plot_bgcolor": "#E5ECF6",
          "polar": {
           "angularaxis": {
            "gridcolor": "white",
            "linecolor": "white",
            "ticks": ""
           },
           "bgcolor": "#E5ECF6",
           "radialaxis": {
            "gridcolor": "white",
            "linecolor": "white",
            "ticks": ""
           }
          },
          "scene": {
           "xaxis": {
            "backgroundcolor": "#E5ECF6",
            "gridcolor": "white",
            "gridwidth": 2,
            "linecolor": "white",
            "showbackground": true,
            "ticks": "",
            "zerolinecolor": "white"
           },
           "yaxis": {
            "backgroundcolor": "#E5ECF6",
            "gridcolor": "white",
            "gridwidth": 2,
            "linecolor": "white",
            "showbackground": true,
            "ticks": "",
            "zerolinecolor": "white"
           },
           "zaxis": {
            "backgroundcolor": "#E5ECF6",
            "gridcolor": "white",
            "gridwidth": 2,
            "linecolor": "white",
            "showbackground": true,
            "ticks": "",
            "zerolinecolor": "white"
           }
          },
          "shapedefaults": {
           "line": {
            "color": "#2a3f5f"
           }
          },
          "ternary": {
           "aaxis": {
            "gridcolor": "white",
            "linecolor": "white",
            "ticks": ""
           },
           "baxis": {
            "gridcolor": "white",
            "linecolor": "white",
            "ticks": ""
           },
           "bgcolor": "#E5ECF6",
           "caxis": {
            "gridcolor": "white",
            "linecolor": "white",
            "ticks": ""
           }
          },
          "title": {
           "x": 0.05
          },
          "xaxis": {
           "automargin": true,
           "gridcolor": "white",
           "linecolor": "white",
           "ticks": "",
           "title": {
            "standoff": 15
           },
           "zerolinecolor": "white",
           "zerolinewidth": 2
          },
          "yaxis": {
           "automargin": true,
           "gridcolor": "white",
           "linecolor": "white",
           "ticks": "",
           "title": {
            "standoff": 15
           },
           "zerolinecolor": "white",
           "zerolinewidth": 2
          }
         }
        },
        "title": {
         "text": "<b>Exhibit 3 – Macro perspective: Relative comparison of compensation levels across groups"
        },
        "xaxis": {
         "anchor": "y",
         "domain": [
          0,
          1
         ],
         "title": {
          "text": "<b>Relative Mean Ratio"
         }
        },
        "yaxis": {
         "anchor": "x",
         "domain": [
          0,
          1
         ],
         "title": {
          "text": "<b>Relative SD Ratio"
         }
        }
       }
      },
      "text/html": [
       "<div>                            <div id=\"79f1550f-f54f-4be0-a930-601a022e3cd5\" class=\"plotly-graph-div\" style=\"height:525px; width:100%;\"></div>            <script type=\"text/javascript\">                require([\"plotly\"], function(Plotly) {                    window.PLOTLYENV=window.PLOTLYENV || {};                                    if (document.getElementById(\"79f1550f-f54f-4be0-a930-601a022e3cd5\")) {                    Plotly.newPlot(                        \"79f1550f-f54f-4be0-a930-601a022e3cd5\",                        [{\"hovertemplate\": \"persona=DigiSolDev<br>relative_mean_multiple=%{x}<br>relative_sd_multiple=%{y}<extra></extra>\", \"legendgroup\": \"DigiSolDev\", \"marker\": {\"color\": \"#636efa\", \"symbol\": \"circle\"}, \"mode\": \"markers\", \"name\": \"DigiSolDev\", \"orientation\": \"v\", \"showlegend\": true, \"type\": \"scatter\", \"x\": [0.97], \"xaxis\": \"x\", \"y\": [0.99], \"yaxis\": \"y\"}, {\"hovertemplate\": \"persona=DataProductDeploy<br>relative_mean_multiple=%{x}<br>relative_sd_multiple=%{y}<extra></extra>\", \"legendgroup\": \"DataProductDeploy\", \"marker\": {\"color\": \"#EF553B\", \"symbol\": \"circle\"}, \"mode\": \"markers\", \"name\": \"DataProductDeploy\", \"orientation\": \"v\", \"showlegend\": true, \"type\": \"scatter\", \"x\": [0.89], \"xaxis\": \"x\", \"y\": [0.82], \"yaxis\": \"y\"}, {\"hovertemplate\": \"persona=MidMgmt<br>relative_mean_multiple=%{x}<br>relative_sd_multiple=%{y}<extra></extra>\", \"legendgroup\": \"MidMgmt\", \"marker\": {\"color\": \"#00cc96\", \"symbol\": \"circle\"}, \"mode\": \"markers\", \"name\": \"MidMgmt\", \"orientation\": \"v\", \"showlegend\": true, \"type\": \"scatter\", \"x\": [1.18], \"xaxis\": \"x\", \"y\": [1.14], \"yaxis\": \"y\"}, {\"hovertemplate\": \"persona=DataProductDev<br>relative_mean_multiple=%{x}<br>relative_sd_multiple=%{y}<extra></extra>\", \"legendgroup\": \"DataProductDev\", \"marker\": {\"color\": \"#ab63fa\", \"symbol\": \"circle\"}, \"mode\": \"markers\", \"name\": \"DataProductDev\", \"orientation\": \"v\", \"showlegend\": true, \"type\": \"scatter\", \"x\": [1.26], \"xaxis\": \"x\", \"y\": [1.24], \"yaxis\": \"y\"}, {\"hovertemplate\": \"persona=EmbedAppDev<br>relative_mean_multiple=%{x}<br>relative_sd_multiple=%{y}<extra></extra>\", \"legendgroup\": \"EmbedAppDev\", \"marker\": {\"color\": \"#FFA15A\", \"symbol\": \"circle\"}, \"mode\": \"markers\", \"name\": \"EmbedAppDev\", \"orientation\": \"v\", \"showlegend\": true, \"type\": \"scatter\", \"x\": [1.05], \"xaxis\": \"x\", \"y\": [1.04], \"yaxis\": \"y\"}, {\"hovertemplate\": \"persona=AcadNDSRnD<br>relative_mean_multiple=%{x}<br>relative_sd_multiple=%{y}<extra></extra>\", \"legendgroup\": \"AcadNDSRnD\", \"marker\": {\"color\": \"#19d3f3\", \"symbol\": \"circle\"}, \"mode\": \"markers\", \"name\": \"AcadNDSRnD\", \"orientation\": \"v\", \"showlegend\": true, \"type\": \"scatter\", \"x\": [0.77], \"xaxis\": \"x\", \"y\": [0.74], \"yaxis\": \"y\"}, {\"hovertemplate\": \"persona=SeniorMgmt<br>relative_mean_multiple=%{x}<br>relative_sd_multiple=%{y}<extra></extra>\", \"legendgroup\": \"SeniorMgmt\", \"marker\": {\"color\": \"#FF6692\", \"symbol\": \"circle\"}, \"mode\": \"markers\", \"name\": \"SeniorMgmt\", \"orientation\": \"v\", \"showlegend\": true, \"type\": \"scatter\", \"x\": [1.06], \"xaxis\": \"x\", \"y\": [0.76], \"yaxis\": \"y\"}, {\"hovertemplate\": \"persona=TechOpsMgmt<br>relative_mean_multiple=%{x}<br>relative_sd_multiple=%{y}<extra></extra>\", \"legendgroup\": \"TechOpsMgmt\", \"marker\": {\"color\": \"#B6E880\", \"symbol\": \"circle\"}, \"mode\": \"markers\", \"name\": \"TechOpsMgmt\", \"orientation\": \"v\", \"showlegend\": true, \"type\": \"scatter\", \"x\": [1.07], \"xaxis\": \"x\", \"y\": [0.94], \"yaxis\": \"y\"}, {\"mode\": \"lines\", \"name\": \"Relative Mean Ratio = 1.0\", \"type\": \"scatter\", \"x\": [1.0, 1, 0], \"y\": [0, 1.4]}, {\"mode\": \"lines\", \"name\": \"Relative SD Ratio = 1.0\", \"type\": \"scatter\", \"x\": [0, 1.4], \"y\": [1.0, 1, 0]}],                        {\"legend\": {\"title\": {\"text\": \"persona\"}, \"tracegroupgap\": 0}, \"margin\": {\"t\": 60}, \"template\": {\"data\": {\"bar\": [{\"error_x\": {\"color\": \"#2a3f5f\"}, \"error_y\": {\"color\": \"#2a3f5f\"}, \"marker\": {\"line\": {\"color\": \"#E5ECF6\", \"width\": 0.5}}, \"type\": \"bar\"}], \"barpolar\": [{\"marker\": {\"line\": {\"color\": \"#E5ECF6\", \"width\": 0.5}}, \"type\": \"barpolar\"}], \"carpet\": [{\"aaxis\": {\"endlinecolor\": \"#2a3f5f\", \"gridcolor\": \"white\", \"linecolor\": \"white\", \"minorgridcolor\": \"white\", \"startlinecolor\": \"#2a3f5f\"}, \"baxis\": {\"endlinecolor\": \"#2a3f5f\", \"gridcolor\": \"white\", \"linecolor\": \"white\", \"minorgridcolor\": \"white\", \"startlinecolor\": \"#2a3f5f\"}, \"type\": \"carpet\"}], \"choropleth\": [{\"colorbar\": {\"outlinewidth\": 0, \"ticks\": \"\"}, \"type\": \"choropleth\"}], \"contour\": [{\"colorbar\": {\"outlinewidth\": 0, \"ticks\": \"\"}, \"colorscale\": [[0.0, \"#0d0887\"], [0.1111111111111111, \"#46039f\"], [0.2222222222222222, \"#7201a8\"], [0.3333333333333333, \"#9c179e\"], [0.4444444444444444, \"#bd3786\"], [0.5555555555555556, \"#d8576b\"], [0.6666666666666666, \"#ed7953\"], [0.7777777777777778, \"#fb9f3a\"], [0.8888888888888888, \"#fdca26\"], [1.0, \"#f0f921\"]], \"type\": \"contour\"}], \"contourcarpet\": [{\"colorbar\": {\"outlinewidth\": 0, \"ticks\": \"\"}, \"type\": \"contourcarpet\"}], \"heatmap\": [{\"colorbar\": {\"outlinewidth\": 0, \"ticks\": \"\"}, \"colorscale\": [[0.0, \"#0d0887\"], [0.1111111111111111, \"#46039f\"], [0.2222222222222222, \"#7201a8\"], [0.3333333333333333, \"#9c179e\"], [0.4444444444444444, \"#bd3786\"], [0.5555555555555556, \"#d8576b\"], [0.6666666666666666, \"#ed7953\"], [0.7777777777777778, \"#fb9f3a\"], [0.8888888888888888, \"#fdca26\"], [1.0, \"#f0f921\"]], \"type\": \"heatmap\"}], \"heatmapgl\": [{\"colorbar\": {\"outlinewidth\": 0, \"ticks\": \"\"}, \"colorscale\": [[0.0, \"#0d0887\"], [0.1111111111111111, \"#46039f\"], [0.2222222222222222, \"#7201a8\"], [0.3333333333333333, \"#9c179e\"], [0.4444444444444444, \"#bd3786\"], [0.5555555555555556, \"#d8576b\"], [0.6666666666666666, \"#ed7953\"], [0.7777777777777778, \"#fb9f3a\"], [0.8888888888888888, \"#fdca26\"], [1.0, \"#f0f921\"]], \"type\": \"heatmapgl\"}], \"histogram\": [{\"marker\": {\"colorbar\": {\"outlinewidth\": 0, \"ticks\": \"\"}}, \"type\": \"histogram\"}], \"histogram2d\": [{\"colorbar\": {\"outlinewidth\": 0, \"ticks\": \"\"}, \"colorscale\": [[0.0, \"#0d0887\"], [0.1111111111111111, \"#46039f\"], [0.2222222222222222, \"#7201a8\"], [0.3333333333333333, \"#9c179e\"], [0.4444444444444444, \"#bd3786\"], [0.5555555555555556, \"#d8576b\"], [0.6666666666666666, \"#ed7953\"], [0.7777777777777778, \"#fb9f3a\"], [0.8888888888888888, \"#fdca26\"], [1.0, \"#f0f921\"]], \"type\": \"histogram2d\"}], \"histogram2dcontour\": [{\"colorbar\": {\"outlinewidth\": 0, \"ticks\": \"\"}, \"colorscale\": [[0.0, \"#0d0887\"], [0.1111111111111111, \"#46039f\"], [0.2222222222222222, \"#7201a8\"], [0.3333333333333333, \"#9c179e\"], [0.4444444444444444, \"#bd3786\"], [0.5555555555555556, \"#d8576b\"], [0.6666666666666666, \"#ed7953\"], [0.7777777777777778, \"#fb9f3a\"], [0.8888888888888888, \"#fdca26\"], [1.0, \"#f0f921\"]], \"type\": \"histogram2dcontour\"}], \"mesh3d\": [{\"colorbar\": {\"outlinewidth\": 0, \"ticks\": \"\"}, \"type\": \"mesh3d\"}], \"parcoords\": [{\"line\": {\"colorbar\": {\"outlinewidth\": 0, \"ticks\": \"\"}}, \"type\": \"parcoords\"}], \"pie\": [{\"automargin\": true, \"type\": \"pie\"}], \"scatter\": [{\"marker\": {\"colorbar\": {\"outlinewidth\": 0, \"ticks\": \"\"}}, \"type\": \"scatter\"}], \"scatter3d\": [{\"line\": {\"colorbar\": {\"outlinewidth\": 0, \"ticks\": \"\"}}, \"marker\": {\"colorbar\": {\"outlinewidth\": 0, \"ticks\": \"\"}}, \"type\": \"scatter3d\"}], \"scattercarpet\": [{\"marker\": {\"colorbar\": {\"outlinewidth\": 0, \"ticks\": \"\"}}, \"type\": \"scattercarpet\"}], \"scattergeo\": [{\"marker\": {\"colorbar\": {\"outlinewidth\": 0, \"ticks\": \"\"}}, \"type\": \"scattergeo\"}], \"scattergl\": [{\"marker\": {\"colorbar\": {\"outlinewidth\": 0, \"ticks\": \"\"}}, \"type\": \"scattergl\"}], \"scattermapbox\": [{\"marker\": {\"colorbar\": {\"outlinewidth\": 0, \"ticks\": \"\"}}, \"type\": \"scattermapbox\"}], \"scatterpolar\": [{\"marker\": {\"colorbar\": {\"outlinewidth\": 0, \"ticks\": \"\"}}, \"type\": \"scatterpolar\"}], \"scatterpolargl\": [{\"marker\": {\"colorbar\": {\"outlinewidth\": 0, \"ticks\": \"\"}}, \"type\": \"scatterpolargl\"}], \"scatterternary\": [{\"marker\": {\"colorbar\": {\"outlinewidth\": 0, \"ticks\": \"\"}}, \"type\": \"scatterternary\"}], \"surface\": [{\"colorbar\": {\"outlinewidth\": 0, \"ticks\": \"\"}, \"colorscale\": [[0.0, \"#0d0887\"], [0.1111111111111111, \"#46039f\"], [0.2222222222222222, \"#7201a8\"], [0.3333333333333333, \"#9c179e\"], [0.4444444444444444, \"#bd3786\"], [0.5555555555555556, \"#d8576b\"], [0.6666666666666666, \"#ed7953\"], [0.7777777777777778, \"#fb9f3a\"], [0.8888888888888888, \"#fdca26\"], [1.0, \"#f0f921\"]], \"type\": \"surface\"}], \"table\": [{\"cells\": {\"fill\": {\"color\": \"#EBF0F8\"}, \"line\": {\"color\": \"white\"}}, \"header\": {\"fill\": {\"color\": \"#C8D4E3\"}, \"line\": {\"color\": \"white\"}}, \"type\": \"table\"}]}, \"layout\": {\"annotationdefaults\": {\"arrowcolor\": \"#2a3f5f\", \"arrowhead\": 0, \"arrowwidth\": 1}, \"autotypenumbers\": \"strict\", \"coloraxis\": {\"colorbar\": {\"outlinewidth\": 0, \"ticks\": \"\"}}, \"colorscale\": {\"diverging\": [[0, \"#8e0152\"], [0.1, \"#c51b7d\"], [0.2, \"#de77ae\"], [0.3, \"#f1b6da\"], [0.4, \"#fde0ef\"], [0.5, \"#f7f7f7\"], [0.6, \"#e6f5d0\"], [0.7, \"#b8e186\"], [0.8, \"#7fbc41\"], [0.9, \"#4d9221\"], [1, \"#276419\"]], \"sequential\": [[0.0, \"#0d0887\"], [0.1111111111111111, \"#46039f\"], [0.2222222222222222, \"#7201a8\"], [0.3333333333333333, \"#9c179e\"], [0.4444444444444444, \"#bd3786\"], [0.5555555555555556, \"#d8576b\"], [0.6666666666666666, \"#ed7953\"], [0.7777777777777778, \"#fb9f3a\"], [0.8888888888888888, \"#fdca26\"], [1.0, \"#f0f921\"]], \"sequentialminus\": [[0.0, \"#0d0887\"], [0.1111111111111111, \"#46039f\"], [0.2222222222222222, \"#7201a8\"], [0.3333333333333333, \"#9c179e\"], [0.4444444444444444, \"#bd3786\"], [0.5555555555555556, \"#d8576b\"], [0.6666666666666666, \"#ed7953\"], [0.7777777777777778, \"#fb9f3a\"], [0.8888888888888888, \"#fdca26\"], [1.0, \"#f0f921\"]]}, \"colorway\": [\"#636efa\", \"#EF553B\", \"#00cc96\", \"#ab63fa\", \"#FFA15A\", \"#19d3f3\", \"#FF6692\", \"#B6E880\", \"#FF97FF\", \"#FECB52\"], \"font\": {\"color\": \"#2a3f5f\"}, \"geo\": {\"bgcolor\": \"white\", \"lakecolor\": \"white\", \"landcolor\": \"#E5ECF6\", \"showlakes\": true, \"showland\": true, \"subunitcolor\": \"white\"}, \"hoverlabel\": {\"align\": \"left\"}, \"hovermode\": \"closest\", \"mapbox\": {\"style\": \"light\"}, \"paper_bgcolor\": \"white\", \"plot_bgcolor\": \"#E5ECF6\", \"polar\": {\"angularaxis\": {\"gridcolor\": \"white\", \"linecolor\": \"white\", \"ticks\": \"\"}, \"bgcolor\": \"#E5ECF6\", \"radialaxis\": {\"gridcolor\": \"white\", \"linecolor\": \"white\", \"ticks\": \"\"}}, \"scene\": {\"xaxis\": {\"backgroundcolor\": \"#E5ECF6\", \"gridcolor\": \"white\", \"gridwidth\": 2, \"linecolor\": \"white\", \"showbackground\": true, \"ticks\": \"\", \"zerolinecolor\": \"white\"}, \"yaxis\": {\"backgroundcolor\": \"#E5ECF6\", \"gridcolor\": \"white\", \"gridwidth\": 2, \"linecolor\": \"white\", \"showbackground\": true, \"ticks\": \"\", \"zerolinecolor\": \"white\"}, \"zaxis\": {\"backgroundcolor\": \"#E5ECF6\", \"gridcolor\": \"white\", \"gridwidth\": 2, \"linecolor\": \"white\", \"showbackground\": true, \"ticks\": \"\", \"zerolinecolor\": \"white\"}}, \"shapedefaults\": {\"line\": {\"color\": \"#2a3f5f\"}}, \"ternary\": {\"aaxis\": {\"gridcolor\": \"white\", \"linecolor\": \"white\", \"ticks\": \"\"}, \"baxis\": {\"gridcolor\": \"white\", \"linecolor\": \"white\", \"ticks\": \"\"}, \"bgcolor\": \"#E5ECF6\", \"caxis\": {\"gridcolor\": \"white\", \"linecolor\": \"white\", \"ticks\": \"\"}}, \"title\": {\"x\": 0.05}, \"xaxis\": {\"automargin\": true, \"gridcolor\": \"white\", \"linecolor\": \"white\", \"ticks\": \"\", \"title\": {\"standoff\": 15}, \"zerolinecolor\": \"white\", \"zerolinewidth\": 2}, \"yaxis\": {\"automargin\": true, \"gridcolor\": \"white\", \"linecolor\": \"white\", \"ticks\": \"\", \"title\": {\"standoff\": 15}, \"zerolinecolor\": \"white\", \"zerolinewidth\": 2}}}, \"title\": {\"text\": \"<b>Exhibit 3 \\u2013 Macro perspective: Relative comparison of compensation levels across groups\"}, \"xaxis\": {\"anchor\": \"y\", \"domain\": [0.0, 1.0], \"title\": {\"text\": \"<b>Relative Mean Ratio\"}}, \"yaxis\": {\"anchor\": \"x\", \"domain\": [0.0, 1.0], \"title\": {\"text\": \"<b>Relative SD Ratio\"}}},                        {\"responsive\": true}                    ).then(function(){\n",
       "                            \n",
       "var gd = document.getElementById('79f1550f-f54f-4be0-a930-601a022e3cd5');\n",
       "var x = new MutationObserver(function (mutations, observer) {{\n",
       "        var display = window.getComputedStyle(gd).display;\n",
       "        if (!display || display === 'none') {{\n",
       "            console.log([gd, 'removed!']);\n",
       "            Plotly.purge(gd);\n",
       "            observer.disconnect();\n",
       "        }}\n",
       "}});\n",
       "\n",
       "// Listen for the removal of the full notebook cells\n",
       "var notebookContainer = gd.closest('#notebook-container');\n",
       "if (notebookContainer) {{\n",
       "    x.observe(notebookContainer, {childList: true});\n",
       "}}\n",
       "\n",
       "// Listen for the clearing of the current output cell\n",
       "var outputEl = gd.closest('.output');\n",
       "if (outputEl) {{\n",
       "    x.observe(outputEl, {childList: true});\n",
       "}}\n",
       "\n",
       "                        })                };                });            </script>        </div>"
      ]
     },
     "metadata": {},
     "output_type": "display_data"
    }
   ],
   "source": [
    "import plotly.express as px\n",
    "import plotly.graph_objects as go\n",
    "\n",
    "fig = px.scatter(clustwise_comp_df, x=\"relative_mean_multiple\", \n",
    "                     y=\"relative_sd_multiple\", color=\"persona\")\n",
    "fig.add_trace(go.Scatter(x=[1.0,1,0], y=[0,1.4],\n",
    "                    mode='lines',\n",
    "                    name='Relative Mean Ratio = 1.0'))\n",
    "fig.add_trace(go.Scatter(x=[0,1.4], y=[1.0,1,0],\n",
    "                    mode='lines',\n",
    "                    name='Relative SD Ratio = 1.0'))\n",
    "\n",
    "fig.update_layout(\n",
    "    title=\"<b>Exhibit 3 – Macro perspective: Relative comparison of compensation levels across groups\",\n",
    "    xaxis_title=\"<b>Relative Mean Ratio\",\n",
    "    yaxis_title=\"<b>Relative SD Ratio\"\n",
    "    )\n",
    "\n",
    "fig.show()"
   ]
  },
  {
   "cell_type": "code",
   "execution_count": 8,
   "metadata": {},
   "outputs": [
    {
     "data": {
      "text/html": [
       "<div>\n",
       "<style scoped>\n",
       "    .dataframe tbody tr th:only-of-type {\n",
       "        vertical-align: middle;\n",
       "    }\n",
       "\n",
       "    .dataframe tbody tr th {\n",
       "        vertical-align: top;\n",
       "    }\n",
       "\n",
       "    .dataframe thead th {\n",
       "        text-align: right;\n",
       "    }\n",
       "</style>\n",
       "<table border=\"1\" class=\"dataframe\">\n",
       "  <thead>\n",
       "    <tr style=\"text-align: right;\">\n",
       "      <th></th>\n",
       "      <th>&lt;b&gt;Grp0: Mean x: 0.97; SD x :0.99</th>\n",
       "      <th>&lt;b&gt;Grp1: Mean x: 0.89; SD x :0.82</th>\n",
       "      <th>&lt;b&gt;Grp2: Mean x: 1.18; SD x :1.14</th>\n",
       "      <th>&lt;b&gt;Grp3: Mean x: 1.26; SD x :1.24</th>\n",
       "      <th>&lt;b&gt;Grp4: Mean x: 1.05; SD x :1.04</th>\n",
       "      <th>&lt;b&gt;Grp5: Mean x: 0.77; SD x :0.74</th>\n",
       "      <th>&lt;b&gt;Grp6: Mean x: 1.06; SD x :0.76</th>\n",
       "      <th>&lt;b&gt;Grp7: Mean x: 1.07; SD x :0.94</th>\n",
       "    </tr>\n",
       "  </thead>\n",
       "  <tbody>\n",
       "    <tr>\n",
       "      <th>1</th>\n",
       "      <td>0.2715</td>\n",
       "      <td>0.1963</td>\n",
       "      <td>0.2188</td>\n",
       "      <td>0.2041</td>\n",
       "      <td>0.2069</td>\n",
       "      <td>0.4466</td>\n",
       "      <td>0.1483</td>\n",
       "      <td>0.1003</td>\n",
       "    </tr>\n",
       "    <tr>\n",
       "      <th>2</th>\n",
       "      <td>0.2711</td>\n",
       "      <td>0.2694</td>\n",
       "      <td>0.2070</td>\n",
       "      <td>0.2373</td>\n",
       "      <td>0.2605</td>\n",
       "      <td>0.2039</td>\n",
       "      <td>0.1340</td>\n",
       "      <td>0.1974</td>\n",
       "    </tr>\n",
       "    <tr>\n",
       "      <th>3</th>\n",
       "      <td>0.2382</td>\n",
       "      <td>0.2877</td>\n",
       "      <td>0.2773</td>\n",
       "      <td>0.2373</td>\n",
       "      <td>0.2299</td>\n",
       "      <td>0.1796</td>\n",
       "      <td>0.2057</td>\n",
       "      <td>0.3010</td>\n",
       "    </tr>\n",
       "    <tr>\n",
       "      <th>4</th>\n",
       "      <td>0.2192</td>\n",
       "      <td>0.2466</td>\n",
       "      <td>0.2969</td>\n",
       "      <td>0.3212</td>\n",
       "      <td>0.3027</td>\n",
       "      <td>0.1699</td>\n",
       "      <td>0.5120</td>\n",
       "      <td>0.4013</td>\n",
       "    </tr>\n",
       "  </tbody>\n",
       "</table>\n",
       "</div>"
      ],
      "text/plain": [
       "   <b>Grp0: Mean x: 0.97; SD x :0.99  <b>Grp1: Mean x: 0.89; SD x :0.82  \\\n",
       "1                             0.2715                             0.1963   \n",
       "2                             0.2711                             0.2694   \n",
       "3                             0.2382                             0.2877   \n",
       "4                             0.2192                             0.2466   \n",
       "\n",
       "   <b>Grp2: Mean x: 1.18; SD x :1.14  <b>Grp3: Mean x: 1.26; SD x :1.24  \\\n",
       "1                             0.2188                             0.2041   \n",
       "2                             0.2070                             0.2373   \n",
       "3                             0.2773                             0.2373   \n",
       "4                             0.2969                             0.3212   \n",
       "\n",
       "   <b>Grp4: Mean x: 1.05; SD x :1.04  <b>Grp5: Mean x: 0.77; SD x :0.74  \\\n",
       "1                             0.2069                             0.4466   \n",
       "2                             0.2605                             0.2039   \n",
       "3                             0.2299                             0.1796   \n",
       "4                             0.3027                             0.1699   \n",
       "\n",
       "   <b>Grp6: Mean x: 1.06; SD x :0.76  <b>Grp7: Mean x: 1.07; SD x :0.94  \n",
       "1                             0.1483                             0.1003  \n",
       "2                             0.1340                             0.1974  \n",
       "3                             0.2057                             0.3010  \n",
       "4                             0.5120                             0.4013  "
      ]
     },
     "execution_count": 8,
     "metadata": {},
     "output_type": "execute_result"
    }
   ],
   "source": [
    "#Aggregate compensation levels (categories i.e. quartile #) by cluster groups for visualization\n",
    "df_g = group_data_for_viz(us_community_df,['Ef_Cat_DeveloperSegment' \\\n",
    "                                           ,'Ef_Cat_ConvertedCompQuartile'],disp_colname='')\n",
    "cols=us_community_df.Ef_Cat_DeveloperSegment.unique().tolist()\n",
    "cols.sort(key=int) #Sort the groups numerically in ascending order\n",
    "\n",
    "#create df containing % membership in each of the 4 quartiles  for each of the  Cluster groups\n",
    "compvsrolegroup_df =pd.DataFrame(data=0, index=us_community_df.Ef_Cat_ConvertedCompQuartile.unique().tolist(), columns=cols).sort_index()\n",
    "x=df_g.apply(lambda row : create_cont_matrix(row,'Ef_Cat_ConvertedCompQuartile',compvsrolegroup_df), axis=1)\n",
    "compvsrolegroup_df = compvsrolegroup_df/100\n",
    "compvsrolegroup_df.columns=clustwise_comp_df.Ef_Cat_DeveloperSegmentDesc.tolist()\n",
    "compvsrolegroup_df"
   ]
  },
  {
   "cell_type": "code",
   "execution_count": 9,
   "metadata": {},
   "outputs": [
    {
     "data": {
      "application/vnd.plotly.v1+json": {
       "config": {
        "plotlyServerURL": "https://plot.ly"
       },
       "data": [
        {
         "coloraxis": "coloraxis",
         "hovertemplate": "<b>DS Community Group<b>: %{x}<br><b>Compensation Level Quartiles<b>: %{y}<br><b>Percentage<b>: %{z}<extra></extra>",
         "name": "0",
         "type": "heatmap",
         "x": [
          "<b>Grp0: Mean x: 0.97; SD x :0.99",
          "<b>Grp1: Mean x: 0.89; SD x :0.82",
          "<b>Grp2: Mean x: 1.18; SD x :1.14",
          "<b>Grp3: Mean x: 1.26; SD x :1.24",
          "<b>Grp4: Mean x: 1.05; SD x :1.04",
          "<b>Grp5: Mean x: 0.77; SD x :0.74",
          "<b>Grp6: Mean x: 1.06; SD x :0.76",
          "<b>Grp7: Mean x: 1.07; SD x :0.94"
         ],
         "xaxis": "x",
         "y": [
          1,
          2,
          3,
          4
         ],
         "yaxis": "y",
         "z": [
          [
           0.27149999999999996,
           0.1963,
           0.2188,
           0.2041,
           0.2069,
           0.44659999999999994,
           0.1483,
           0.1003
          ],
          [
           0.2711,
           0.26940000000000003,
           0.207,
           0.2373,
           0.2605,
           0.2039,
           0.134,
           0.1974
          ],
          [
           0.2382,
           0.2877,
           0.2773,
           0.2373,
           0.2299,
           0.1796,
           0.2057,
           0.301
          ],
          [
           0.2192,
           0.2466,
           0.2969,
           0.3212,
           0.30269999999999997,
           0.1699,
           0.512,
           0.40130000000000005
          ]
         ]
        }
       ],
       "layout": {
        "coloraxis": {
         "colorbar": {
          "title": {
           "text": "<b>Percentage<b>"
          }
         },
         "colorscale": [
          [
           0,
           "#0d0887"
          ],
          [
           0.1111111111111111,
           "#46039f"
          ],
          [
           0.2222222222222222,
           "#7201a8"
          ],
          [
           0.3333333333333333,
           "#9c179e"
          ],
          [
           0.4444444444444444,
           "#bd3786"
          ],
          [
           0.5555555555555556,
           "#d8576b"
          ],
          [
           0.6666666666666666,
           "#ed7953"
          ],
          [
           0.7777777777777778,
           "#fb9f3a"
          ],
          [
           0.8888888888888888,
           "#fdca26"
          ],
          [
           1,
           "#f0f921"
          ]
         ]
        },
        "height": 500,
        "template": {
         "data": {
          "bar": [
           {
            "error_x": {
             "color": "#2a3f5f"
            },
            "error_y": {
             "color": "#2a3f5f"
            },
            "marker": {
             "line": {
              "color": "#E5ECF6",
              "width": 0.5
             }
            },
            "type": "bar"
           }
          ],
          "barpolar": [
           {
            "marker": {
             "line": {
              "color": "#E5ECF6",
              "width": 0.5
             }
            },
            "type": "barpolar"
           }
          ],
          "carpet": [
           {
            "aaxis": {
             "endlinecolor": "#2a3f5f",
             "gridcolor": "white",
             "linecolor": "white",
             "minorgridcolor": "white",
             "startlinecolor": "#2a3f5f"
            },
            "baxis": {
             "endlinecolor": "#2a3f5f",
             "gridcolor": "white",
             "linecolor": "white",
             "minorgridcolor": "white",
             "startlinecolor": "#2a3f5f"
            },
            "type": "carpet"
           }
          ],
          "choropleth": [
           {
            "colorbar": {
             "outlinewidth": 0,
             "ticks": ""
            },
            "type": "choropleth"
           }
          ],
          "contour": [
           {
            "colorbar": {
             "outlinewidth": 0,
             "ticks": ""
            },
            "colorscale": [
             [
              0,
              "#0d0887"
             ],
             [
              0.1111111111111111,
              "#46039f"
             ],
             [
              0.2222222222222222,
              "#7201a8"
             ],
             [
              0.3333333333333333,
              "#9c179e"
             ],
             [
              0.4444444444444444,
              "#bd3786"
             ],
             [
              0.5555555555555556,
              "#d8576b"
             ],
             [
              0.6666666666666666,
              "#ed7953"
             ],
             [
              0.7777777777777778,
              "#fb9f3a"
             ],
             [
              0.8888888888888888,
              "#fdca26"
             ],
             [
              1,
              "#f0f921"
             ]
            ],
            "type": "contour"
           }
          ],
          "contourcarpet": [
           {
            "colorbar": {
             "outlinewidth": 0,
             "ticks": ""
            },
            "type": "contourcarpet"
           }
          ],
          "heatmap": [
           {
            "colorbar": {
             "outlinewidth": 0,
             "ticks": ""
            },
            "colorscale": [
             [
              0,
              "#0d0887"
             ],
             [
              0.1111111111111111,
              "#46039f"
             ],
             [
              0.2222222222222222,
              "#7201a8"
             ],
             [
              0.3333333333333333,
              "#9c179e"
             ],
             [
              0.4444444444444444,
              "#bd3786"
             ],
             [
              0.5555555555555556,
              "#d8576b"
             ],
             [
              0.6666666666666666,
              "#ed7953"
             ],
             [
              0.7777777777777778,
              "#fb9f3a"
             ],
             [
              0.8888888888888888,
              "#fdca26"
             ],
             [
              1,
              "#f0f921"
             ]
            ],
            "type": "heatmap"
           }
          ],
          "heatmapgl": [
           {
            "colorbar": {
             "outlinewidth": 0,
             "ticks": ""
            },
            "colorscale": [
             [
              0,
              "#0d0887"
             ],
             [
              0.1111111111111111,
              "#46039f"
             ],
             [
              0.2222222222222222,
              "#7201a8"
             ],
             [
              0.3333333333333333,
              "#9c179e"
             ],
             [
              0.4444444444444444,
              "#bd3786"
             ],
             [
              0.5555555555555556,
              "#d8576b"
             ],
             [
              0.6666666666666666,
              "#ed7953"
             ],
             [
              0.7777777777777778,
              "#fb9f3a"
             ],
             [
              0.8888888888888888,
              "#fdca26"
             ],
             [
              1,
              "#f0f921"
             ]
            ],
            "type": "heatmapgl"
           }
          ],
          "histogram": [
           {
            "marker": {
             "colorbar": {
              "outlinewidth": 0,
              "ticks": ""
             }
            },
            "type": "histogram"
           }
          ],
          "histogram2d": [
           {
            "colorbar": {
             "outlinewidth": 0,
             "ticks": ""
            },
            "colorscale": [
             [
              0,
              "#0d0887"
             ],
             [
              0.1111111111111111,
              "#46039f"
             ],
             [
              0.2222222222222222,
              "#7201a8"
             ],
             [
              0.3333333333333333,
              "#9c179e"
             ],
             [
              0.4444444444444444,
              "#bd3786"
             ],
             [
              0.5555555555555556,
              "#d8576b"
             ],
             [
              0.6666666666666666,
              "#ed7953"
             ],
             [
              0.7777777777777778,
              "#fb9f3a"
             ],
             [
              0.8888888888888888,
              "#fdca26"
             ],
             [
              1,
              "#f0f921"
             ]
            ],
            "type": "histogram2d"
           }
          ],
          "histogram2dcontour": [
           {
            "colorbar": {
             "outlinewidth": 0,
             "ticks": ""
            },
            "colorscale": [
             [
              0,
              "#0d0887"
             ],
             [
              0.1111111111111111,
              "#46039f"
             ],
             [
              0.2222222222222222,
              "#7201a8"
             ],
             [
              0.3333333333333333,
              "#9c179e"
             ],
             [
              0.4444444444444444,
              "#bd3786"
             ],
             [
              0.5555555555555556,
              "#d8576b"
             ],
             [
              0.6666666666666666,
              "#ed7953"
             ],
             [
              0.7777777777777778,
              "#fb9f3a"
             ],
             [
              0.8888888888888888,
              "#fdca26"
             ],
             [
              1,
              "#f0f921"
             ]
            ],
            "type": "histogram2dcontour"
           }
          ],
          "mesh3d": [
           {
            "colorbar": {
             "outlinewidth": 0,
             "ticks": ""
            },
            "type": "mesh3d"
           }
          ],
          "parcoords": [
           {
            "line": {
             "colorbar": {
              "outlinewidth": 0,
              "ticks": ""
             }
            },
            "type": "parcoords"
           }
          ],
          "pie": [
           {
            "automargin": true,
            "type": "pie"
           }
          ],
          "scatter": [
           {
            "marker": {
             "colorbar": {
              "outlinewidth": 0,
              "ticks": ""
             }
            },
            "type": "scatter"
           }
          ],
          "scatter3d": [
           {
            "line": {
             "colorbar": {
              "outlinewidth": 0,
              "ticks": ""
             }
            },
            "marker": {
             "colorbar": {
              "outlinewidth": 0,
              "ticks": ""
             }
            },
            "type": "scatter3d"
           }
          ],
          "scattercarpet": [
           {
            "marker": {
             "colorbar": {
              "outlinewidth": 0,
              "ticks": ""
             }
            },
            "type": "scattercarpet"
           }
          ],
          "scattergeo": [
           {
            "marker": {
             "colorbar": {
              "outlinewidth": 0,
              "ticks": ""
             }
            },
            "type": "scattergeo"
           }
          ],
          "scattergl": [
           {
            "marker": {
             "colorbar": {
              "outlinewidth": 0,
              "ticks": ""
             }
            },
            "type": "scattergl"
           }
          ],
          "scattermapbox": [
           {
            "marker": {
             "colorbar": {
              "outlinewidth": 0,
              "ticks": ""
             }
            },
            "type": "scattermapbox"
           }
          ],
          "scatterpolar": [
           {
            "marker": {
             "colorbar": {
              "outlinewidth": 0,
              "ticks": ""
             }
            },
            "type": "scatterpolar"
           }
          ],
          "scatterpolargl": [
           {
            "marker": {
             "colorbar": {
              "outlinewidth": 0,
              "ticks": ""
             }
            },
            "type": "scatterpolargl"
           }
          ],
          "scatterternary": [
           {
            "marker": {
             "colorbar": {
              "outlinewidth": 0,
              "ticks": ""
             }
            },
            "type": "scatterternary"
           }
          ],
          "surface": [
           {
            "colorbar": {
             "outlinewidth": 0,
             "ticks": ""
            },
            "colorscale": [
             [
              0,
              "#0d0887"
             ],
             [
              0.1111111111111111,
              "#46039f"
             ],
             [
              0.2222222222222222,
              "#7201a8"
             ],
             [
              0.3333333333333333,
              "#9c179e"
             ],
             [
              0.4444444444444444,
              "#bd3786"
             ],
             [
              0.5555555555555556,
              "#d8576b"
             ],
             [
              0.6666666666666666,
              "#ed7953"
             ],
             [
              0.7777777777777778,
              "#fb9f3a"
             ],
             [
              0.8888888888888888,
              "#fdca26"
             ],
             [
              1,
              "#f0f921"
             ]
            ],
            "type": "surface"
           }
          ],
          "table": [
           {
            "cells": {
             "fill": {
              "color": "#EBF0F8"
             },
             "line": {
              "color": "white"
             }
            },
            "header": {
             "fill": {
              "color": "#C8D4E3"
             },
             "line": {
              "color": "white"
             }
            },
            "type": "table"
           }
          ]
         },
         "layout": {
          "annotationdefaults": {
           "arrowcolor": "#2a3f5f",
           "arrowhead": 0,
           "arrowwidth": 1
          },
          "autotypenumbers": "strict",
          "coloraxis": {
           "colorbar": {
            "outlinewidth": 0,
            "ticks": ""
           }
          },
          "colorscale": {
           "diverging": [
            [
             0,
             "#8e0152"
            ],
            [
             0.1,
             "#c51b7d"
            ],
            [
             0.2,
             "#de77ae"
            ],
            [
             0.3,
             "#f1b6da"
            ],
            [
             0.4,
             "#fde0ef"
            ],
            [
             0.5,
             "#f7f7f7"
            ],
            [
             0.6,
             "#e6f5d0"
            ],
            [
             0.7,
             "#b8e186"
            ],
            [
             0.8,
             "#7fbc41"
            ],
            [
             0.9,
             "#4d9221"
            ],
            [
             1,
             "#276419"
            ]
           ],
           "sequential": [
            [
             0,
             "#0d0887"
            ],
            [
             0.1111111111111111,
             "#46039f"
            ],
            [
             0.2222222222222222,
             "#7201a8"
            ],
            [
             0.3333333333333333,
             "#9c179e"
            ],
            [
             0.4444444444444444,
             "#bd3786"
            ],
            [
             0.5555555555555556,
             "#d8576b"
            ],
            [
             0.6666666666666666,
             "#ed7953"
            ],
            [
             0.7777777777777778,
             "#fb9f3a"
            ],
            [
             0.8888888888888888,
             "#fdca26"
            ],
            [
             1,
             "#f0f921"
            ]
           ],
           "sequentialminus": [
            [
             0,
             "#0d0887"
            ],
            [
             0.1111111111111111,
             "#46039f"
            ],
            [
             0.2222222222222222,
             "#7201a8"
            ],
            [
             0.3333333333333333,
             "#9c179e"
            ],
            [
             0.4444444444444444,
             "#bd3786"
            ],
            [
             0.5555555555555556,
             "#d8576b"
            ],
            [
             0.6666666666666666,
             "#ed7953"
            ],
            [
             0.7777777777777778,
             "#fb9f3a"
            ],
            [
             0.8888888888888888,
             "#fdca26"
            ],
            [
             1,
             "#f0f921"
            ]
           ]
          },
          "colorway": [
           "#636efa",
           "#EF553B",
           "#00cc96",
           "#ab63fa",
           "#FFA15A",
           "#19d3f3",
           "#FF6692",
           "#B6E880",
           "#FF97FF",
           "#FECB52"
          ],
          "font": {
           "color": "#2a3f5f"
          },
          "geo": {
           "bgcolor": "white",
           "lakecolor": "white",
           "landcolor": "#E5ECF6",
           "showlakes": true,
           "showland": true,
           "subunitcolor": "white"
          },
          "hoverlabel": {
           "align": "left"
          },
          "hovermode": "closest",
          "mapbox": {
           "style": "light"
          },
          "paper_bgcolor": "white",
          "plot_bgcolor": "#E5ECF6",
          "polar": {
           "angularaxis": {
            "gridcolor": "white",
            "linecolor": "white",
            "ticks": ""
           },
           "bgcolor": "#E5ECF6",
           "radialaxis": {
            "gridcolor": "white",
            "linecolor": "white",
            "ticks": ""
           }
          },
          "scene": {
           "xaxis": {
            "backgroundcolor": "#E5ECF6",
            "gridcolor": "white",
            "gridwidth": 2,
            "linecolor": "white",
            "showbackground": true,
            "ticks": "",
            "zerolinecolor": "white"
           },
           "yaxis": {
            "backgroundcolor": "#E5ECF6",
            "gridcolor": "white",
            "gridwidth": 2,
            "linecolor": "white",
            "showbackground": true,
            "ticks": "",
            "zerolinecolor": "white"
           },
           "zaxis": {
            "backgroundcolor": "#E5ECF6",
            "gridcolor": "white",
            "gridwidth": 2,
            "linecolor": "white",
            "showbackground": true,
            "ticks": "",
            "zerolinecolor": "white"
           }
          },
          "shapedefaults": {
           "line": {
            "color": "#2a3f5f"
           }
          },
          "ternary": {
           "aaxis": {
            "gridcolor": "white",
            "linecolor": "white",
            "ticks": ""
           },
           "baxis": {
            "gridcolor": "white",
            "linecolor": "white",
            "ticks": ""
           },
           "bgcolor": "#E5ECF6",
           "caxis": {
            "gridcolor": "white",
            "linecolor": "white",
            "ticks": ""
           }
          },
          "title": {
           "x": 0.05
          },
          "xaxis": {
           "automargin": true,
           "gridcolor": "white",
           "linecolor": "white",
           "ticks": "",
           "title": {
            "standoff": 15
           },
           "zerolinecolor": "white",
           "zerolinewidth": 2
          },
          "yaxis": {
           "automargin": true,
           "gridcolor": "white",
           "linecolor": "white",
           "ticks": "",
           "title": {
            "standoff": 15
           },
           "zerolinecolor": "white",
           "zerolinewidth": 2
          }
         }
        },
        "title": {
         "text": "<b>Exhibit 4 - Compensation Levels across groups<b>"
        },
        "width": 700,
        "xaxis": {
         "anchor": "y",
         "constrain": "domain",
         "domain": [
          0,
          1
         ],
         "scaleanchor": "y",
         "side": "bottom",
         "title": {
          "text": "<b>DS Community Group<b>"
         }
        },
        "yaxis": {
         "anchor": "x",
         "autorange": "reversed",
         "constrain": "domain",
         "domain": [
          0,
          1
         ],
         "title": {
          "text": "<b>Compensation Level Quartiles<b>"
         },
         "type": "category"
        }
       }
      },
      "text/html": [
       "<div>                            <div id=\"1ae54d4a-eb7a-46b1-a465-2473b8a75236\" class=\"plotly-graph-div\" style=\"height:500px; width:700px;\"></div>            <script type=\"text/javascript\">                require([\"plotly\"], function(Plotly) {                    window.PLOTLYENV=window.PLOTLYENV || {};                                    if (document.getElementById(\"1ae54d4a-eb7a-46b1-a465-2473b8a75236\")) {                    Plotly.newPlot(                        \"1ae54d4a-eb7a-46b1-a465-2473b8a75236\",                        [{\"coloraxis\": \"coloraxis\", \"hovertemplate\": \"<b>DS Community Group<b>: %{x}<br><b>Compensation Level Quartiles<b>: %{y}<br><b>Percentage<b>: %{z}<extra></extra>\", \"name\": \"0\", \"type\": \"heatmap\", \"x\": [\"<b>Grp0: Mean x: 0.97; SD x :0.99\", \"<b>Grp1: Mean x: 0.89; SD x :0.82\", \"<b>Grp2: Mean x: 1.18; SD x :1.14\", \"<b>Grp3: Mean x: 1.26; SD x :1.24\", \"<b>Grp4: Mean x: 1.05; SD x :1.04\", \"<b>Grp5: Mean x: 0.77; SD x :0.74\", \"<b>Grp6: Mean x: 1.06; SD x :0.76\", \"<b>Grp7: Mean x: 1.07; SD x :0.94\"], \"xaxis\": \"x\", \"y\": [1, 2, 3, 4], \"yaxis\": \"y\", \"z\": [[0.27149999999999996, 0.1963, 0.2188, 0.2041, 0.2069, 0.44659999999999994, 0.1483, 0.1003], [0.2711, 0.26940000000000003, 0.207, 0.2373, 0.2605, 0.2039, 0.134, 0.1974], [0.2382, 0.2877, 0.2773, 0.2373, 0.2299, 0.1796, 0.2057, 0.301], [0.2192, 0.2466, 0.2969, 0.3212, 0.30269999999999997, 0.1699, 0.512, 0.40130000000000005]]}],                        {\"coloraxis\": {\"colorbar\": {\"title\": {\"text\": \"<b>Percentage<b>\"}}, \"colorscale\": [[0.0, \"#0d0887\"], [0.1111111111111111, \"#46039f\"], [0.2222222222222222, \"#7201a8\"], [0.3333333333333333, \"#9c179e\"], [0.4444444444444444, \"#bd3786\"], [0.5555555555555556, \"#d8576b\"], [0.6666666666666666, \"#ed7953\"], [0.7777777777777778, \"#fb9f3a\"], [0.8888888888888888, \"#fdca26\"], [1.0, \"#f0f921\"]]}, \"height\": 500, \"template\": {\"data\": {\"bar\": [{\"error_x\": {\"color\": \"#2a3f5f\"}, \"error_y\": {\"color\": \"#2a3f5f\"}, \"marker\": {\"line\": {\"color\": \"#E5ECF6\", \"width\": 0.5}}, \"type\": \"bar\"}], \"barpolar\": [{\"marker\": {\"line\": {\"color\": \"#E5ECF6\", \"width\": 0.5}}, \"type\": \"barpolar\"}], \"carpet\": [{\"aaxis\": {\"endlinecolor\": \"#2a3f5f\", \"gridcolor\": \"white\", \"linecolor\": \"white\", \"minorgridcolor\": \"white\", \"startlinecolor\": \"#2a3f5f\"}, \"baxis\": {\"endlinecolor\": \"#2a3f5f\", \"gridcolor\": \"white\", \"linecolor\": \"white\", \"minorgridcolor\": \"white\", \"startlinecolor\": \"#2a3f5f\"}, \"type\": \"carpet\"}], \"choropleth\": [{\"colorbar\": {\"outlinewidth\": 0, \"ticks\": \"\"}, \"type\": \"choropleth\"}], \"contour\": [{\"colorbar\": {\"outlinewidth\": 0, \"ticks\": \"\"}, \"colorscale\": [[0.0, \"#0d0887\"], [0.1111111111111111, \"#46039f\"], [0.2222222222222222, \"#7201a8\"], [0.3333333333333333, \"#9c179e\"], [0.4444444444444444, \"#bd3786\"], [0.5555555555555556, \"#d8576b\"], [0.6666666666666666, \"#ed7953\"], [0.7777777777777778, \"#fb9f3a\"], [0.8888888888888888, \"#fdca26\"], [1.0, \"#f0f921\"]], \"type\": \"contour\"}], \"contourcarpet\": [{\"colorbar\": {\"outlinewidth\": 0, \"ticks\": \"\"}, \"type\": \"contourcarpet\"}], \"heatmap\": [{\"colorbar\": {\"outlinewidth\": 0, \"ticks\": \"\"}, \"colorscale\": [[0.0, \"#0d0887\"], [0.1111111111111111, \"#46039f\"], [0.2222222222222222, \"#7201a8\"], [0.3333333333333333, \"#9c179e\"], [0.4444444444444444, \"#bd3786\"], [0.5555555555555556, \"#d8576b\"], [0.6666666666666666, \"#ed7953\"], [0.7777777777777778, \"#fb9f3a\"], [0.8888888888888888, \"#fdca26\"], [1.0, \"#f0f921\"]], \"type\": \"heatmap\"}], \"heatmapgl\": [{\"colorbar\": {\"outlinewidth\": 0, \"ticks\": \"\"}, \"colorscale\": [[0.0, \"#0d0887\"], [0.1111111111111111, \"#46039f\"], [0.2222222222222222, \"#7201a8\"], [0.3333333333333333, \"#9c179e\"], [0.4444444444444444, \"#bd3786\"], [0.5555555555555556, \"#d8576b\"], [0.6666666666666666, \"#ed7953\"], [0.7777777777777778, \"#fb9f3a\"], [0.8888888888888888, \"#fdca26\"], [1.0, \"#f0f921\"]], \"type\": \"heatmapgl\"}], \"histogram\": [{\"marker\": {\"colorbar\": {\"outlinewidth\": 0, \"ticks\": \"\"}}, \"type\": \"histogram\"}], \"histogram2d\": [{\"colorbar\": {\"outlinewidth\": 0, \"ticks\": \"\"}, \"colorscale\": [[0.0, \"#0d0887\"], [0.1111111111111111, \"#46039f\"], [0.2222222222222222, \"#7201a8\"], [0.3333333333333333, \"#9c179e\"], [0.4444444444444444, \"#bd3786\"], [0.5555555555555556, \"#d8576b\"], [0.6666666666666666, \"#ed7953\"], [0.7777777777777778, \"#fb9f3a\"], [0.8888888888888888, \"#fdca26\"], [1.0, \"#f0f921\"]], \"type\": \"histogram2d\"}], \"histogram2dcontour\": [{\"colorbar\": {\"outlinewidth\": 0, \"ticks\": \"\"}, \"colorscale\": [[0.0, \"#0d0887\"], [0.1111111111111111, \"#46039f\"], [0.2222222222222222, \"#7201a8\"], [0.3333333333333333, \"#9c179e\"], [0.4444444444444444, \"#bd3786\"], [0.5555555555555556, \"#d8576b\"], [0.6666666666666666, \"#ed7953\"], [0.7777777777777778, \"#fb9f3a\"], [0.8888888888888888, \"#fdca26\"], [1.0, \"#f0f921\"]], \"type\": \"histogram2dcontour\"}], \"mesh3d\": [{\"colorbar\": {\"outlinewidth\": 0, \"ticks\": \"\"}, \"type\": \"mesh3d\"}], \"parcoords\": [{\"line\": {\"colorbar\": {\"outlinewidth\": 0, \"ticks\": \"\"}}, \"type\": \"parcoords\"}], \"pie\": [{\"automargin\": true, \"type\": \"pie\"}], \"scatter\": [{\"marker\": {\"colorbar\": {\"outlinewidth\": 0, \"ticks\": \"\"}}, \"type\": \"scatter\"}], \"scatter3d\": [{\"line\": {\"colorbar\": {\"outlinewidth\": 0, \"ticks\": \"\"}}, \"marker\": {\"colorbar\": {\"outlinewidth\": 0, \"ticks\": \"\"}}, \"type\": \"scatter3d\"}], \"scattercarpet\": [{\"marker\": {\"colorbar\": {\"outlinewidth\": 0, \"ticks\": \"\"}}, \"type\": \"scattercarpet\"}], \"scattergeo\": [{\"marker\": {\"colorbar\": {\"outlinewidth\": 0, \"ticks\": \"\"}}, \"type\": \"scattergeo\"}], \"scattergl\": [{\"marker\": {\"colorbar\": {\"outlinewidth\": 0, \"ticks\": \"\"}}, \"type\": \"scattergl\"}], \"scattermapbox\": [{\"marker\": {\"colorbar\": {\"outlinewidth\": 0, \"ticks\": \"\"}}, \"type\": \"scattermapbox\"}], \"scatterpolar\": [{\"marker\": {\"colorbar\": {\"outlinewidth\": 0, \"ticks\": \"\"}}, \"type\": \"scatterpolar\"}], \"scatterpolargl\": [{\"marker\": {\"colorbar\": {\"outlinewidth\": 0, \"ticks\": \"\"}}, \"type\": \"scatterpolargl\"}], \"scatterternary\": [{\"marker\": {\"colorbar\": {\"outlinewidth\": 0, \"ticks\": \"\"}}, \"type\": \"scatterternary\"}], \"surface\": [{\"colorbar\": {\"outlinewidth\": 0, \"ticks\": \"\"}, \"colorscale\": [[0.0, \"#0d0887\"], [0.1111111111111111, \"#46039f\"], [0.2222222222222222, \"#7201a8\"], [0.3333333333333333, \"#9c179e\"], [0.4444444444444444, \"#bd3786\"], [0.5555555555555556, \"#d8576b\"], [0.6666666666666666, \"#ed7953\"], [0.7777777777777778, \"#fb9f3a\"], [0.8888888888888888, \"#fdca26\"], [1.0, \"#f0f921\"]], \"type\": \"surface\"}], \"table\": [{\"cells\": {\"fill\": {\"color\": \"#EBF0F8\"}, \"line\": {\"color\": \"white\"}}, \"header\": {\"fill\": {\"color\": \"#C8D4E3\"}, \"line\": {\"color\": \"white\"}}, \"type\": \"table\"}]}, \"layout\": {\"annotationdefaults\": {\"arrowcolor\": \"#2a3f5f\", \"arrowhead\": 0, \"arrowwidth\": 1}, \"autotypenumbers\": \"strict\", \"coloraxis\": {\"colorbar\": {\"outlinewidth\": 0, \"ticks\": \"\"}}, \"colorscale\": {\"diverging\": [[0, \"#8e0152\"], [0.1, \"#c51b7d\"], [0.2, \"#de77ae\"], [0.3, \"#f1b6da\"], [0.4, \"#fde0ef\"], [0.5, \"#f7f7f7\"], [0.6, \"#e6f5d0\"], [0.7, \"#b8e186\"], [0.8, \"#7fbc41\"], [0.9, \"#4d9221\"], [1, \"#276419\"]], \"sequential\": [[0.0, \"#0d0887\"], [0.1111111111111111, \"#46039f\"], [0.2222222222222222, \"#7201a8\"], [0.3333333333333333, \"#9c179e\"], [0.4444444444444444, \"#bd3786\"], [0.5555555555555556, \"#d8576b\"], [0.6666666666666666, \"#ed7953\"], [0.7777777777777778, \"#fb9f3a\"], [0.8888888888888888, \"#fdca26\"], [1.0, \"#f0f921\"]], \"sequentialminus\": [[0.0, \"#0d0887\"], [0.1111111111111111, \"#46039f\"], [0.2222222222222222, \"#7201a8\"], [0.3333333333333333, \"#9c179e\"], [0.4444444444444444, \"#bd3786\"], [0.5555555555555556, \"#d8576b\"], [0.6666666666666666, \"#ed7953\"], [0.7777777777777778, \"#fb9f3a\"], [0.8888888888888888, \"#fdca26\"], [1.0, \"#f0f921\"]]}, \"colorway\": [\"#636efa\", \"#EF553B\", \"#00cc96\", \"#ab63fa\", \"#FFA15A\", \"#19d3f3\", \"#FF6692\", \"#B6E880\", \"#FF97FF\", \"#FECB52\"], \"font\": {\"color\": \"#2a3f5f\"}, \"geo\": {\"bgcolor\": \"white\", \"lakecolor\": \"white\", \"landcolor\": \"#E5ECF6\", \"showlakes\": true, \"showland\": true, \"subunitcolor\": \"white\"}, \"hoverlabel\": {\"align\": \"left\"}, \"hovermode\": \"closest\", \"mapbox\": {\"style\": \"light\"}, \"paper_bgcolor\": \"white\", \"plot_bgcolor\": \"#E5ECF6\", \"polar\": {\"angularaxis\": {\"gridcolor\": \"white\", \"linecolor\": \"white\", \"ticks\": \"\"}, \"bgcolor\": \"#E5ECF6\", \"radialaxis\": {\"gridcolor\": \"white\", \"linecolor\": \"white\", \"ticks\": \"\"}}, \"scene\": {\"xaxis\": {\"backgroundcolor\": \"#E5ECF6\", \"gridcolor\": \"white\", \"gridwidth\": 2, \"linecolor\": \"white\", \"showbackground\": true, \"ticks\": \"\", \"zerolinecolor\": \"white\"}, \"yaxis\": {\"backgroundcolor\": \"#E5ECF6\", \"gridcolor\": \"white\", \"gridwidth\": 2, \"linecolor\": \"white\", \"showbackground\": true, \"ticks\": \"\", \"zerolinecolor\": \"white\"}, \"zaxis\": {\"backgroundcolor\": \"#E5ECF6\", \"gridcolor\": \"white\", \"gridwidth\": 2, \"linecolor\": \"white\", \"showbackground\": true, \"ticks\": \"\", \"zerolinecolor\": \"white\"}}, \"shapedefaults\": {\"line\": {\"color\": \"#2a3f5f\"}}, \"ternary\": {\"aaxis\": {\"gridcolor\": \"white\", \"linecolor\": \"white\", \"ticks\": \"\"}, \"baxis\": {\"gridcolor\": \"white\", \"linecolor\": \"white\", \"ticks\": \"\"}, \"bgcolor\": \"#E5ECF6\", \"caxis\": {\"gridcolor\": \"white\", \"linecolor\": \"white\", \"ticks\": \"\"}}, \"title\": {\"x\": 0.05}, \"xaxis\": {\"automargin\": true, \"gridcolor\": \"white\", \"linecolor\": \"white\", \"ticks\": \"\", \"title\": {\"standoff\": 15}, \"zerolinecolor\": \"white\", \"zerolinewidth\": 2}, \"yaxis\": {\"automargin\": true, \"gridcolor\": \"white\", \"linecolor\": \"white\", \"ticks\": \"\", \"title\": {\"standoff\": 15}, \"zerolinecolor\": \"white\", \"zerolinewidth\": 2}}}, \"title\": {\"text\": \"<b>Exhibit 4 - Compensation Levels across groups<b>\"}, \"width\": 700, \"xaxis\": {\"anchor\": \"y\", \"constrain\": \"domain\", \"domain\": [0.0, 1.0], \"scaleanchor\": \"y\", \"side\": \"bottom\", \"title\": {\"text\": \"<b>DS Community Group<b>\"}}, \"yaxis\": {\"anchor\": \"x\", \"autorange\": \"reversed\", \"constrain\": \"domain\", \"domain\": [0.0, 1.0], \"title\": {\"text\": \"<b>Compensation Level Quartiles<b>\"}, \"type\": \"category\"}},                        {\"responsive\": true}                    ).then(function(){\n",
       "                            \n",
       "var gd = document.getElementById('1ae54d4a-eb7a-46b1-a465-2473b8a75236');\n",
       "var x = new MutationObserver(function (mutations, observer) {{\n",
       "        var display = window.getComputedStyle(gd).display;\n",
       "        if (!display || display === 'none') {{\n",
       "            console.log([gd, 'removed!']);\n",
       "            Plotly.purge(gd);\n",
       "            observer.disconnect();\n",
       "        }}\n",
       "}});\n",
       "\n",
       "// Listen for the removal of the full notebook cells\n",
       "var notebookContainer = gd.closest('#notebook-container');\n",
       "if (notebookContainer) {{\n",
       "    x.observe(notebookContainer, {childList: true});\n",
       "}}\n",
       "\n",
       "// Listen for the clearing of the current output cell\n",
       "var outputEl = gd.closest('.output');\n",
       "if (outputEl) {{\n",
       "    x.observe(outputEl, {childList: true});\n",
       "}}\n",
       "\n",
       "                        })                };                });            </script>        </div>"
      ]
     },
     "metadata": {},
     "output_type": "display_data"
    }
   ],
   "source": [
    "# Visualize information in the form of a Heatmap\n",
    "fig = px.imshow(compvsrolegroup_df,\n",
    "                    labels=dict(x=\"<b>DS Community Group<b>\", y=\"<b>Compensation Level Quartiles<b>\",color=\"<b>Percentage<b>\"),\n",
    "                    title= '<b>Exhibit 4 - Compensation Levels across groups<b>',\n",
    "                    x=compvsrolegroup_df.columns,#['Group 0','Group 1','Group 2','Group 3'],\n",
    "                    y=compvsrolegroup_df.index,width=700, height=500\n",
    "                   )\n",
    "fig.update_xaxes(side=\"bottom\")\n",
    "fig.update_yaxes(type='category')\n",
    "fig.show()\n",
    "#plot_heatmap(compvsrolegroup_df,'Compensation Levels across groups',800,1000,y='str')"
   ]
  },
  {
   "cell_type": "code",
   "execution_count": 10,
   "metadata": {},
   "outputs": [
    {
     "data": {
      "text/html": [
       "<div>\n",
       "<style scoped>\n",
       "    .dataframe tbody tr th:only-of-type {\n",
       "        vertical-align: middle;\n",
       "    }\n",
       "\n",
       "    .dataframe tbody tr th {\n",
       "        vertical-align: top;\n",
       "    }\n",
       "\n",
       "    .dataframe thead th {\n",
       "        text-align: right;\n",
       "    }\n",
       "</style>\n",
       "<table border=\"1\" class=\"dataframe\">\n",
       "  <thead>\n",
       "    <tr style=\"text-align: right;\">\n",
       "      <th></th>\n",
       "      <th>0</th>\n",
       "      <th>1</th>\n",
       "      <th>2</th>\n",
       "      <th>3</th>\n",
       "      <th>4</th>\n",
       "      <th>5</th>\n",
       "      <th>6</th>\n",
       "      <th>7</th>\n",
       "    </tr>\n",
       "  </thead>\n",
       "  <tbody>\n",
       "    <tr>\n",
       "      <th>1</th>\n",
       "      <td>1484</td>\n",
       "      <td>86</td>\n",
       "      <td>56</td>\n",
       "      <td>129</td>\n",
       "      <td>108</td>\n",
       "      <td>92</td>\n",
       "      <td>31</td>\n",
       "      <td>31</td>\n",
       "    </tr>\n",
       "    <tr>\n",
       "      <th>2</th>\n",
       "      <td>1482</td>\n",
       "      <td>118</td>\n",
       "      <td>53</td>\n",
       "      <td>150</td>\n",
       "      <td>136</td>\n",
       "      <td>42</td>\n",
       "      <td>28</td>\n",
       "      <td>61</td>\n",
       "    </tr>\n",
       "    <tr>\n",
       "      <th>3</th>\n",
       "      <td>1302</td>\n",
       "      <td>126</td>\n",
       "      <td>71</td>\n",
       "      <td>150</td>\n",
       "      <td>120</td>\n",
       "      <td>37</td>\n",
       "      <td>43</td>\n",
       "      <td>93</td>\n",
       "    </tr>\n",
       "    <tr>\n",
       "      <th>4</th>\n",
       "      <td>1198</td>\n",
       "      <td>108</td>\n",
       "      <td>76</td>\n",
       "      <td>203</td>\n",
       "      <td>158</td>\n",
       "      <td>35</td>\n",
       "      <td>107</td>\n",
       "      <td>124</td>\n",
       "    </tr>\n",
       "  </tbody>\n",
       "</table>\n",
       "</div>"
      ],
      "text/plain": [
       "      0    1   2    3    4   5    6    7\n",
       "1  1484   86  56  129  108  92   31   31\n",
       "2  1482  118  53  150  136  42   28   61\n",
       "3  1302  126  71  150  120  37   43   93\n",
       "4  1198  108  76  203  158  35  107  124"
      ]
     },
     "execution_count": 10,
     "metadata": {},
     "output_type": "execute_result"
    }
   ],
   "source": [
    "#Get the compensation levels vs group dataframe as contingency matrix \n",
    "cols=us_community_df.Ef_Cat_DeveloperSegment.unique().tolist()\n",
    "cols.sort(key=int) #Sort the groups numerically in ascending order\n",
    "\n",
    "#create df containing contingency matrix to serve as input for chi square test\n",
    "compvsrolegroup_contmat_df =pd.DataFrame(data=0, index=us_community_df.Ef_Cat_ConvertedCompQuartile.unique().tolist(), columns=cols).sort_index()\n",
    "x=df_g.apply(lambda row : create_cont_matrix(row,'Ef_Cat_ConvertedCompQuartile',compvsrolegroup_contmat_df,'Count'), axis=1)\n",
    "compvsrolegroup_contmat_df = compvsrolegroup_contmat_df.astype(int)\n",
    "compvsrolegroup_contmat_df"
   ]
  },
  {
   "cell_type": "markdown",
   "metadata": {},
   "source": [
    "#### Conduct Statistical test (Chi square Test ) to check if compensation level (categorical variable) and cluster group categorical variable are independent"
   ]
  },
  {
   "cell_type": "code",
   "execution_count": 11,
   "metadata": {},
   "outputs": [
    {
     "name": "stdout",
     "output_type": "stream",
     "text": [
      "dof=21\n",
      "[[1371.60014929  109.90868375   64.23886539  158.58969893  130.98706146\n",
      "    51.69221199   52.4450112    77.53831799]\n",
      " [1407.64120428  112.7967156    65.92684747  162.7569047   134.42896243\n",
      "    53.05051008   53.82309032   79.57576512]\n",
      " [1320.59865638  105.82184623   61.8502115   152.69270963  126.11644688\n",
      "    49.77009206   50.49489923   74.65513809]\n",
      " [1366.15999005  109.47275442   63.98407564  157.96068674  130.46752924\n",
      "    51.48718587   52.23699925   77.2307788 ]]\n",
      "probability=0.950, critical=32.671, stat=267.248\n",
      "Result based on test statistic: Dependent (Reject null hypothesis H0)\n",
      "significance=0.050, p=0.000\n",
      "Result based on p-value: Dependent (Reject null hypothesis H0)\n"
     ]
    }
   ],
   "source": [
    "#Perform chi square test \n",
    "perform_chi_square_test(compvsrolegroup_contmat_df)"
   ]
  },
  {
   "cell_type": "markdown",
   "metadata": {},
   "source": [
    "#### Conclusion: Compensation levels quartile #  and Cluster group categorical variables are dependent"
   ]
  },
  {
   "cell_type": "markdown",
   "metadata": {},
   "source": [
    "## III.\tHow do these personas relate to jobsat, both, practically and/or statistically?"
   ]
  },
  {
   "cell_type": "code",
   "execution_count": 12,
   "metadata": {},
   "outputs": [
    {
     "name": "stdout",
     "output_type": "stream",
     "text": [
      "Check number of null values for JobSat  False    8030\n",
      "True        8\n",
      "Name: JobSat, dtype: int64 \n",
      "\n",
      "Value counts for JobSat \n",
      "\n"
     ]
    },
    {
     "data": {
      "text/plain": [
       "Very satisfied                        3312\n",
       "Slightly satisfied                    2400\n",
       "Slightly dissatisfied                 1134\n",
       "Neither satisfied nor dissatisfied     693\n",
       "Very dissatisfied                      491\n",
       "Not Specified                            8\n",
       "Name: JobSat, dtype: int64"
      ]
     },
     "execution_count": 12,
     "metadata": {},
     "output_type": "execute_result"
    }
   ],
   "source": [
    "print('Check number of null values for JobSat ',us_community_df.JobSat.isnull().value_counts(),'\\n')\n",
    "us_community_df.JobSat = np.where(us_community_df.JobSat.isnull(),\"Not Specified\",us_community_df.JobSat)\n",
    "print('Value counts for JobSat \\n')\n",
    "us_community_df.JobSat.value_counts()"
   ]
  },
  {
   "cell_type": "code",
   "execution_count": 13,
   "metadata": {},
   "outputs": [],
   "source": [
    "#Calculate relative percentage diffeence between jobsat levels in group vis-a-vis corresponding \n",
    "#national percentage \n",
    "def calc_grp_vs_nat_rel_jobsat_levels(row,country_jobsat_pct):\n",
    "    jobsat_level = row['Ef_Cat_JobSat']\n",
    "    national_value_for_jobsat = country_jobsat_pct.loc[country_jobsat_pct.index==jobsat_level].values[0]\n",
    "    relative_pct = row['Percentage'] - national_value_for_jobsat \n",
    "    return relative_pct"
   ]
  },
  {
   "cell_type": "code",
   "execution_count": 14,
   "metadata": {},
   "outputs": [
    {
     "data": {
      "text/html": [
       "<div>\n",
       "<style scoped>\n",
       "    .dataframe tbody tr th:only-of-type {\n",
       "        vertical-align: middle;\n",
       "    }\n",
       "\n",
       "    .dataframe tbody tr th {\n",
       "        vertical-align: top;\n",
       "    }\n",
       "\n",
       "    .dataframe thead th {\n",
       "        text-align: right;\n",
       "    }\n",
       "</style>\n",
       "<table border=\"1\" class=\"dataframe\">\n",
       "  <thead>\n",
       "    <tr style=\"text-align: right;\">\n",
       "      <th></th>\n",
       "      <th>&lt;b&gt;Grp0: Mean x: 0.97; SD x :0.99</th>\n",
       "      <th>&lt;b&gt;Grp1: Mean x: 0.89; SD x :0.82</th>\n",
       "      <th>&lt;b&gt;Grp2: Mean x: 1.18; SD x :1.14</th>\n",
       "      <th>&lt;b&gt;Grp3: Mean x: 1.26; SD x :1.24</th>\n",
       "      <th>&lt;b&gt;Grp4: Mean x: 1.05; SD x :1.04</th>\n",
       "      <th>&lt;b&gt;Grp5: Mean x: 0.77; SD x :0.74</th>\n",
       "      <th>&lt;b&gt;Grp6: Mean x: 1.06; SD x :0.76</th>\n",
       "      <th>&lt;b&gt;Grp7: Mean x: 1.07; SD x :0.94</th>\n",
       "    </tr>\n",
       "  </thead>\n",
       "  <tbody>\n",
       "    <tr>\n",
       "      <th>Neither satisfied nor dissatisfied</th>\n",
       "      <td>0.0885</td>\n",
       "      <td>0.0822</td>\n",
       "      <td>0.0664</td>\n",
       "      <td>0.0712</td>\n",
       "      <td>0.0862</td>\n",
       "      <td>0.0922</td>\n",
       "      <td>0.0478</td>\n",
       "      <td>0.1197</td>\n",
       "    </tr>\n",
       "    <tr>\n",
       "      <th>Not Specified</th>\n",
       "      <td>0.0007</td>\n",
       "      <td>0.0000</td>\n",
       "      <td>0.0000</td>\n",
       "      <td>0.0016</td>\n",
       "      <td>0.0019</td>\n",
       "      <td>0.0049</td>\n",
       "      <td>0.0000</td>\n",
       "      <td>0.0032</td>\n",
       "    </tr>\n",
       "    <tr>\n",
       "      <th>Slightly dissatisfied</th>\n",
       "      <td>0.1473</td>\n",
       "      <td>0.1370</td>\n",
       "      <td>0.1641</td>\n",
       "      <td>0.1203</td>\n",
       "      <td>0.1360</td>\n",
       "      <td>0.1165</td>\n",
       "      <td>0.0957</td>\n",
       "      <td>0.1165</td>\n",
       "    </tr>\n",
       "    <tr>\n",
       "      <th>Slightly satisfied</th>\n",
       "      <td>0.2931</td>\n",
       "      <td>0.3607</td>\n",
       "      <td>0.3164</td>\n",
       "      <td>0.2896</td>\n",
       "      <td>0.3103</td>\n",
       "      <td>0.2718</td>\n",
       "      <td>0.2632</td>\n",
       "      <td>0.3333</td>\n",
       "    </tr>\n",
       "    <tr>\n",
       "      <th>Very dissatisfied</th>\n",
       "      <td>0.0598</td>\n",
       "      <td>0.0342</td>\n",
       "      <td>0.0664</td>\n",
       "      <td>0.0696</td>\n",
       "      <td>0.0747</td>\n",
       "      <td>0.0583</td>\n",
       "      <td>0.0766</td>\n",
       "      <td>0.0680</td>\n",
       "    </tr>\n",
       "    <tr>\n",
       "      <th>Very satisfied</th>\n",
       "      <td>0.4105</td>\n",
       "      <td>0.3858</td>\n",
       "      <td>0.3867</td>\n",
       "      <td>0.4478</td>\n",
       "      <td>0.3908</td>\n",
       "      <td>0.4563</td>\n",
       "      <td>0.5167</td>\n",
       "      <td>0.3592</td>\n",
       "    </tr>\n",
       "  </tbody>\n",
       "</table>\n",
       "</div>"
      ],
      "text/plain": [
       "                                    <b>Grp0: Mean x: 0.97; SD x :0.99  \\\n",
       "Neither satisfied nor dissatisfied                             0.0885   \n",
       "Not Specified                                                  0.0007   \n",
       "Slightly dissatisfied                                          0.1473   \n",
       "Slightly satisfied                                             0.2931   \n",
       "Very dissatisfied                                              0.0598   \n",
       "Very satisfied                                                 0.4105   \n",
       "\n",
       "                                    <b>Grp1: Mean x: 0.89; SD x :0.82  \\\n",
       "Neither satisfied nor dissatisfied                             0.0822   \n",
       "Not Specified                                                  0.0000   \n",
       "Slightly dissatisfied                                          0.1370   \n",
       "Slightly satisfied                                             0.3607   \n",
       "Very dissatisfied                                              0.0342   \n",
       "Very satisfied                                                 0.3858   \n",
       "\n",
       "                                    <b>Grp2: Mean x: 1.18; SD x :1.14  \\\n",
       "Neither satisfied nor dissatisfied                             0.0664   \n",
       "Not Specified                                                  0.0000   \n",
       "Slightly dissatisfied                                          0.1641   \n",
       "Slightly satisfied                                             0.3164   \n",
       "Very dissatisfied                                              0.0664   \n",
       "Very satisfied                                                 0.3867   \n",
       "\n",
       "                                    <b>Grp3: Mean x: 1.26; SD x :1.24  \\\n",
       "Neither satisfied nor dissatisfied                             0.0712   \n",
       "Not Specified                                                  0.0016   \n",
       "Slightly dissatisfied                                          0.1203   \n",
       "Slightly satisfied                                             0.2896   \n",
       "Very dissatisfied                                              0.0696   \n",
       "Very satisfied                                                 0.4478   \n",
       "\n",
       "                                    <b>Grp4: Mean x: 1.05; SD x :1.04  \\\n",
       "Neither satisfied nor dissatisfied                             0.0862   \n",
       "Not Specified                                                  0.0019   \n",
       "Slightly dissatisfied                                          0.1360   \n",
       "Slightly satisfied                                             0.3103   \n",
       "Very dissatisfied                                              0.0747   \n",
       "Very satisfied                                                 0.3908   \n",
       "\n",
       "                                    <b>Grp5: Mean x: 0.77; SD x :0.74  \\\n",
       "Neither satisfied nor dissatisfied                             0.0922   \n",
       "Not Specified                                                  0.0049   \n",
       "Slightly dissatisfied                                          0.1165   \n",
       "Slightly satisfied                                             0.2718   \n",
       "Very dissatisfied                                              0.0583   \n",
       "Very satisfied                                                 0.4563   \n",
       "\n",
       "                                    <b>Grp6: Mean x: 1.06; SD x :0.76  \\\n",
       "Neither satisfied nor dissatisfied                             0.0478   \n",
       "Not Specified                                                  0.0000   \n",
       "Slightly dissatisfied                                          0.0957   \n",
       "Slightly satisfied                                             0.2632   \n",
       "Very dissatisfied                                              0.0766   \n",
       "Very satisfied                                                 0.5167   \n",
       "\n",
       "                                    <b>Grp7: Mean x: 1.07; SD x :0.94  \n",
       "Neither satisfied nor dissatisfied                             0.1197  \n",
       "Not Specified                                                  0.0032  \n",
       "Slightly dissatisfied                                          0.1165  \n",
       "Slightly satisfied                                             0.3333  \n",
       "Very dissatisfied                                              0.0680  \n",
       "Very satisfied                                                 0.3592  "
      ]
     },
     "execution_count": 14,
     "metadata": {},
     "output_type": "execute_result"
    }
   ],
   "source": [
    "#Label encode JobSat values and aggregate data by cluster groups for visualization\n",
    "from sklearn.preprocessing import LabelEncoder\n",
    "\n",
    "# creating instance of labelencoder\n",
    "labelencoder = LabelEncoder()\n",
    "# Assigning numerical values and storing in another column\n",
    "us_community_df['Ef_Cat_JobSat'] = labelencoder.fit_transform(us_community_df['JobSat'])\n",
    "country_jobsat_pct = (us_community_df.Ef_Cat_JobSat.value_counts()/us_community_df.shape[0])*100\n",
    "country_jobsat_pct\n",
    "\n",
    "#Aggregate data \n",
    "df_g = group_data_for_viz(us_community_df,['Ef_Cat_DeveloperSegment','Ef_Cat_JobSat'],disp_colname='')\n",
    "df_g ['Relative_Pct'] = df_g.apply(lambda row : \\\n",
    "                calc_grp_vs_nat_rel_jobsat_levels(row,country_jobsat_pct), axis=1)\n",
    "df_g ['JobSat'] = labelencoder.inverse_transform(df_g.Ef_Cat_JobSat)\n",
    "\n",
    "cols=us_community_df.Ef_Cat_DeveloperSegment.unique().tolist()\n",
    "cols.sort(key=int) #Sort the groups numerically in ascending order\n",
    "jobsatvsrolegroup_df =pd.DataFrame(data=0, index=us_community_df.Ef_Cat_JobSat.unique().tolist(), columns=cols).sort_index()\n",
    "x=df_g.apply(lambda row : create_cont_matrix(row,'Ef_Cat_JobSat',jobsatvsrolegroup_df), axis=1)\n",
    "jobsatvsrolegroup_df = jobsatvsrolegroup_df/100\n",
    "jobsatvsrolegroup_df.columns=clustwise_comp_df.Ef_Cat_DeveloperSegmentDesc.tolist()\n",
    "jobsatvsrolegroup_df.index = labelencoder.inverse_transform(jobsatvsrolegroup_df.index.values)\n",
    "jobsatvsrolegroup_df"
   ]
  },
  {
   "cell_type": "code",
   "execution_count": 15,
   "metadata": {},
   "outputs": [
    {
     "data": {
      "application/vnd.plotly.v1+json": {
       "config": {
        "plotlyServerURL": "https://plot.ly"
       },
       "data": [
        {
         "name": "<b> Slightly Satisfied <b>",
         "type": "bar",
         "x": [
          "<b>Grp0: Mean x: 0.97; SD x :0.99",
          "<b>Grp1: Mean x: 0.89; SD x :0.82",
          "<b>Grp2: Mean x: 1.18; SD x :1.14",
          "<b>Grp3: Mean x: 1.26; SD x :1.24",
          "<b>Grp4: Mean x: 1.05; SD x :1.04",
          "<b>Grp5: Mean x: 0.77; SD x :0.74",
          "<b>Grp6: Mean x: 1.06; SD x :0.76",
          "<b>Grp7: Mean x: 1.07; SD x :0.94"
         ],
         "xaxis": "x",
         "y": [
          -0.5481736750435431,
          6.2118263249564585,
          1.7818263249564588,
          -0.898173675043541,
          1.1718263249564593,
          -2.678173675043542,
          -3.5381736750435415,
          3.4718263249564565
         ],
         "yaxis": "y"
        },
        {
         "name": "<b> Very Satisfied <b>",
         "type": "bar",
         "x": [
          "<b>Grp0: Mean x: 0.97; SD x :0.99",
          "<b>Grp1: Mean x: 0.89; SD x :0.82",
          "<b>Grp2: Mean x: 1.18; SD x :1.14",
          "<b>Grp3: Mean x: 1.26; SD x :1.24",
          "<b>Grp4: Mean x: 1.05; SD x :1.04",
          "<b>Grp5: Mean x: 0.77; SD x :0.74",
          "<b>Grp6: Mean x: 1.06; SD x :0.76",
          "<b>Grp7: Mean x: 1.07; SD x :0.94"
         ],
         "xaxis": "x",
         "y": [
          -0.15427967156009004,
          -2.624279671560089,
          -2.5342796715600855,
          3.575720328439914,
          -2.124279671560089,
          4.425720328439915,
          10.465720328439915,
          -5.2842796715600855
         ],
         "yaxis": "y"
        },
        {
         "name": "<b> Neither Satisfied nor DIssatisfied <b>",
         "type": "bar",
         "x": [
          "<b>Grp0: Mean x: 0.97; SD x :0.99",
          "<b>Grp1: Mean x: 0.89; SD x :0.82",
          "<b>Grp2: Mean x: 1.18; SD x :1.14",
          "<b>Grp3: Mean x: 1.26; SD x :1.24",
          "<b>Grp4: Mean x: 1.05; SD x :1.04",
          "<b>Grp5: Mean x: 0.77; SD x :0.74",
          "<b>Grp6: Mean x: 1.06; SD x :0.76",
          "<b>Grp7: Mean x: 1.07; SD x :0.94"
         ],
         "xaxis": "x2",
         "y": [
          0.22845235133117647,
          -0.40154764866882253,
          -1.9815476486688235,
          -1.501547648668823,
          -0.0015476486688239532,
          0.5984523513311775,
          -3.841547648668823,
          3.3484523513311775
         ],
         "yaxis": "y2"
        },
        {
         "name": "<b> Not Specified <b>",
         "type": "bar",
         "x": [
          "<b>Grp0: Mean x: 0.97; SD x :0.99",
          "<b>Grp1: Mean x: 0.89; SD x :0.82",
          "<b>Grp2: Mean x: 1.18; SD x :1.14",
          "<b>Grp3: Mean x: 1.26; SD x :1.24",
          "<b>Grp4: Mean x: 1.05; SD x :1.04",
          "<b>Grp5: Mean x: 0.77; SD x :0.74",
          "<b>Grp6: Mean x: 1.06; SD x :0.76",
          "<b>Grp7: Mean x: 1.07; SD x :0.94"
         ],
         "xaxis": "x2",
         "y": [
          -0.029527245583478468,
          0.06047275441652153,
          0.09047275441652153,
          0.3904727544165215,
          0.22047275441652153
         ],
         "yaxis": "y2"
        },
        {
         "name": "<b> Slightly Dissatisfied <b>",
         "type": "bar",
         "x": [
          "<b>Grp0: Mean x: 0.97; SD x :0.99",
          "<b>Grp1: Mean x: 0.89; SD x :0.82",
          "<b>Grp2: Mean x: 1.18; SD x :1.14",
          "<b>Grp3: Mean x: 1.26; SD x :1.24",
          "<b>Grp4: Mean x: 1.05; SD x :1.04",
          "<b>Grp5: Mean x: 0.77; SD x :0.74",
          "<b>Grp6: Mean x: 1.06; SD x :0.76",
          "<b>Grp7: Mean x: 1.07; SD x :0.94"
         ],
         "xaxis": "x3",
         "y": [
          0.6220129385419266,
          -0.4079870614580745,
          2.3020129385419263,
          -2.0779870614580744,
          -0.5079870614580742,
          -2.4579870614580734,
          -4.5379870614580735,
          -2.4579870614580734
         ],
         "yaxis": "y3"
        },
        {
         "name": "<b> Very Dissatisfied <b>",
         "type": "bar",
         "x": [
          "<b>Grp0: Mean x: 0.97; SD x :0.99",
          "<b>Grp1: Mean x: 0.89; SD x :0.82",
          "<b>Grp2: Mean x: 1.18; SD x :1.14",
          "<b>Grp3: Mean x: 1.26; SD x :1.24",
          "<b>Grp4: Mean x: 1.05; SD x :1.04",
          "<b>Grp5: Mean x: 0.77; SD x :0.74",
          "<b>Grp6: Mean x: 1.06; SD x :0.76",
          "<b>Grp7: Mean x: 1.07; SD x :0.94"
         ],
         "xaxis": "x3",
         "y": [
          -0.12848469768599102,
          -2.6884846976859915,
          0.5315153023140082,
          0.8515153023140085,
          1.3615153023140083,
          -0.2784846976859914,
          1.5515153023140087,
          0.6915153023140084
         ],
         "yaxis": "y3"
        }
       ],
       "layout": {
        "annotations": [
         {
          "font": {
           "size": 16
          },
          "showarrow": false,
          "text": "<b>JobSat - Slightly/ Very Satisfied",
          "x": 0.5,
          "xanchor": "center",
          "xref": "paper",
          "y": 1,
          "yanchor": "bottom",
          "yref": "paper"
         },
         {
          "font": {
           "size": 16
          },
          "showarrow": false,
          "text": "<b>JobSat - Neutral/ Not Specified",
          "x": 0.5,
          "xanchor": "center",
          "xref": "paper",
          "y": 0.6111111111111112,
          "yanchor": "bottom",
          "yref": "paper"
         },
         {
          "font": {
           "size": 16
          },
          "showarrow": false,
          "text": "<b>JobSat - Slightly/ Very Dissatisfied",
          "x": 0.5,
          "xanchor": "center",
          "xref": "paper",
          "y": 0.22222222222222224,
          "yanchor": "bottom",
          "yref": "paper"
         }
        ],
        "height": 800,
        "template": {
         "data": {
          "bar": [
           {
            "error_x": {
             "color": "#2a3f5f"
            },
            "error_y": {
             "color": "#2a3f5f"
            },
            "marker": {
             "line": {
              "color": "#E5ECF6",
              "width": 0.5
             }
            },
            "type": "bar"
           }
          ],
          "barpolar": [
           {
            "marker": {
             "line": {
              "color": "#E5ECF6",
              "width": 0.5
             }
            },
            "type": "barpolar"
           }
          ],
          "carpet": [
           {
            "aaxis": {
             "endlinecolor": "#2a3f5f",
             "gridcolor": "white",
             "linecolor": "white",
             "minorgridcolor": "white",
             "startlinecolor": "#2a3f5f"
            },
            "baxis": {
             "endlinecolor": "#2a3f5f",
             "gridcolor": "white",
             "linecolor": "white",
             "minorgridcolor": "white",
             "startlinecolor": "#2a3f5f"
            },
            "type": "carpet"
           }
          ],
          "choropleth": [
           {
            "colorbar": {
             "outlinewidth": 0,
             "ticks": ""
            },
            "type": "choropleth"
           }
          ],
          "contour": [
           {
            "colorbar": {
             "outlinewidth": 0,
             "ticks": ""
            },
            "colorscale": [
             [
              0,
              "#0d0887"
             ],
             [
              0.1111111111111111,
              "#46039f"
             ],
             [
              0.2222222222222222,
              "#7201a8"
             ],
             [
              0.3333333333333333,
              "#9c179e"
             ],
             [
              0.4444444444444444,
              "#bd3786"
             ],
             [
              0.5555555555555556,
              "#d8576b"
             ],
             [
              0.6666666666666666,
              "#ed7953"
             ],
             [
              0.7777777777777778,
              "#fb9f3a"
             ],
             [
              0.8888888888888888,
              "#fdca26"
             ],
             [
              1,
              "#f0f921"
             ]
            ],
            "type": "contour"
           }
          ],
          "contourcarpet": [
           {
            "colorbar": {
             "outlinewidth": 0,
             "ticks": ""
            },
            "type": "contourcarpet"
           }
          ],
          "heatmap": [
           {
            "colorbar": {
             "outlinewidth": 0,
             "ticks": ""
            },
            "colorscale": [
             [
              0,
              "#0d0887"
             ],
             [
              0.1111111111111111,
              "#46039f"
             ],
             [
              0.2222222222222222,
              "#7201a8"
             ],
             [
              0.3333333333333333,
              "#9c179e"
             ],
             [
              0.4444444444444444,
              "#bd3786"
             ],
             [
              0.5555555555555556,
              "#d8576b"
             ],
             [
              0.6666666666666666,
              "#ed7953"
             ],
             [
              0.7777777777777778,
              "#fb9f3a"
             ],
             [
              0.8888888888888888,
              "#fdca26"
             ],
             [
              1,
              "#f0f921"
             ]
            ],
            "type": "heatmap"
           }
          ],
          "heatmapgl": [
           {
            "colorbar": {
             "outlinewidth": 0,
             "ticks": ""
            },
            "colorscale": [
             [
              0,
              "#0d0887"
             ],
             [
              0.1111111111111111,
              "#46039f"
             ],
             [
              0.2222222222222222,
              "#7201a8"
             ],
             [
              0.3333333333333333,
              "#9c179e"
             ],
             [
              0.4444444444444444,
              "#bd3786"
             ],
             [
              0.5555555555555556,
              "#d8576b"
             ],
             [
              0.6666666666666666,
              "#ed7953"
             ],
             [
              0.7777777777777778,
              "#fb9f3a"
             ],
             [
              0.8888888888888888,
              "#fdca26"
             ],
             [
              1,
              "#f0f921"
             ]
            ],
            "type": "heatmapgl"
           }
          ],
          "histogram": [
           {
            "marker": {
             "colorbar": {
              "outlinewidth": 0,
              "ticks": ""
             }
            },
            "type": "histogram"
           }
          ],
          "histogram2d": [
           {
            "colorbar": {
             "outlinewidth": 0,
             "ticks": ""
            },
            "colorscale": [
             [
              0,
              "#0d0887"
             ],
             [
              0.1111111111111111,
              "#46039f"
             ],
             [
              0.2222222222222222,
              "#7201a8"
             ],
             [
              0.3333333333333333,
              "#9c179e"
             ],
             [
              0.4444444444444444,
              "#bd3786"
             ],
             [
              0.5555555555555556,
              "#d8576b"
             ],
             [
              0.6666666666666666,
              "#ed7953"
             ],
             [
              0.7777777777777778,
              "#fb9f3a"
             ],
             [
              0.8888888888888888,
              "#fdca26"
             ],
             [
              1,
              "#f0f921"
             ]
            ],
            "type": "histogram2d"
           }
          ],
          "histogram2dcontour": [
           {
            "colorbar": {
             "outlinewidth": 0,
             "ticks": ""
            },
            "colorscale": [
             [
              0,
              "#0d0887"
             ],
             [
              0.1111111111111111,
              "#46039f"
             ],
             [
              0.2222222222222222,
              "#7201a8"
             ],
             [
              0.3333333333333333,
              "#9c179e"
             ],
             [
              0.4444444444444444,
              "#bd3786"
             ],
             [
              0.5555555555555556,
              "#d8576b"
             ],
             [
              0.6666666666666666,
              "#ed7953"
             ],
             [
              0.7777777777777778,
              "#fb9f3a"
             ],
             [
              0.8888888888888888,
              "#fdca26"
             ],
             [
              1,
              "#f0f921"
             ]
            ],
            "type": "histogram2dcontour"
           }
          ],
          "mesh3d": [
           {
            "colorbar": {
             "outlinewidth": 0,
             "ticks": ""
            },
            "type": "mesh3d"
           }
          ],
          "parcoords": [
           {
            "line": {
             "colorbar": {
              "outlinewidth": 0,
              "ticks": ""
             }
            },
            "type": "parcoords"
           }
          ],
          "pie": [
           {
            "automargin": true,
            "type": "pie"
           }
          ],
          "scatter": [
           {
            "marker": {
             "colorbar": {
              "outlinewidth": 0,
              "ticks": ""
             }
            },
            "type": "scatter"
           }
          ],
          "scatter3d": [
           {
            "line": {
             "colorbar": {
              "outlinewidth": 0,
              "ticks": ""
             }
            },
            "marker": {
             "colorbar": {
              "outlinewidth": 0,
              "ticks": ""
             }
            },
            "type": "scatter3d"
           }
          ],
          "scattercarpet": [
           {
            "marker": {
             "colorbar": {
              "outlinewidth": 0,
              "ticks": ""
             }
            },
            "type": "scattercarpet"
           }
          ],
          "scattergeo": [
           {
            "marker": {
             "colorbar": {
              "outlinewidth": 0,
              "ticks": ""
             }
            },
            "type": "scattergeo"
           }
          ],
          "scattergl": [
           {
            "marker": {
             "colorbar": {
              "outlinewidth": 0,
              "ticks": ""
             }
            },
            "type": "scattergl"
           }
          ],
          "scattermapbox": [
           {
            "marker": {
             "colorbar": {
              "outlinewidth": 0,
              "ticks": ""
             }
            },
            "type": "scattermapbox"
           }
          ],
          "scatterpolar": [
           {
            "marker": {
             "colorbar": {
              "outlinewidth": 0,
              "ticks": ""
             }
            },
            "type": "scatterpolar"
           }
          ],
          "scatterpolargl": [
           {
            "marker": {
             "colorbar": {
              "outlinewidth": 0,
              "ticks": ""
             }
            },
            "type": "scatterpolargl"
           }
          ],
          "scatterternary": [
           {
            "marker": {
             "colorbar": {
              "outlinewidth": 0,
              "ticks": ""
             }
            },
            "type": "scatterternary"
           }
          ],
          "surface": [
           {
            "colorbar": {
             "outlinewidth": 0,
             "ticks": ""
            },
            "colorscale": [
             [
              0,
              "#0d0887"
             ],
             [
              0.1111111111111111,
              "#46039f"
             ],
             [
              0.2222222222222222,
              "#7201a8"
             ],
             [
              0.3333333333333333,
              "#9c179e"
             ],
             [
              0.4444444444444444,
              "#bd3786"
             ],
             [
              0.5555555555555556,
              "#d8576b"
             ],
             [
              0.6666666666666666,
              "#ed7953"
             ],
             [
              0.7777777777777778,
              "#fb9f3a"
             ],
             [
              0.8888888888888888,
              "#fdca26"
             ],
             [
              1,
              "#f0f921"
             ]
            ],
            "type": "surface"
           }
          ],
          "table": [
           {
            "cells": {
             "fill": {
              "color": "#EBF0F8"
             },
             "line": {
              "color": "white"
             }
            },
            "header": {
             "fill": {
              "color": "#C8D4E3"
             },
             "line": {
              "color": "white"
             }
            },
            "type": "table"
           }
          ]
         },
         "layout": {
          "annotationdefaults": {
           "arrowcolor": "#2a3f5f",
           "arrowhead": 0,
           "arrowwidth": 1
          },
          "autotypenumbers": "strict",
          "coloraxis": {
           "colorbar": {
            "outlinewidth": 0,
            "ticks": ""
           }
          },
          "colorscale": {
           "diverging": [
            [
             0,
             "#8e0152"
            ],
            [
             0.1,
             "#c51b7d"
            ],
            [
             0.2,
             "#de77ae"
            ],
            [
             0.3,
             "#f1b6da"
            ],
            [
             0.4,
             "#fde0ef"
            ],
            [
             0.5,
             "#f7f7f7"
            ],
            [
             0.6,
             "#e6f5d0"
            ],
            [
             0.7,
             "#b8e186"
            ],
            [
             0.8,
             "#7fbc41"
            ],
            [
             0.9,
             "#4d9221"
            ],
            [
             1,
             "#276419"
            ]
           ],
           "sequential": [
            [
             0,
             "#0d0887"
            ],
            [
             0.1111111111111111,
             "#46039f"
            ],
            [
             0.2222222222222222,
             "#7201a8"
            ],
            [
             0.3333333333333333,
             "#9c179e"
            ],
            [
             0.4444444444444444,
             "#bd3786"
            ],
            [
             0.5555555555555556,
             "#d8576b"
            ],
            [
             0.6666666666666666,
             "#ed7953"
            ],
            [
             0.7777777777777778,
             "#fb9f3a"
            ],
            [
             0.8888888888888888,
             "#fdca26"
            ],
            [
             1,
             "#f0f921"
            ]
           ],
           "sequentialminus": [
            [
             0,
             "#0d0887"
            ],
            [
             0.1111111111111111,
             "#46039f"
            ],
            [
             0.2222222222222222,
             "#7201a8"
            ],
            [
             0.3333333333333333,
             "#9c179e"
            ],
            [
             0.4444444444444444,
             "#bd3786"
            ],
            [
             0.5555555555555556,
             "#d8576b"
            ],
            [
             0.6666666666666666,
             "#ed7953"
            ],
            [
             0.7777777777777778,
             "#fb9f3a"
            ],
            [
             0.8888888888888888,
             "#fdca26"
            ],
            [
             1,
             "#f0f921"
            ]
           ]
          },
          "colorway": [
           "#636efa",
           "#EF553B",
           "#00cc96",
           "#ab63fa",
           "#FFA15A",
           "#19d3f3",
           "#FF6692",
           "#B6E880",
           "#FF97FF",
           "#FECB52"
          ],
          "font": {
           "color": "#2a3f5f"
          },
          "geo": {
           "bgcolor": "white",
           "lakecolor": "white",
           "landcolor": "#E5ECF6",
           "showlakes": true,
           "showland": true,
           "subunitcolor": "white"
          },
          "hoverlabel": {
           "align": "left"
          },
          "hovermode": "closest",
          "mapbox": {
           "style": "light"
          },
          "paper_bgcolor": "white",
          "plot_bgcolor": "#E5ECF6",
          "polar": {
           "angularaxis": {
            "gridcolor": "white",
            "linecolor": "white",
            "ticks": ""
           },
           "bgcolor": "#E5ECF6",
           "radialaxis": {
            "gridcolor": "white",
            "linecolor": "white",
            "ticks": ""
           }
          },
          "scene": {
           "xaxis": {
            "backgroundcolor": "#E5ECF6",
            "gridcolor": "white",
            "gridwidth": 2,
            "linecolor": "white",
            "showbackground": true,
            "ticks": "",
            "zerolinecolor": "white"
           },
           "yaxis": {
            "backgroundcolor": "#E5ECF6",
            "gridcolor": "white",
            "gridwidth": 2,
            "linecolor": "white",
            "showbackground": true,
            "ticks": "",
            "zerolinecolor": "white"
           },
           "zaxis": {
            "backgroundcolor": "#E5ECF6",
            "gridcolor": "white",
            "gridwidth": 2,
            "linecolor": "white",
            "showbackground": true,
            "ticks": "",
            "zerolinecolor": "white"
           }
          },
          "shapedefaults": {
           "line": {
            "color": "#2a3f5f"
           }
          },
          "ternary": {
           "aaxis": {
            "gridcolor": "white",
            "linecolor": "white",
            "ticks": ""
           },
           "baxis": {
            "gridcolor": "white",
            "linecolor": "white",
            "ticks": ""
           },
           "bgcolor": "#E5ECF6",
           "caxis": {
            "gridcolor": "white",
            "linecolor": "white",
            "ticks": ""
           }
          },
          "title": {
           "x": 0.05
          },
          "xaxis": {
           "automargin": true,
           "gridcolor": "white",
           "linecolor": "white",
           "ticks": "",
           "title": {
            "standoff": 15
           },
           "zerolinecolor": "white",
           "zerolinewidth": 2
          },
          "yaxis": {
           "automargin": true,
           "gridcolor": "white",
           "linecolor": "white",
           "ticks": "",
           "title": {
            "standoff": 15
           },
           "zerolinecolor": "white",
           "zerolinewidth": 2
          }
         }
        },
        "title": {
         "text": "<b> Exhibit 5 - Relative JobSat levels across groups"
        },
        "width": 800,
        "xaxis": {
         "anchor": "y",
         "domain": [
          0,
          1
         ],
         "matches": "x3",
         "showticklabels": false
        },
        "xaxis2": {
         "anchor": "y2",
         "domain": [
          0,
          1
         ],
         "matches": "x3",
         "showticklabels": false
        },
        "xaxis3": {
         "anchor": "y3",
         "domain": [
          0,
          1
         ]
        },
        "yaxis": {
         "anchor": "x",
         "domain": [
          0.7777777777777778,
          1
         ]
        },
        "yaxis2": {
         "anchor": "x2",
         "domain": [
          0.3888888888888889,
          0.6111111111111112
         ]
        },
        "yaxis3": {
         "anchor": "x3",
         "domain": [
          0,
          0.22222222222222224
         ]
        }
       }
      },
      "text/html": [
       "<div>                            <div id=\"1835bcef-7c21-4bac-9d83-8b0062f1095e\" class=\"plotly-graph-div\" style=\"height:800px; width:800px;\"></div>            <script type=\"text/javascript\">                require([\"plotly\"], function(Plotly) {                    window.PLOTLYENV=window.PLOTLYENV || {};                                    if (document.getElementById(\"1835bcef-7c21-4bac-9d83-8b0062f1095e\")) {                    Plotly.newPlot(                        \"1835bcef-7c21-4bac-9d83-8b0062f1095e\",                        [{\"name\": \"<b> Slightly Satisfied <b>\", \"type\": \"bar\", \"x\": [\"<b>Grp0: Mean x: 0.97; SD x :0.99\", \"<b>Grp1: Mean x: 0.89; SD x :0.82\", \"<b>Grp2: Mean x: 1.18; SD x :1.14\", \"<b>Grp3: Mean x: 1.26; SD x :1.24\", \"<b>Grp4: Mean x: 1.05; SD x :1.04\", \"<b>Grp5: Mean x: 0.77; SD x :0.74\", \"<b>Grp6: Mean x: 1.06; SD x :0.76\", \"<b>Grp7: Mean x: 1.07; SD x :0.94\"], \"xaxis\": \"x\", \"y\": [-0.5481736750435431, 6.2118263249564585, 1.7818263249564588, -0.898173675043541, 1.1718263249564593, -2.678173675043542, -3.5381736750435415, 3.4718263249564565], \"yaxis\": \"y\"}, {\"name\": \"<b> Very Satisfied <b>\", \"type\": \"bar\", \"x\": [\"<b>Grp0: Mean x: 0.97; SD x :0.99\", \"<b>Grp1: Mean x: 0.89; SD x :0.82\", \"<b>Grp2: Mean x: 1.18; SD x :1.14\", \"<b>Grp3: Mean x: 1.26; SD x :1.24\", \"<b>Grp4: Mean x: 1.05; SD x :1.04\", \"<b>Grp5: Mean x: 0.77; SD x :0.74\", \"<b>Grp6: Mean x: 1.06; SD x :0.76\", \"<b>Grp7: Mean x: 1.07; SD x :0.94\"], \"xaxis\": \"x\", \"y\": [-0.15427967156009004, -2.624279671560089, -2.5342796715600855, 3.575720328439914, -2.124279671560089, 4.425720328439915, 10.465720328439915, -5.2842796715600855], \"yaxis\": \"y\"}, {\"name\": \"<b> Neither Satisfied nor DIssatisfied <b>\", \"type\": \"bar\", \"x\": [\"<b>Grp0: Mean x: 0.97; SD x :0.99\", \"<b>Grp1: Mean x: 0.89; SD x :0.82\", \"<b>Grp2: Mean x: 1.18; SD x :1.14\", \"<b>Grp3: Mean x: 1.26; SD x :1.24\", \"<b>Grp4: Mean x: 1.05; SD x :1.04\", \"<b>Grp5: Mean x: 0.77; SD x :0.74\", \"<b>Grp6: Mean x: 1.06; SD x :0.76\", \"<b>Grp7: Mean x: 1.07; SD x :0.94\"], \"xaxis\": \"x2\", \"y\": [0.22845235133117647, -0.40154764866882253, -1.9815476486688235, -1.501547648668823, -0.0015476486688239532, 0.5984523513311775, -3.841547648668823, 3.3484523513311775], \"yaxis\": \"y2\"}, {\"name\": \"<b> Not Specified <b>\", \"type\": \"bar\", \"x\": [\"<b>Grp0: Mean x: 0.97; SD x :0.99\", \"<b>Grp1: Mean x: 0.89; SD x :0.82\", \"<b>Grp2: Mean x: 1.18; SD x :1.14\", \"<b>Grp3: Mean x: 1.26; SD x :1.24\", \"<b>Grp4: Mean x: 1.05; SD x :1.04\", \"<b>Grp5: Mean x: 0.77; SD x :0.74\", \"<b>Grp6: Mean x: 1.06; SD x :0.76\", \"<b>Grp7: Mean x: 1.07; SD x :0.94\"], \"xaxis\": \"x2\", \"y\": [-0.029527245583478468, 0.06047275441652153, 0.09047275441652153, 0.3904727544165215, 0.22047275441652153], \"yaxis\": \"y2\"}, {\"name\": \"<b> Slightly Dissatisfied <b>\", \"type\": \"bar\", \"x\": [\"<b>Grp0: Mean x: 0.97; SD x :0.99\", \"<b>Grp1: Mean x: 0.89; SD x :0.82\", \"<b>Grp2: Mean x: 1.18; SD x :1.14\", \"<b>Grp3: Mean x: 1.26; SD x :1.24\", \"<b>Grp4: Mean x: 1.05; SD x :1.04\", \"<b>Grp5: Mean x: 0.77; SD x :0.74\", \"<b>Grp6: Mean x: 1.06; SD x :0.76\", \"<b>Grp7: Mean x: 1.07; SD x :0.94\"], \"xaxis\": \"x3\", \"y\": [0.6220129385419266, -0.4079870614580745, 2.3020129385419263, -2.0779870614580744, -0.5079870614580742, -2.4579870614580734, -4.5379870614580735, -2.4579870614580734], \"yaxis\": \"y3\"}, {\"name\": \"<b> Very Dissatisfied <b>\", \"type\": \"bar\", \"x\": [\"<b>Grp0: Mean x: 0.97; SD x :0.99\", \"<b>Grp1: Mean x: 0.89; SD x :0.82\", \"<b>Grp2: Mean x: 1.18; SD x :1.14\", \"<b>Grp3: Mean x: 1.26; SD x :1.24\", \"<b>Grp4: Mean x: 1.05; SD x :1.04\", \"<b>Grp5: Mean x: 0.77; SD x :0.74\", \"<b>Grp6: Mean x: 1.06; SD x :0.76\", \"<b>Grp7: Mean x: 1.07; SD x :0.94\"], \"xaxis\": \"x3\", \"y\": [-0.12848469768599102, -2.6884846976859915, 0.5315153023140082, 0.8515153023140085, 1.3615153023140083, -0.2784846976859914, 1.5515153023140087, 0.6915153023140084], \"yaxis\": \"y3\"}],                        {\"annotations\": [{\"font\": {\"size\": 16}, \"showarrow\": false, \"text\": \"<b>JobSat - Slightly/ Very Satisfied\", \"x\": 0.5, \"xanchor\": \"center\", \"xref\": \"paper\", \"y\": 1.0, \"yanchor\": \"bottom\", \"yref\": \"paper\"}, {\"font\": {\"size\": 16}, \"showarrow\": false, \"text\": \"<b>JobSat - Neutral/ Not Specified\", \"x\": 0.5, \"xanchor\": \"center\", \"xref\": \"paper\", \"y\": 0.6111111111111112, \"yanchor\": \"bottom\", \"yref\": \"paper\"}, {\"font\": {\"size\": 16}, \"showarrow\": false, \"text\": \"<b>JobSat - Slightly/ Very Dissatisfied\", \"x\": 0.5, \"xanchor\": \"center\", \"xref\": \"paper\", \"y\": 0.22222222222222224, \"yanchor\": \"bottom\", \"yref\": \"paper\"}], \"height\": 800, \"template\": {\"data\": {\"bar\": [{\"error_x\": {\"color\": \"#2a3f5f\"}, \"error_y\": {\"color\": \"#2a3f5f\"}, \"marker\": {\"line\": {\"color\": \"#E5ECF6\", \"width\": 0.5}}, \"type\": \"bar\"}], \"barpolar\": [{\"marker\": {\"line\": {\"color\": \"#E5ECF6\", \"width\": 0.5}}, \"type\": \"barpolar\"}], \"carpet\": [{\"aaxis\": {\"endlinecolor\": \"#2a3f5f\", \"gridcolor\": \"white\", \"linecolor\": \"white\", \"minorgridcolor\": \"white\", \"startlinecolor\": \"#2a3f5f\"}, \"baxis\": {\"endlinecolor\": \"#2a3f5f\", \"gridcolor\": \"white\", \"linecolor\": \"white\", \"minorgridcolor\": \"white\", \"startlinecolor\": \"#2a3f5f\"}, \"type\": \"carpet\"}], \"choropleth\": [{\"colorbar\": {\"outlinewidth\": 0, \"ticks\": \"\"}, \"type\": \"choropleth\"}], \"contour\": [{\"colorbar\": {\"outlinewidth\": 0, \"ticks\": \"\"}, \"colorscale\": [[0.0, \"#0d0887\"], [0.1111111111111111, \"#46039f\"], [0.2222222222222222, \"#7201a8\"], [0.3333333333333333, \"#9c179e\"], [0.4444444444444444, \"#bd3786\"], [0.5555555555555556, \"#d8576b\"], [0.6666666666666666, \"#ed7953\"], [0.7777777777777778, \"#fb9f3a\"], [0.8888888888888888, \"#fdca26\"], [1.0, \"#f0f921\"]], \"type\": \"contour\"}], \"contourcarpet\": [{\"colorbar\": {\"outlinewidth\": 0, \"ticks\": \"\"}, \"type\": \"contourcarpet\"}], \"heatmap\": [{\"colorbar\": {\"outlinewidth\": 0, \"ticks\": \"\"}, \"colorscale\": [[0.0, \"#0d0887\"], [0.1111111111111111, \"#46039f\"], [0.2222222222222222, \"#7201a8\"], [0.3333333333333333, \"#9c179e\"], [0.4444444444444444, \"#bd3786\"], [0.5555555555555556, \"#d8576b\"], [0.6666666666666666, \"#ed7953\"], [0.7777777777777778, \"#fb9f3a\"], [0.8888888888888888, \"#fdca26\"], [1.0, \"#f0f921\"]], \"type\": \"heatmap\"}], \"heatmapgl\": [{\"colorbar\": {\"outlinewidth\": 0, \"ticks\": \"\"}, \"colorscale\": [[0.0, \"#0d0887\"], [0.1111111111111111, \"#46039f\"], [0.2222222222222222, \"#7201a8\"], [0.3333333333333333, \"#9c179e\"], [0.4444444444444444, \"#bd3786\"], [0.5555555555555556, \"#d8576b\"], [0.6666666666666666, \"#ed7953\"], [0.7777777777777778, \"#fb9f3a\"], [0.8888888888888888, \"#fdca26\"], [1.0, \"#f0f921\"]], \"type\": \"heatmapgl\"}], \"histogram\": [{\"marker\": {\"colorbar\": {\"outlinewidth\": 0, \"ticks\": \"\"}}, \"type\": \"histogram\"}], \"histogram2d\": [{\"colorbar\": {\"outlinewidth\": 0, \"ticks\": \"\"}, \"colorscale\": [[0.0, \"#0d0887\"], [0.1111111111111111, \"#46039f\"], [0.2222222222222222, \"#7201a8\"], [0.3333333333333333, \"#9c179e\"], [0.4444444444444444, \"#bd3786\"], [0.5555555555555556, \"#d8576b\"], [0.6666666666666666, \"#ed7953\"], [0.7777777777777778, \"#fb9f3a\"], [0.8888888888888888, \"#fdca26\"], [1.0, \"#f0f921\"]], \"type\": \"histogram2d\"}], \"histogram2dcontour\": [{\"colorbar\": {\"outlinewidth\": 0, \"ticks\": \"\"}, \"colorscale\": [[0.0, \"#0d0887\"], [0.1111111111111111, \"#46039f\"], [0.2222222222222222, \"#7201a8\"], [0.3333333333333333, \"#9c179e\"], [0.4444444444444444, \"#bd3786\"], [0.5555555555555556, \"#d8576b\"], [0.6666666666666666, \"#ed7953\"], [0.7777777777777778, \"#fb9f3a\"], [0.8888888888888888, \"#fdca26\"], [1.0, \"#f0f921\"]], \"type\": \"histogram2dcontour\"}], \"mesh3d\": [{\"colorbar\": {\"outlinewidth\": 0, \"ticks\": \"\"}, \"type\": \"mesh3d\"}], \"parcoords\": [{\"line\": {\"colorbar\": {\"outlinewidth\": 0, \"ticks\": \"\"}}, \"type\": \"parcoords\"}], \"pie\": [{\"automargin\": true, \"type\": \"pie\"}], \"scatter\": [{\"marker\": {\"colorbar\": {\"outlinewidth\": 0, \"ticks\": \"\"}}, \"type\": \"scatter\"}], \"scatter3d\": [{\"line\": {\"colorbar\": {\"outlinewidth\": 0, \"ticks\": \"\"}}, \"marker\": {\"colorbar\": {\"outlinewidth\": 0, \"ticks\": \"\"}}, \"type\": \"scatter3d\"}], \"scattercarpet\": [{\"marker\": {\"colorbar\": {\"outlinewidth\": 0, \"ticks\": \"\"}}, \"type\": \"scattercarpet\"}], \"scattergeo\": [{\"marker\": {\"colorbar\": {\"outlinewidth\": 0, \"ticks\": \"\"}}, \"type\": \"scattergeo\"}], \"scattergl\": [{\"marker\": {\"colorbar\": {\"outlinewidth\": 0, \"ticks\": \"\"}}, \"type\": \"scattergl\"}], \"scattermapbox\": [{\"marker\": {\"colorbar\": {\"outlinewidth\": 0, \"ticks\": \"\"}}, \"type\": \"scattermapbox\"}], \"scatterpolar\": [{\"marker\": {\"colorbar\": {\"outlinewidth\": 0, \"ticks\": \"\"}}, \"type\": \"scatterpolar\"}], \"scatterpolargl\": [{\"marker\": {\"colorbar\": {\"outlinewidth\": 0, \"ticks\": \"\"}}, \"type\": \"scatterpolargl\"}], \"scatterternary\": [{\"marker\": {\"colorbar\": {\"outlinewidth\": 0, \"ticks\": \"\"}}, \"type\": \"scatterternary\"}], \"surface\": [{\"colorbar\": {\"outlinewidth\": 0, \"ticks\": \"\"}, \"colorscale\": [[0.0, \"#0d0887\"], [0.1111111111111111, \"#46039f\"], [0.2222222222222222, \"#7201a8\"], [0.3333333333333333, \"#9c179e\"], [0.4444444444444444, \"#bd3786\"], [0.5555555555555556, \"#d8576b\"], [0.6666666666666666, \"#ed7953\"], [0.7777777777777778, \"#fb9f3a\"], [0.8888888888888888, \"#fdca26\"], [1.0, \"#f0f921\"]], \"type\": \"surface\"}], \"table\": [{\"cells\": {\"fill\": {\"color\": \"#EBF0F8\"}, \"line\": {\"color\": \"white\"}}, \"header\": {\"fill\": {\"color\": \"#C8D4E3\"}, \"line\": {\"color\": \"white\"}}, \"type\": \"table\"}]}, \"layout\": {\"annotationdefaults\": {\"arrowcolor\": \"#2a3f5f\", \"arrowhead\": 0, \"arrowwidth\": 1}, \"autotypenumbers\": \"strict\", \"coloraxis\": {\"colorbar\": {\"outlinewidth\": 0, \"ticks\": \"\"}}, \"colorscale\": {\"diverging\": [[0, \"#8e0152\"], [0.1, \"#c51b7d\"], [0.2, \"#de77ae\"], [0.3, \"#f1b6da\"], [0.4, \"#fde0ef\"], [0.5, \"#f7f7f7\"], [0.6, \"#e6f5d0\"], [0.7, \"#b8e186\"], [0.8, \"#7fbc41\"], [0.9, \"#4d9221\"], [1, \"#276419\"]], \"sequential\": [[0.0, \"#0d0887\"], [0.1111111111111111, \"#46039f\"], [0.2222222222222222, \"#7201a8\"], [0.3333333333333333, \"#9c179e\"], [0.4444444444444444, \"#bd3786\"], [0.5555555555555556, \"#d8576b\"], [0.6666666666666666, \"#ed7953\"], [0.7777777777777778, \"#fb9f3a\"], [0.8888888888888888, \"#fdca26\"], [1.0, \"#f0f921\"]], \"sequentialminus\": [[0.0, \"#0d0887\"], [0.1111111111111111, \"#46039f\"], [0.2222222222222222, \"#7201a8\"], [0.3333333333333333, \"#9c179e\"], [0.4444444444444444, \"#bd3786\"], [0.5555555555555556, \"#d8576b\"], [0.6666666666666666, \"#ed7953\"], [0.7777777777777778, \"#fb9f3a\"], [0.8888888888888888, \"#fdca26\"], [1.0, \"#f0f921\"]]}, \"colorway\": [\"#636efa\", \"#EF553B\", \"#00cc96\", \"#ab63fa\", \"#FFA15A\", \"#19d3f3\", \"#FF6692\", \"#B6E880\", \"#FF97FF\", \"#FECB52\"], \"font\": {\"color\": \"#2a3f5f\"}, \"geo\": {\"bgcolor\": \"white\", \"lakecolor\": \"white\", \"landcolor\": \"#E5ECF6\", \"showlakes\": true, \"showland\": true, \"subunitcolor\": \"white\"}, \"hoverlabel\": {\"align\": \"left\"}, \"hovermode\": \"closest\", \"mapbox\": {\"style\": \"light\"}, \"paper_bgcolor\": \"white\", \"plot_bgcolor\": \"#E5ECF6\", \"polar\": {\"angularaxis\": {\"gridcolor\": \"white\", \"linecolor\": \"white\", \"ticks\": \"\"}, \"bgcolor\": \"#E5ECF6\", \"radialaxis\": {\"gridcolor\": \"white\", \"linecolor\": \"white\", \"ticks\": \"\"}}, \"scene\": {\"xaxis\": {\"backgroundcolor\": \"#E5ECF6\", \"gridcolor\": \"white\", \"gridwidth\": 2, \"linecolor\": \"white\", \"showbackground\": true, \"ticks\": \"\", \"zerolinecolor\": \"white\"}, \"yaxis\": {\"backgroundcolor\": \"#E5ECF6\", \"gridcolor\": \"white\", \"gridwidth\": 2, \"linecolor\": \"white\", \"showbackground\": true, \"ticks\": \"\", \"zerolinecolor\": \"white\"}, \"zaxis\": {\"backgroundcolor\": \"#E5ECF6\", \"gridcolor\": \"white\", \"gridwidth\": 2, \"linecolor\": \"white\", \"showbackground\": true, \"ticks\": \"\", \"zerolinecolor\": \"white\"}}, \"shapedefaults\": {\"line\": {\"color\": \"#2a3f5f\"}}, \"ternary\": {\"aaxis\": {\"gridcolor\": \"white\", \"linecolor\": \"white\", \"ticks\": \"\"}, \"baxis\": {\"gridcolor\": \"white\", \"linecolor\": \"white\", \"ticks\": \"\"}, \"bgcolor\": \"#E5ECF6\", \"caxis\": {\"gridcolor\": \"white\", \"linecolor\": \"white\", \"ticks\": \"\"}}, \"title\": {\"x\": 0.05}, \"xaxis\": {\"automargin\": true, \"gridcolor\": \"white\", \"linecolor\": \"white\", \"ticks\": \"\", \"title\": {\"standoff\": 15}, \"zerolinecolor\": \"white\", \"zerolinewidth\": 2}, \"yaxis\": {\"automargin\": true, \"gridcolor\": \"white\", \"linecolor\": \"white\", \"ticks\": \"\", \"title\": {\"standoff\": 15}, \"zerolinecolor\": \"white\", \"zerolinewidth\": 2}}}, \"title\": {\"text\": \"<b> Exhibit 5 - Relative JobSat levels across groups\"}, \"width\": 800, \"xaxis\": {\"anchor\": \"y\", \"domain\": [0.0, 1.0], \"matches\": \"x3\", \"showticklabels\": false}, \"xaxis2\": {\"anchor\": \"y2\", \"domain\": [0.0, 1.0], \"matches\": \"x3\", \"showticklabels\": false}, \"xaxis3\": {\"anchor\": \"y3\", \"domain\": [0.0, 1.0]}, \"yaxis\": {\"anchor\": \"x\", \"domain\": [0.7777777777777778, 1.0]}, \"yaxis2\": {\"anchor\": \"x2\", \"domain\": [0.3888888888888889, 0.6111111111111112]}, \"yaxis3\": {\"anchor\": \"x3\", \"domain\": [0.0, 0.22222222222222224]}},                        {\"responsive\": true}                    ).then(function(){\n",
       "                            \n",
       "var gd = document.getElementById('1835bcef-7c21-4bac-9d83-8b0062f1095e');\n",
       "var x = new MutationObserver(function (mutations, observer) {{\n",
       "        var display = window.getComputedStyle(gd).display;\n",
       "        if (!display || display === 'none') {{\n",
       "            console.log([gd, 'removed!']);\n",
       "            Plotly.purge(gd);\n",
       "            observer.disconnect();\n",
       "        }}\n",
       "}});\n",
       "\n",
       "// Listen for the removal of the full notebook cells\n",
       "var notebookContainer = gd.closest('#notebook-container');\n",
       "if (notebookContainer) {{\n",
       "    x.observe(notebookContainer, {childList: true});\n",
       "}}\n",
       "\n",
       "// Listen for the clearing of the current output cell\n",
       "var outputEl = gd.closest('.output');\n",
       "if (outputEl) {{\n",
       "    x.observe(outputEl, {childList: true});\n",
       "}}\n",
       "\n",
       "                        })                };                });            </script>        </div>"
      ]
     },
     "metadata": {},
     "output_type": "display_data"
    }
   ],
   "source": [
    "def viz_relative_jobsat_levels(df,grp_header_list):\n",
    "    '''\n",
    "        INPUT\n",
    "            df     - Input dataframe containing relative percentage of job satisfaction levels vis-a-vis\n",
    "                     corresponding national percentages\n",
    "            grp_header_list - List containing headers to be displayed for each cluster/ group\n",
    "        OUTPUT\n",
    "            fig    - Plotly graph object to be shown/ displayed\n",
    "    '''\n",
    "    import plotly.graph_objects as go\n",
    "    from plotly.subplots import make_subplots\n",
    "    \n",
    "    #df = df1.loc[year_list,]\n",
    "    fig = make_subplots(rows=3,cols=1, shared_xaxes=True, \n",
    "                   subplot_titles=('<b>JobSat - Slightly/ Very Satisfied'\n",
    "                                   ,'<b>JobSat - Neutral/ Not Specified', \n",
    "                                    '<b>JobSat - Slightly/ Very Dissatisfied'))\n",
    "    \n",
    "    fig.add_trace(go.Bar(\n",
    "        x=grp_header_list,\n",
    "        y=df.loc[df['Ef_Cat_JobSat']==3].Relative_Pct,\n",
    "        name = '<b> Slightly Satisfied <b>' # Style name/legend entry with html tags\n",
    "        ), row = 1, col = 1)\n",
    "    fig.add_trace(go.Bar(\n",
    "        x=grp_header_list,\n",
    "        y=df.loc[df['Ef_Cat_JobSat']==5].Relative_Pct,\n",
    "        name = '<b> Very Satisfied <b>' # Style name/legend entry with html tags\n",
    "        ), row = 1, col = 1)\n",
    "    \n",
    "    #plot Neutral and Notspecified jobsat categories in second row\n",
    "    fig.add_trace(go.Bar(\n",
    "        x=grp_header_list,\n",
    "        y=df.loc[df['Ef_Cat_JobSat']==0].Relative_Pct,\n",
    "        name = '<b> Neither Satisfied nor DIssatisfied <b>' # Style name/legend entry with html tags\n",
    "        ), row = 2, col = 1)\n",
    "    fig.add_trace(go.Bar(\n",
    "        x=grp_header_list,\n",
    "        y=df.loc[df['Ef_Cat_JobSat']==1].Relative_Pct,\n",
    "        name = '<b> Not Specified <b>' # Style name/legend entry with html tags\n",
    "        ), row = 2, col = 1)\n",
    "    \n",
    "    #Plot Dissatisfied job sat levels in the third row\n",
    "    fig.add_trace(go.Bar(\n",
    "        x=grp_header_list,\n",
    "        y=df.loc[df['Ef_Cat_JobSat']==2].Relative_Pct,\n",
    "        name = '<b> Slightly Dissatisfied <b>' # Style name/legend entry with html tags\n",
    "        ), row = 3, col = 1)\n",
    "    fig.add_trace(go.Bar(\n",
    "        x=grp_header_list,\n",
    "        y=df.loc[df['Ef_Cat_JobSat']==4].Relative_Pct,\n",
    "        name = '<b> Very Dissatisfied <b>' # Style name/legend entry with html tags\n",
    "        ), row = 3, col = 1)\n",
    "    \n",
    "    title_str = '<b> Exhibit 5 - Relative JobSat levels across groups'\n",
    "    fig.update_layout(height=800, width=800,title=title_str),\n",
    "    \n",
    "    #fig.layout.template = 'plotly_dark'\n",
    "    return fig\n",
    "\n",
    "grp_header_list = clustwise_comp_df.Ef_Cat_DeveloperSegmentDesc.tolist()\n",
    "fig = viz_relative_jobsat_levels(df_g,grp_header_list)\n",
    "fig.show()"
   ]
  },
  {
   "cell_type": "markdown",
   "metadata": {},
   "source": [
    "#### Conduct Statistical test (Chi square Test ) to check if JobSat level (categorical variable) and cluster group categorical variable are independent"
   ]
  },
  {
   "cell_type": "code",
   "execution_count": 16,
   "metadata": {},
   "outputs": [
    {
     "name": "stdout",
     "output_type": "stream",
     "text": [
      "dof=35\n",
      "[[4.71253794e+02 3.77623787e+01 2.20711620e+01 5.44881811e+01\n",
      "  4.50044787e+01 1.77603882e+01 1.80190346e+01 2.66405822e+01]\n",
      " [5.44015924e+00 4.35929336e-01 2.54789749e-01 6.29012192e-01\n",
      "  5.19532222e-01 2.05026126e-01 2.08011943e-01 3.07539189e-01]\n",
      " [7.71142573e+02 6.17929833e+01 3.61164469e+01 8.91624782e+01\n",
      "  7.36436925e+01 2.90624533e+01 2.94856930e+01 4.35936800e+01]\n",
      " [1.63204777e+03 1.30778801e+02 7.64369246e+01 1.88703658e+02\n",
      "  1.55859667e+02 6.15078378e+01 6.24035830e+01 9.22617567e+01]\n",
      " [3.33889774e+02 2.67551630e+01 1.56377208e+01 3.86056233e+01\n",
      "  3.18862901e+01 1.25834785e+01 1.27667330e+01 1.88752177e+01]\n",
      " [2.25222593e+03 1.80474745e+02 1.05482956e+02 2.60411048e+02\n",
      "  2.15086340e+02 8.48808161e+01 8.61169445e+01 1.27321224e+02]]\n",
      "probability=0.950, critical=49.802, stat=58.004\n",
      "Result based on test statistic: Dependent (Reject null hypothesis H0)\n",
      "significance=0.050, p=0.009\n",
      "Result based on p-value: Dependent (Reject null hypothesis H0)\n"
     ]
    }
   ],
   "source": [
    "#Get the compensation levels vs group dataframe as contingency matrix \n",
    "#df_g = group_data_for_viz(us_community_df,['Ef_Cat_DeveloperSegment','Ef_Cat_ConvertedCompQuartile'],disp_colname='')\n",
    "cols=us_community_df.Ef_Cat_DeveloperSegment.unique().tolist()\n",
    "cols.sort(key=int) #Sort the groups numerically in ascending order\n",
    "jobsatvsrolegroup_contmat_df =pd.DataFrame(data=0, index=us_community_df.Ef_Cat_JobSat.unique().tolist(), columns=cols).sort_index()\n",
    "x=df_g.apply(lambda row : create_cont_matrix(row,'Ef_Cat_JobSat',jobsatvsrolegroup_contmat_df,'Count'), axis=1)\n",
    "jobsatvsrolegroup_contmat_df = jobsatvsrolegroup_contmat_df.astype(int)\n",
    "jobsatvsrolegroup_contmat_df\n",
    "\n",
    "#Perform chi sq test to test independence of two categorical variables - Cluster group & JobSat \n",
    "perform_chi_square_test(jobsatvsrolegroup_contmat_df)"
   ]
  },
  {
   "cell_type": "markdown",
   "metadata": {},
   "source": [
    "#### Conclusion: JobSat and Cluster group categorical variables are dependent"
   ]
  },
  {
   "cell_type": "code",
   "execution_count": null,
   "metadata": {},
   "outputs": [],
   "source": []
  }
 ],
 "metadata": {
  "kernelspec": {
   "display_name": "Python 3",
   "language": "python",
   "name": "python3"
  },
  "language_info": {
   "codemirror_mode": {
    "name": "ipython",
    "version": 3
   },
   "file_extension": ".py",
   "mimetype": "text/x-python",
   "name": "python",
   "nbconvert_exporter": "python",
   "pygments_lexer": "ipython3",
   "version": "3.6.13"
  }
 },
 "nbformat": 4,
 "nbformat_minor": 2
}
